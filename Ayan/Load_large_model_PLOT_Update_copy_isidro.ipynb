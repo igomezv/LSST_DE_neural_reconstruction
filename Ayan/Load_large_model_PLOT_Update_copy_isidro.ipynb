{
 "cells": [
  {
   "cell_type": "code",
   "execution_count": 1,
   "metadata": {
    "colab": {
     "base_uri": "https://localhost:8080/"
    },
    "executionInfo": {
     "elapsed": 37805,
     "status": "ok",
     "timestamp": 1698843386954,
     "user": {
      "displayName": "Ayan Mitra",
      "userId": "05562692314601910199"
     },
     "user_tz": -330
    },
    "id": "dNcYBN6Uw7zB",
    "outputId": "a2ac32a0-1ba0-47a3-fe4d-2668149b1ebc"
   },
   "outputs": [],
   "source": [
    "import tensorflow as tf\n",
    "from sklearn.metrics import mean_squared_error, euclidean_distances, median_absolute_error\n",
    "import numpy as np\n",
    "import pandas as pd\n",
    "from astroNN.nn.layers import MCDropout\n",
    "from sklearn.preprocessing import StandardScaler, MinMaxScaler\n",
    "import matplotlib.pyplot as plt\n",
    "import scipy.integrate as intg\n",
    "\n",
    "# from google.colab import drive\n",
    "# from google.colab import files\n",
    "# drive.mount('/content/drive')"
   ]
  },
  {
   "cell_type": "code",
   "execution_count": 2,
   "metadata": {
    "executionInfo": {
     "elapsed": 369,
     "status": "ok",
     "timestamp": 1698843398623,
     "user": {
      "displayName": "Ayan Mitra",
      "userId": "05562692314601910199"
     },
     "user_tz": -330
    },
    "id": "RRprToQtBUSV"
   },
   "outputs": [],
   "source": [
    "def get_smoothed_curve(z_or, prediction, sigma, curve_type='lower', frac=0.05):\n",
    "    \"\"\"\n",
    "    Get the smoothed curve based on the provided data and curve type.\n",
    "\n",
    "    Parameters:\n",
    "    - z_or: Original x-values.\n",
    "    - prediction: Central prediction values.\n",
    "    - sigma: Error values.\n",
    "    - curve_type: String, either 'upper' or 'lower'. Specifies which curve to return.\n",
    "    - frac: Fraction for lowess smoothing.\n",
    "\n",
    "    Returns:\n",
    "    - smoothed_curve: Array with two columns, the first being x-values and the second being y-values of the smoothed curve.\n",
    "    \"\"\"\n",
    "    if curve_type == 'lower':\n",
    "        prediction_curve = prediction - sigma\n",
    "    elif curve_type == 'upper':\n",
    "        prediction_curve = prediction + sigma\n",
    "    else:\n",
    "        raise ValueError(\"curve_type must be either 'upper' or 'lower'\")\n",
    "\n",
    "    f = interp1d(z_or.flatten(), prediction_curve)\n",
    "\n",
    "    new_z_or = np.linspace(min(z_or.flatten()), max(z_or.flatten()), 100)\n",
    "    interpolated_values = f(new_z_or)\n",
    "    smoothed_curve = lowess(interpolated_values, new_z_or.ravel(), frac=frac)\n",
    "\n",
    "    return smoothed_curve\n",
    "\n"
   ]
  },
  {
   "cell_type": "markdown",
   "metadata": {
    "id": "Uzc3jpDow7zC"
   },
   "source": [
    "# Large data set"
   ]
  },
  {
   "cell_type": "code",
   "execution_count": 3,
   "metadata": {
    "executionInfo": {
     "elapsed": 1939,
     "status": "ok",
     "timestamp": 1698843404671,
     "user": {
      "displayName": "Ayan Mitra",
      "userId": "05562692314601910199"
     },
     "user_tz": -330
    },
    "id": "2Bvz5g6Gw7zG"
   },
   "outputs": [],
   "source": [
    "model = tf.keras.models.load_model('../models/large_lsst_model.h5', custom_objects={'MCDropout': MCDropout})"
   ]
  },
  {
   "cell_type": "code",
   "execution_count": 4,
   "metadata": {
    "colab": {
     "base_uri": "https://localhost:8080/",
     "height": 206
    },
    "executionInfo": {
     "elapsed": 454,
     "status": "ok",
     "timestamp": 1698843406629,
     "user": {
      "displayName": "Ayan Mitra",
      "userId": "05562692314601910199"
     },
     "user_tz": -330
    },
    "id": "5KEd863Zw7zG",
    "outputId": "e4f64362-13e6-4074-b8c9-43e1b2596d6f"
   },
   "outputs": [
    {
     "data": {
      "text/html": [
       "<div>\n",
       "<style scoped>\n",
       "    .dataframe tbody tr th:only-of-type {\n",
       "        vertical-align: middle;\n",
       "    }\n",
       "\n",
       "    .dataframe tbody tr th {\n",
       "        vertical-align: top;\n",
       "    }\n",
       "\n",
       "    .dataframe thead th {\n",
       "        text-align: right;\n",
       "    }\n",
       "</style>\n",
       "<table border=\"1\" class=\"dataframe\">\n",
       "  <thead>\n",
       "    <tr style=\"text-align: right;\">\n",
       "      <th></th>\n",
       "      <th>CID</th>\n",
       "      <th>IDSURVEY</th>\n",
       "      <th>zCMB</th>\n",
       "      <th>zHEL</th>\n",
       "      <th>MU</th>\n",
       "      <th>MUERR</th>\n",
       "      <th>MUERR_VPEC</th>\n",
       "      <th>MUERR_SYS</th>\n",
       "    </tr>\n",
       "  </thead>\n",
       "  <tbody>\n",
       "    <tr>\n",
       "      <th>0</th>\n",
       "      <td>SN:2521</td>\n",
       "      <td>50</td>\n",
       "      <td>0.01988</td>\n",
       "      <td>0.01988</td>\n",
       "      <td>34.84680</td>\n",
       "      <td>0.1320</td>\n",
       "      <td>0.0736</td>\n",
       "      <td>0.00796</td>\n",
       "    </tr>\n",
       "    <tr>\n",
       "      <th>1</th>\n",
       "      <td>SN:57482</td>\n",
       "      <td>50</td>\n",
       "      <td>0.02321</td>\n",
       "      <td>0.02321</td>\n",
       "      <td>34.89863</td>\n",
       "      <td>0.1551</td>\n",
       "      <td>0.0631</td>\n",
       "      <td>0.00720</td>\n",
       "    </tr>\n",
       "    <tr>\n",
       "      <th>2</th>\n",
       "      <td>SN:52921</td>\n",
       "      <td>50</td>\n",
       "      <td>0.02364</td>\n",
       "      <td>0.02364</td>\n",
       "      <td>35.28915</td>\n",
       "      <td>0.1243</td>\n",
       "      <td>0.0620</td>\n",
       "      <td>0.00771</td>\n",
       "    </tr>\n",
       "    <tr>\n",
       "      <th>3</th>\n",
       "      <td>SN:21365</td>\n",
       "      <td>50</td>\n",
       "      <td>0.02470</td>\n",
       "      <td>0.02470</td>\n",
       "      <td>35.11988</td>\n",
       "      <td>0.1444</td>\n",
       "      <td>0.0594</td>\n",
       "      <td>0.00717</td>\n",
       "    </tr>\n",
       "    <tr>\n",
       "      <th>4</th>\n",
       "      <td>SN:117311</td>\n",
       "      <td>50</td>\n",
       "      <td>0.02471</td>\n",
       "      <td>0.02471</td>\n",
       "      <td>35.19347</td>\n",
       "      <td>0.1232</td>\n",
       "      <td>0.0593</td>\n",
       "      <td>0.00702</td>\n",
       "    </tr>\n",
       "  </tbody>\n",
       "</table>\n",
       "</div>"
      ],
      "text/plain": [
       "         CID  IDSURVEY     zCMB     zHEL        MU   MUERR  MUERR_VPEC  \\\n",
       "0    SN:2521        50  0.01988  0.01988  34.84680  0.1320      0.0736   \n",
       "1   SN:57482        50  0.02321  0.02321  34.89863  0.1551      0.0631   \n",
       "2   SN:52921        50  0.02364  0.02364  35.28915  0.1243      0.0620   \n",
       "3   SN:21365        50  0.02470  0.02470  35.11988  0.1444      0.0594   \n",
       "4  SN:117311        50  0.02471  0.02471  35.19347  0.1232      0.0593   \n",
       "\n",
       "   MUERR_SYS  \n",
       "0    0.00796  \n",
       "1    0.00720  \n",
       "2    0.00771  \n",
       "3    0.00717  \n",
       "4    0.00702  "
      ]
     },
     "execution_count": 4,
     "metadata": {},
     "output_type": "execute_result"
    }
   ],
   "source": [
    "data_folder = '../Data_SNIa_LSST/larger/'\n",
    "df_data = pd.read_csv(data_folder+'hubble_diagram.txt', skiprows=5, sep=' ')\n",
    "# Np = len(dfp.values)\n",
    "# N s=  len(dfs.values)\n",
    "df_data.head()"
   ]
  },
  {
   "cell_type": "code",
   "execution_count": 5,
   "metadata": {
    "colab": {
     "base_uri": "https://localhost:8080/",
     "height": 206
    },
    "executionInfo": {
     "elapsed": 545,
     "status": "ok",
     "timestamp": 1698843410086,
     "user": {
      "displayName": "Ayan Mitra",
      "userId": "05562692314601910199"
     },
     "user_tz": -330
    },
    "id": "EadYgbMzw7zG",
    "outputId": "baac83bc-5af7-4ed9-c899-f15bd64dac08"
   },
   "outputs": [
    {
     "data": {
      "text/html": [
       "<div>\n",
       "<style scoped>\n",
       "    .dataframe tbody tr th:only-of-type {\n",
       "        vertical-align: middle;\n",
       "    }\n",
       "\n",
       "    .dataframe tbody tr th {\n",
       "        vertical-align: top;\n",
       "    }\n",
       "\n",
       "    .dataframe thead th {\n",
       "        text-align: right;\n",
       "    }\n",
       "</style>\n",
       "<table border=\"1\" class=\"dataframe\">\n",
       "  <thead>\n",
       "    <tr style=\"text-align: right;\">\n",
       "      <th></th>\n",
       "      <th>CID</th>\n",
       "      <th>IDSURVEY</th>\n",
       "      <th>zCMB</th>\n",
       "      <th>zHEL</th>\n",
       "      <th>MU</th>\n",
       "      <th>MUERR</th>\n",
       "      <th>MUERR_VPEC</th>\n",
       "      <th>MUERR_SYS</th>\n",
       "      <th>errors</th>\n",
       "    </tr>\n",
       "  </thead>\n",
       "  <tbody>\n",
       "    <tr>\n",
       "      <th>0</th>\n",
       "      <td>SN:2521</td>\n",
       "      <td>50</td>\n",
       "      <td>0.01988</td>\n",
       "      <td>0.01988</td>\n",
       "      <td>34.84680</td>\n",
       "      <td>0.1320</td>\n",
       "      <td>0.0736</td>\n",
       "      <td>0.00796</td>\n",
       "      <td>0.13996</td>\n",
       "    </tr>\n",
       "    <tr>\n",
       "      <th>1</th>\n",
       "      <td>SN:57482</td>\n",
       "      <td>50</td>\n",
       "      <td>0.02321</td>\n",
       "      <td>0.02321</td>\n",
       "      <td>34.89863</td>\n",
       "      <td>0.1551</td>\n",
       "      <td>0.0631</td>\n",
       "      <td>0.00720</td>\n",
       "      <td>0.16230</td>\n",
       "    </tr>\n",
       "    <tr>\n",
       "      <th>2</th>\n",
       "      <td>SN:52921</td>\n",
       "      <td>50</td>\n",
       "      <td>0.02364</td>\n",
       "      <td>0.02364</td>\n",
       "      <td>35.28915</td>\n",
       "      <td>0.1243</td>\n",
       "      <td>0.0620</td>\n",
       "      <td>0.00771</td>\n",
       "      <td>0.13201</td>\n",
       "    </tr>\n",
       "    <tr>\n",
       "      <th>3</th>\n",
       "      <td>SN:21365</td>\n",
       "      <td>50</td>\n",
       "      <td>0.02470</td>\n",
       "      <td>0.02470</td>\n",
       "      <td>35.11988</td>\n",
       "      <td>0.1444</td>\n",
       "      <td>0.0594</td>\n",
       "      <td>0.00717</td>\n",
       "      <td>0.15157</td>\n",
       "    </tr>\n",
       "    <tr>\n",
       "      <th>4</th>\n",
       "      <td>SN:117311</td>\n",
       "      <td>50</td>\n",
       "      <td>0.02471</td>\n",
       "      <td>0.02471</td>\n",
       "      <td>35.19347</td>\n",
       "      <td>0.1232</td>\n",
       "      <td>0.0593</td>\n",
       "      <td>0.00702</td>\n",
       "      <td>0.13022</td>\n",
       "    </tr>\n",
       "  </tbody>\n",
       "</table>\n",
       "</div>"
      ],
      "text/plain": [
       "         CID  IDSURVEY     zCMB     zHEL        MU   MUERR  MUERR_VPEC  \\\n",
       "0    SN:2521        50  0.01988  0.01988  34.84680  0.1320      0.0736   \n",
       "1   SN:57482        50  0.02321  0.02321  34.89863  0.1551      0.0631   \n",
       "2   SN:52921        50  0.02364  0.02364  35.28915  0.1243      0.0620   \n",
       "3   SN:21365        50  0.02470  0.02470  35.11988  0.1444      0.0594   \n",
       "4  SN:117311        50  0.02471  0.02471  35.19347  0.1232      0.0593   \n",
       "\n",
       "   MUERR_SYS   errors  \n",
       "0    0.00796  0.13996  \n",
       "1    0.00720  0.16230  \n",
       "2    0.00771  0.13201  \n",
       "3    0.00717  0.15157  \n",
       "4    0.00702  0.13022  "
      ]
     },
     "execution_count": 5,
     "metadata": {},
     "output_type": "execute_result"
    }
   ],
   "source": [
    "df_data['errors'] = df_data['MUERR'].values+df_data['MUERR_SYS'].values\n",
    "df_data.head()"
   ]
  },
  {
   "cell_type": "code",
   "execution_count": 6,
   "metadata": {
    "executionInfo": {
     "elapsed": 373,
     "status": "ok",
     "timestamp": 1698843410985,
     "user": {
      "displayName": "Ayan Mitra",
      "userId": "05562692314601910199"
     },
     "user_tz": -330
    },
    "id": "fZZdxeqkw7zG"
   },
   "outputs": [],
   "source": [
    "df_data = df_data[['zCMB', 'MU', 'errors']]"
   ]
  },
  {
   "cell_type": "code",
   "execution_count": 7,
   "metadata": {
    "executionInfo": {
     "elapsed": 5,
     "status": "ok",
     "timestamp": 1698843411332,
     "user": {
      "displayName": "Ayan Mitra",
      "userId": "05562692314601910199"
     },
     "user_tz": -330
    },
    "id": "AztrlqHFw7zG"
   },
   "outputs": [],
   "source": [
    "z_or = df_data[['zCMB']].values\n",
    "y = df_data[['MU', 'errors']].values\n",
    "zmin, zmax = np.min(z_or), np.max(z_or)\n"
   ]
  },
  {
   "cell_type": "code",
   "execution_count": 8,
   "metadata": {
    "executionInfo": {
     "elapsed": 441,
     "status": "ok",
     "timestamp": 1698843413698,
     "user": {
      "displayName": "Ayan Mitra",
      "userId": "05562692314601910199"
     },
     "user_tz": -330
    },
    "id": "OqrFOosXw7zG"
   },
   "outputs": [],
   "source": [
    "scalerz = StandardScaler()\n",
    "scalerz.fit(z_or.reshape(-1,1))\n",
    "# apply transform\n",
    "z = scalerz.transform(z_or.reshape(-1,1))"
   ]
  },
  {
   "cell_type": "code",
   "execution_count": 9,
   "metadata": {
    "colab": {
     "base_uri": "https://localhost:8080/"
    },
    "executionInfo": {
     "elapsed": 71679,
     "status": "ok",
     "timestamp": 1698843486366,
     "user": {
      "displayName": "Ayan Mitra",
      "userId": "05562692314601910199"
     },
     "user_tz": -330
    },
    "id": "XY83eDvRw7zH",
    "outputId": "6c7195ac-587b-4c7c-eac4-a14070b91777"
   },
   "outputs": [
    {
     "name": "stdout",
     "output_type": "stream",
     "text": [
      "181/181 [==============================] - 1s 2ms/step\n",
      "181/181 [==============================] - 0s 2ms/step\n",
      "181/181 [==============================] - 0s 2ms/step\n",
      "181/181 [==============================] - 0s 2ms/step\n",
      "181/181 [==============================] - 0s 2ms/step\n",
      "181/181 [==============================] - 0s 2ms/step\n",
      "181/181 [==============================] - 0s 2ms/step\n",
      "181/181 [==============================] - 0s 2ms/step\n",
      "181/181 [==============================] - 0s 2ms/step\n",
      "181/181 [==============================] - 0s 2ms/step\n",
      "181/181 [==============================] - 0s 2ms/step\n",
      "181/181 [==============================] - 0s 2ms/step\n",
      "181/181 [==============================] - 0s 2ms/step\n",
      "181/181 [==============================] - 0s 2ms/step\n",
      "181/181 [==============================] - 0s 2ms/step\n",
      "181/181 [==============================] - 0s 1ms/step\n",
      "181/181 [==============================] - 0s 2ms/step\n",
      "181/181 [==============================] - 0s 2ms/step\n",
      "181/181 [==============================] - 0s 2ms/step\n",
      "181/181 [==============================] - 0s 1ms/step\n",
      "181/181 [==============================] - 0s 2ms/step\n",
      "181/181 [==============================] - 0s 1ms/step\n",
      "181/181 [==============================] - 0s 2ms/step\n",
      "181/181 [==============================] - 0s 2ms/step\n",
      "181/181 [==============================] - 0s 2ms/step\n",
      "181/181 [==============================] - 0s 2ms/step\n",
      "181/181 [==============================] - 0s 2ms/step\n",
      "181/181 [==============================] - 0s 2ms/step\n",
      "181/181 [==============================] - 0s 2ms/step\n",
      "181/181 [==============================] - 0s 2ms/step\n",
      "181/181 [==============================] - 0s 2ms/step\n",
      "181/181 [==============================] - 0s 2ms/step\n",
      "181/181 [==============================] - 0s 2ms/step\n",
      "181/181 [==============================] - 0s 2ms/step\n",
      "181/181 [==============================] - 0s 2ms/step\n",
      "181/181 [==============================] - 0s 2ms/step\n",
      "181/181 [==============================] - 0s 2ms/step\n",
      "181/181 [==============================] - 0s 2ms/step\n",
      "181/181 [==============================] - 0s 2ms/step\n",
      "181/181 [==============================] - 0s 2ms/step\n",
      "181/181 [==============================] - 0s 2ms/step\n",
      "181/181 [==============================] - 0s 2ms/step\n",
      "181/181 [==============================] - 0s 2ms/step\n",
      "181/181 [==============================] - 0s 2ms/step\n",
      "181/181 [==============================] - 0s 2ms/step\n",
      "181/181 [==============================] - 0s 2ms/step\n",
      "181/181 [==============================] - 0s 2ms/step\n",
      "181/181 [==============================] - 0s 1ms/step\n",
      "181/181 [==============================] - 0s 2ms/step\n",
      "181/181 [==============================] - 0s 2ms/step\n",
      "181/181 [==============================] - 0s 2ms/step\n",
      "181/181 [==============================] - 0s 2ms/step\n",
      "181/181 [==============================] - 0s 2ms/step\n",
      "181/181 [==============================] - 0s 1ms/step\n",
      "181/181 [==============================] - 0s 2ms/step\n",
      "181/181 [==============================] - 0s 1ms/step\n",
      "181/181 [==============================] - 0s 2ms/step\n",
      "181/181 [==============================] - 0s 1ms/step\n",
      "181/181 [==============================] - 0s 2ms/step\n",
      "181/181 [==============================] - 0s 2ms/step\n",
      "181/181 [==============================] - 0s 2ms/step\n",
      "181/181 [==============================] - 0s 2ms/step\n",
      "181/181 [==============================] - 0s 2ms/step\n",
      "181/181 [==============================] - 0s 2ms/step\n",
      "181/181 [==============================] - 0s 2ms/step\n",
      "181/181 [==============================] - 0s 2ms/step\n",
      "181/181 [==============================] - 0s 2ms/step\n",
      "181/181 [==============================] - 0s 3ms/step\n",
      "181/181 [==============================] - 0s 2ms/step\n",
      "181/181 [==============================] - 0s 2ms/step\n",
      "181/181 [==============================] - 0s 2ms/step\n",
      "181/181 [==============================] - 0s 2ms/step\n",
      "181/181 [==============================] - 0s 2ms/step\n",
      "181/181 [==============================] - 0s 2ms/step\n",
      "181/181 [==============================] - 0s 2ms/step\n",
      "181/181 [==============================] - 0s 2ms/step\n",
      "181/181 [==============================] - 0s 2ms/step\n",
      "181/181 [==============================] - 0s 2ms/step\n",
      "181/181 [==============================] - 0s 2ms/step\n",
      "181/181 [==============================] - 0s 2ms/step\n",
      "181/181 [==============================] - 0s 2ms/step\n",
      "181/181 [==============================] - 0s 2ms/step\n",
      "181/181 [==============================] - 0s 2ms/step\n",
      "181/181 [==============================] - 0s 2ms/step\n",
      "181/181 [==============================] - 0s 2ms/step\n",
      "181/181 [==============================] - 0s 2ms/step\n",
      "181/181 [==============================] - 0s 2ms/step\n",
      "181/181 [==============================] - 0s 2ms/step\n",
      "181/181 [==============================] - 0s 2ms/step\n",
      "181/181 [==============================] - 0s 2ms/step\n",
      "181/181 [==============================] - 0s 2ms/step\n",
      "181/181 [==============================] - 0s 2ms/step\n",
      "181/181 [==============================] - 0s 2ms/step\n",
      "181/181 [==============================] - 0s 2ms/step\n",
      "181/181 [==============================] - 0s 2ms/step\n",
      "181/181 [==============================] - 0s 2ms/step\n",
      "181/181 [==============================] - 0s 2ms/step\n",
      "181/181 [==============================] - 0s 2ms/step\n",
      "181/181 [==============================] - 0s 2ms/step\n",
      "181/181 [==============================] - 0s 2ms/step\n"
     ]
    }
   ],
   "source": [
    "# Generate test data\n",
    "# test_batch_size = 500\n",
    "test_batch_size = len(z)\n",
    "x_test = z\n",
    "\n",
    "mc_dropout_num = 100 # Run Dropout 100 times\n",
    "predictions = np.zeros((mc_dropout_num, test_batch_size, 2))\n",
    "uncertainty = np.zeros((mc_dropout_num, test_batch_size, 1))\n",
    "for i in range(mc_dropout_num):\n",
    "    predictions[i] = model.predict(scalerz.transform(z_or.reshape(-1,1)))\n",
    "#     predictions[i] = model.predict(scalerz.transform(x_test.reshape(-1,1)))\n",
    "\n",
    "# get mean results and its varience\n",
    "prediction_mc_dropout = np.mean(predictions, axis=0)\n",
    "std_mc_dropout = np.std(predictions, axis=0)\n"
   ]
  },
  {
   "cell_type": "code",
   "execution_count": 27,
   "metadata": {
    "executionInfo": {
     "elapsed": 461,
     "status": "ok",
     "timestamp": 1698843486792,
     "user": {
      "displayName": "Ayan Mitra",
      "userId": "05562692314601910199"
     },
     "user_tz": -330
    },
    "id": "urfkzg4tw7zH"
   },
   "outputs": [],
   "source": [
    "def RHSquared_a_owacdm(a, w0, wa, Om):\n",
    "    rhow = a**(-3*(1.0+w0+wa))*np.exp(-3*wa*(1-a))\n",
    "    return (Om/a**3+(1.0-Om)*rhow)\n",
    "\n",
    "def DistIntegrand_a(a, w0, wa, Om):\n",
    "        return 1./np.sqrt(RHSquared_a_owacdm(a, w0, wa, Om))/a**2\n",
    "\n",
    "def Da_z(z, w0, wa, Om):\n",
    "        r = intg.quad(DistIntegrand_a, 1./(1+z), 1, args=(w0, wa, Om))\n",
    "        r = r[0]\n",
    "        return r\n",
    "\n",
    "### Hay que revisar esta constante en el return\n",
    "def distance_modulus(z, w0=-1, wa=0.0, Om=0.23):\n",
    "    return 5*np.log10(Da_z(z, w0, wa, Om)*(1+z))+24\n",
    "# +43\n",
    "\n",
    "# zmodel = np.linspace(0.01, 2.4, 100)\n",
    "zmodel = z_or\n",
    "flcdm = []\n",
    "# fowacdm1 = []\n",
    "# fowacdm2 = []\n",
    "# fowacdm3 = []\n",
    "\n",
    "om = 0.3163\n",
    "for zzz in zmodel:\n",
    "    flcdm.append(distance_modulus(zzz, w0=-1, wa=0, Om=om))"
   ]
  },
  {
   "cell_type": "code",
   "execution_count": 28,
   "metadata": {
    "colab": {
     "base_uri": "https://localhost:8080/",
     "height": 594
    },
    "executionInfo": {
     "elapsed": 1490,
     "status": "ok",
     "timestamp": 1698843488274,
     "user": {
      "displayName": "Ayan Mitra",
      "userId": "05562692314601910199"
     },
     "user_tz": -330
    },
    "id": "XAfjj2dzBq4S",
    "outputId": "3a1bfdb4-289e-4008-98f7-3bbef29b1d71"
   },
   "outputs": [
    {
     "data": {
      "text/plain": [
       "<Figure size 800x500 with 0 Axes>"
      ]
     },
     "metadata": {},
     "output_type": "display_data"
    },
    {
     "data": {
      "image/png": "[encoded data removed]",
      "text/plain": [
       "<Figure size 432x288 with 1 Axes>"
      ]
     },
     "metadata": {
      "needs_background": "light"
     },
     "output_type": "display_data"
    }
   ],
   "source": [
    "from scipy.interpolate import interp1d\n",
    "from statsmodels.nonparametric.smoothers_lowess import lowess\n",
    "# Plotting\n",
    "plt.figure(figsize=(8, 5), dpi=100)\n",
    "f, a2 = plt.subplots()\n",
    "sigma = np.sqrt(std_mc_dropout[:, 0]**2 + std_mc_dropout[:, 1]**2+ prediction_mc_dropout[:,1]**2);\n",
    "a2.errorbar(df_data['zCMB'], df_data['MU']-19, df_data['errors'], fmt='g.',markersize=8, color='g', capsize=3, elinewidth=1,alpha=0.05);\n",
    "a2.errorbar(df_data['zCMB'][100], df_data['MU'][100]-19, df_data['errors'][100], fmt='g.',markersize=8, color='g', capsize=3, elinewidth=1, alpha=0.99, label='Observations');\n",
    "a2.plot(z_or, prediction_mc_dropout[:,0]-19,'.',c='r',alpha=0.5,markersize=3,label='Synthetic data with $\\sigma$');\n",
    "a2.plot(zmodel, flcdm, label='$\\Lambda CDM$', c='b');\n",
    "\n",
    "smoothed_lower = get_smoothed_curve(z_or, prediction_mc_dropout[:,0]-19, sigma, curve_type='lower');\n",
    "smoothed_upper = get_smoothed_curve(z_or, prediction_mc_dropout[:,0]-19, sigma, curve_type='upper');\n",
    "\n",
    "a2.fill_between(smoothed_lower[:, 0], smoothed_lower[:, 1], smoothed_upper[:, 1], color='red', alpha=0.1);\n",
    "\n",
    "\n",
    "# plt.xlabel('Redshift')\n",
    "# plt.ylabel('$H(z)$')\n",
    "plt.ylabel(\"$\\mu(z)$\", fontsize=20);\n",
    "plt.xlabel(\"z\", fontsize=20);\n",
    "plt.xticks(fontsize=15);\n",
    "plt.yticks(fontsize=15);\n",
    "plt.minorticks_on()\n",
    "a2.tick_params(axis='both', direction=\"in\", which='minor', labelsize=15)\n",
    "a2.tick_params(axis='both', direction=\"in\", which='major', labelsize=12)\n",
    "\n",
    "# plt.legend(loc='best')\n",
    "plt.legend(loc='upper left');\n",
    "# plt.show()\n",
    "plt.tight_layout();"
   ]
  },
  {
   "cell_type": "code",
   "execution_count": 29,
   "metadata": {
    "colab": {
     "base_uri": "https://localhost:8080/"
    },
    "executionInfo": {
     "elapsed": 7,
     "status": "ok",
     "timestamp": 1695210847579,
     "user": {
      "displayName": "Ayan Mitra",
      "userId": "05562692314601910199"
     },
     "user_tz": -360
    },
    "id": "ZrGWB8oOcKl5",
    "outputId": "f6ce1ed2-880f-4412-ca4c-dd6d8e7f359c"
   },
   "outputs": [
    {
     "data": {
      "text/plain": [
       "array([[0.01988],\n",
       "       [0.02321],\n",
       "       [0.02364],\n",
       "       ...,\n",
       "       [1.36191],\n",
       "       [1.36306],\n",
       "       [1.36643]])"
      ]
     },
     "execution_count": 29,
     "metadata": {},
     "output_type": "execute_result"
    }
   ],
   "source": [
    "z_or"
   ]
  },
  {
   "cell_type": "code",
   "execution_count": 30,
   "metadata": {
    "colab": {
     "base_uri": "https://localhost:8080/",
     "height": 449
    },
    "executionInfo": {
     "elapsed": 943,
     "status": "ok",
     "timestamp": 1698843590027,
     "user": {
      "displayName": "Ayan Mitra",
      "userId": "05562692314601910199"
     },
     "user_tz": -330
    },
    "id": "tyC38rTzauK2",
    "outputId": "6de1bbff-7586-4189-f6cf-3f266db35c55"
   },
   "outputs": [
    {
     "data": {
      "text/plain": [
       "[<matplotlib.lines.Line2D at 0x7f7f683840a0>]"
      ]
     },
     "execution_count": 30,
     "metadata": {},
     "output_type": "execute_result"
    },
    {
     "data": {
      "image/png": "[encoded data removed]",
      "text/plain": [
       "<Figure size 432x288 with 1 Axes>"
      ]
     },
     "metadata": {
      "needs_background": "light"
     },
     "output_type": "display_data"
    }
   ],
   "source": [
    "f_interpolated = interp1d(z_or.flatten(), prediction_mc_dropout[:,0]-19, kind='linear')\n",
    "#f_interpolated = interp1d(z_or.flatten(), prediction_mc_dropout[:,0]-19, kind='linear', fill_value=\"extrapolate\")\n",
    "\n",
    "# Create finer x-values for smoother plotting\n",
    "z_fine = np.linspace(min(z_or), max(z_or), 1000)\n",
    "y_fine_interpolated = f_interpolated(z_fine)\n",
    "\n",
    "# Apply lowess smoothing\n",
    "smoothed = lowess(y_fine_interpolated.flatten(), z_fine.flatten(), frac=0.1)\n",
    "plt.plot(smoothed[:, 0], smoothed[:, 1], 'r-', label=\"Best-fit (interp1d + lowess)\")\n"
   ]
  },
  {
   "cell_type": "code",
   "execution_count": 31,
   "metadata": {
    "id": "zZIWdBcTe7Rv"
   },
   "outputs": [],
   "source": [
    "'''\n",
    "# Ensure no duplicate values in z_or and filter corresponding y values\n",
    "unique_z_or_indices = np.unique(z_or, return_index=True)[1]\n",
    "z_or_unique = z_or[unique_z_or_indices].flatten()\n",
    "y_values_unique = prediction_mc_dropout[:,0][unique_z_or_indices] - 19\n",
    "\n",
    "# Interpolation using slinear\n",
    "f_interpolated = interp1d(z_or_unique, y_values_unique, kind='slinear', fill_value=\"extrapolate\")\n",
    "\n",
    "# Create finer x-values for smoother plotting\n",
    "z_fine = np.linspace(0, max(z_or_unique), 1000)\n",
    "y_fine_interpolated = f_interpolated(z_fine)\n",
    "\n",
    "# Apply lowess smoothing\n",
    "smoothed = lowess(y_fine_interpolated, z_fine, frac=0.1)\n",
    "plt.plot(smoothed[:, 0], smoothed[:, 1], 'r-', label=\"Best-fit (interp1d + lowess)\")\n",
    "\n",
    "plt.legend()\n",
    "plt.show()\n",
    "''';"
   ]
  },
  {
   "cell_type": "code",
   "execution_count": 32,
   "metadata": {
    "colab": {
     "base_uri": "https://localhost:8080/",
     "height": 504
    },
    "executionInfo": {
     "elapsed": 935,
     "status": "ok",
     "timestamp": 1698843598245,
     "user": {
      "displayName": "Ayan Mitra",
      "userId": "05562692314601910199"
     },
     "user_tz": -330
    },
    "id": "S1whO9JYf95q",
    "outputId": "3a39b06b-e517-4328-d902-7611f9e7805d"
   },
   "outputs": [
    {
     "data": {
      "text/plain": [
       "<Figure size 800x500 with 0 Axes>"
      ]
     },
     "metadata": {},
     "output_type": "display_data"
    },
    {
     "data": {
      "image/png": "[encoded data removed]",
      "text/plain": [
       "<Figure size 432x288 with 1 Axes>"
      ]
     },
     "metadata": {
      "needs_background": "light"
     },
     "output_type": "display_data"
    }
   ],
   "source": [
    "from scipy.interpolate import interp1d\n",
    "from statsmodels.nonparametric.smoothers_lowess import lowess\n",
    "# Plotting\n",
    "plt.figure(figsize=(8, 5), dpi=100)\n",
    "f, a2 = plt.subplots()\n",
    "sigma = np.sqrt(std_mc_dropout[:, 0]**2 + std_mc_dropout[:, 1]**2+ prediction_mc_dropout[:,1]**2);\n",
    "#a2.errorbar(df_data['zCMB'], df_data['MU']-19, df_data['errors'], fmt='g.',markersize=8, color='g', capsize=3, elinewidth=1,alpha=0.01);\n",
    "#a2.errorbar(df_data['zCMB'][100], df_data['MU'][100]-19, df_data['errors'][100], fmt='g.',markersize=8, color='g', capsize=3, elinewidth=1, alpha=0.99, label='Observations');\n",
    "#a2.plot(z_or, prediction_mc_dropout[:,0]-19,'.',c='r',alpha=0.5,markersize=3,label='Synthetic data with $\\sigma$');\n",
    "a2.plot(smoothed[25:, 0], smoothed[25:, 1], c='r',alpha=0.5,markersize=3,label='ANN reconstruction')\n",
    "a2.plot(zmodel, flcdm, label='$\\Lambda CDM$', c='b');\n",
    "\n",
    "smoothed_lower = get_smoothed_curve(z_or, prediction_mc_dropout[:,0]-19, sigma, curve_type='lower');\n",
    "smoothed_upper = get_smoothed_curve(z_or, prediction_mc_dropout[:,0]-19, sigma, curve_type='upper');\n",
    "\n",
    "a2.fill_between(smoothed_lower[:, 0], smoothed_lower[:, 1], smoothed_upper[:, 1], color='red', alpha=0.1);\n",
    "\n",
    "\n",
    "# plt.xlabel('Redshift')\n",
    "# plt.ylabel('$H(z)$')\n",
    "plt.ylabel(\"$\\mu(z)$\", fontsize=20);\n",
    "plt.xlabel(\"z\", fontsize=20);\n",
    "plt.xticks(fontsize=15);\n",
    "plt.yticks(fontsize=15);\n",
    "plt.minorticks_on()\n",
    "a2.tick_params(axis='both', direction=\"in\", which='minor', labelsize=15)\n",
    "a2.tick_params(axis='both', direction=\"in\", which='major', labelsize=12)\n",
    "\n",
    "# plt.legend(loc='best')\n",
    "plt.legend(loc='upper left');\n",
    "# plt.show()\n",
    "plt.tight_layout();"
   ]
  },
  {
   "cell_type": "code",
   "execution_count": 33,
   "metadata": {
    "colab": {
     "base_uri": "https://localhost:8080/",
     "height": 594
    },
    "executionInfo": {
     "elapsed": 3114,
     "status": "ok",
     "timestamp": 1698844501255,
     "user": {
      "displayName": "Ayan Mitra",
      "userId": "05562692314601910199"
     },
     "user_tz": -330
    },
    "id": "NEv_-6p7b07t",
    "outputId": "ce0aee5d-c574-4c60-a7ad-cda87bf28dae"
   },
   "outputs": [
    {
     "data": {
      "text/plain": [
       "<Figure size 800x500 with 0 Axes>"
      ]
     },
     "metadata": {},
     "output_type": "display_data"
    },
    {
     "data": {
      "image/png": "[encoded data removed]",
      "text/plain": [
       "<Figure size 432x288 with 1 Axes>"
      ]
     },
     "metadata": {
      "needs_background": "light"
     },
     "output_type": "display_data"
    }
   ],
   "source": [
    "from scipy.interpolate import interp1d\n",
    "from statsmodels.nonparametric.smoothers_lowess import lowess\n",
    "# Plotting\n",
    "plt.figure(figsize=(8, 5), dpi=100)\n",
    "f, a2 = plt.subplots()\n",
    "sigma = np.sqrt(std_mc_dropout[:, 0]**2 + std_mc_dropout[:, 1]**2+ prediction_mc_dropout[:,1]**2);\n",
    "a2.errorbar(df_data['zCMB'], df_data['MU']-19, df_data['errors'], fmt='g.',markersize=8, color='g', capsize=3, elinewidth=1,alpha=0.01);\n",
    "a2.errorbar(df_data['zCMB'][100], df_data['MU'][100]-19, df_data['errors'][100], fmt='g.',markersize=8, color='g', capsize=3, elinewidth=1, alpha=0.99, label='LSST Sim observations');\n",
    "#a2.plot(z_or, prediction_mc_dropout[:,0]-19,'.',c='r',alpha=0.5,markersize=3,label='Synthetic data with $\\sigma$');\n",
    "\n",
    "a2.plot(zmodel, flcdm, label='$\\Lambda CDM$', c='b');\n",
    "\n",
    "smoothed_lower = get_smoothed_curve(z_or, prediction_mc_dropout[:,0]-19, sigma, curve_type='lower');\n",
    "smoothed_upper = get_smoothed_curve(z_or, prediction_mc_dropout[:,0]-19, sigma, curve_type='upper');\n",
    "\n",
    "a2.fill_between(smoothed_lower[:, 0], smoothed_lower[:, 1], smoothed_upper[:, 1], color='gold', alpha=0.9);\n",
    "a2.plot(smoothed[15:, 0], smoothed[15:, 1], c='black',linestyle='--',alpha=0.99,markersize=3,label='ANN reconstruction')\n",
    "\n",
    "# plt.xlabel('Redshift')\n",
    "# plt.ylabel('$H(z)$')\n",
    "plt.ylabel(\"$\\mu(z)$\", fontsize=20);\n",
    "plt.xlabel(\"z\", fontsize=20);\n",
    "plt.xticks(fontsize=15);\n",
    "plt.yticks(fontsize=15);\n",
    "plt.minorticks_on()\n",
    "a2.tick_params(axis='both', direction=\"in\", which='minor', labelsize=15)\n",
    "a2.tick_params(axis='both', direction=\"in\", which='major', labelsize=12)\n",
    "\n",
    "# plt.legend(loc='best')\n",
    "plt.legend(loc='upper left');\n",
    "# plt.show()\n",
    "plt.tight_layout();\n",
    "plt.savefig('ANN-1.pdf',bbox_inches=\"tight\")"
   ]
  },
  {
   "cell_type": "code",
   "execution_count": 34,
   "metadata": {
    "colab": {
     "base_uri": "https://localhost:8080/"
    },
    "executionInfo": {
     "elapsed": 3,
     "status": "ok",
     "timestamp": 1693819455843,
     "user": {
      "displayName": "Ayan Mitra",
      "userId": "05562692314601910199"
     },
     "user_tz": -330
    },
    "id": "DBo60o_ugSxh",
    "outputId": "c3cd2e08-1069-44f0-f6bf-599c45360be8"
   },
   "outputs": [
    {
     "data": {
      "text/plain": [
       "(5785,)"
      ]
     },
     "execution_count": 34,
     "metadata": {},
     "output_type": "execute_result"
    }
   ],
   "source": [
    "np.shape(df_data['zCMB'])"
   ]
  },
  {
   "cell_type": "code",
   "execution_count": 35,
   "metadata": {
    "colab": {
     "base_uri": "https://localhost:8080/"
    },
    "executionInfo": {
     "elapsed": 3,
     "status": "ok",
     "timestamp": 1693819473543,
     "user": {
      "displayName": "Ayan Mitra",
      "userId": "05562692314601910199"
     },
     "user_tz": -330
    },
    "id": "HwvMqvj4gTqu",
    "outputId": "a5f603b3-0444-40ed-ab98-afa2a9dc46e0"
   },
   "outputs": [
    {
     "data": {
      "text/plain": [
       "(5785, 1)"
      ]
     },
     "execution_count": 35,
     "metadata": {},
     "output_type": "execute_result"
    }
   ],
   "source": [
    "np.shape(z_or)"
   ]
  },
  {
   "cell_type": "code",
   "execution_count": 36,
   "metadata": {
    "colab": {
     "base_uri": "https://localhost:8080/"
    },
    "executionInfo": {
     "elapsed": 4,
     "status": "ok",
     "timestamp": 1693819952942,
     "user": {
      "displayName": "Ayan Mitra",
      "userId": "05562692314601910199"
     },
     "user_tz": -330
    },
    "id": "2xDdf6tbiUzk",
    "outputId": "1d036029-ed37-4ad2-b85e-100d30f79764"
   },
   "outputs": [
    {
     "data": {
      "text/plain": [
       "(5785, 1)"
      ]
     },
     "execution_count": 36,
     "metadata": {},
     "output_type": "execute_result"
    }
   ],
   "source": [
    "np.shape(zmodel)"
   ]
  },
  {
   "cell_type": "code",
   "execution_count": 37,
   "metadata": {
    "colab": {
     "base_uri": "https://localhost:8080/",
     "height": 500
    },
    "executionInfo": {
     "elapsed": 786,
     "status": "ok",
     "timestamp": 1693819522509,
     "user": {
      "displayName": "Ayan Mitra",
      "userId": "05562692314601910199"
     },
     "user_tz": -330
    },
    "id": "pJCeZZU6ggbv",
    "outputId": "d16dc457-716a-4fe4-b8b6-0660883a0173"
   },
   "outputs": [
    {
     "data": {
      "text/plain": [
       "(array([   0.,    0.,    0.,    0.,    0., 5785.,    0.,    0.,    0.,\n",
       "           0.]),\n",
       " array([-0.5, -0.4, -0.3, -0.2, -0.1,  0. ,  0.1,  0.2,  0.3,  0.4,  0.5]),\n",
       " <BarContainer object of 10 artists>)"
      ]
     },
     "execution_count": 37,
     "metadata": {},
     "output_type": "execute_result"
    },
    {
     "data": {
      "image/png": "[encoded data removed]",
      "text/plain": [
       "<Figure size 432x288 with 1 Axes>"
      ]
     },
     "metadata": {
      "needs_background": "light"
     },
     "output_type": "display_data"
    }
   ],
   "source": [
    "plt.hist(z_or.flatten() - df_data['zCMB'])"
   ]
  },
  {
   "cell_type": "code",
   "execution_count": 38,
   "metadata": {
    "colab": {
     "base_uri": "https://localhost:8080/"
    },
    "executionInfo": {
     "elapsed": 4,
     "status": "ok",
     "timestamp": 1693819546347,
     "user": {
      "displayName": "Ayan Mitra",
      "userId": "05562692314601910199"
     },
     "user_tz": -330
    },
    "id": "2D7rA7bMglCj",
    "outputId": "87bcb328-4b12-4536-c2b8-657eaeef1240"
   },
   "outputs": [
    {
     "data": {
      "text/plain": [
       "0.0"
      ]
     },
     "execution_count": 38,
     "metadata": {},
     "output_type": "execute_result"
    }
   ],
   "source": [
    "np.max(abs(z_or.flatten() - df_data['zCMB']))"
   ]
  },
  {
   "cell_type": "code",
   "execution_count": null,
   "metadata": {
    "id": "TbkOzWQ5j1x0"
   },
   "outputs": [],
   "source": []
  },
  {
   "cell_type": "code",
   "execution_count": 39,
   "metadata": {
    "id": "lH0m6pAngySo"
   },
   "outputs": [],
   "source": [
    "import pandas as pd\n",
    "\n",
    "# Flatten flcdm if it's a list of arrays\n",
    "flattened_flcdm = [item[0] for item in flcdm]\n",
    "\n",
    "# Create a DataFrame\n",
    "df = pd.DataFrame({\n",
    "    'observed_redshift': df_data['zCMB'].tolist(),\n",
    "    'observed_mu': (df_data['MU'] - 19).tolist(),\n",
    "    'observed_errors': df_data['errors'].tolist(),\n",
    "    'nn_redshift': z_or.flatten().tolist(),\n",
    "    'nn_predicted_mu': (prediction_mc_dropout[:, 0] - 19).tolist(),\n",
    "    'nn_sigma': sigma.tolist(),\n",
    "    'lcdm_redshift': zmodel.flatten().tolist(),\n",
    "    'lcdm_predicted_mu': flattened_flcdm\n",
    "})\n",
    "\n",
    "# Save the DataFrame as a CSV file\n",
    "#df.to_csv('/content/drive/MyDrive/Isidro/SN_lsst_analysis/Ayan/comparison_data_arrays.csv', index=False)\n"
   ]
  },
  {
   "cell_type": "code",
   "execution_count": 40,
   "metadata": {
    "colab": {
     "base_uri": "https://localhost:8080/"
    },
    "executionInfo": {
     "elapsed": 13,
     "status": "ok",
     "timestamp": 1695208657090,
     "user": {
      "displayName": "Ayan Mitra",
      "userId": "05562692314601910199"
     },
     "user_tz": -360
    },
    "id": "_j7FqsSYimDx",
    "outputId": "7b1395dc-69b4-4638-d6f6-dde878187e84"
   },
   "outputs": [
    {
     "data": {
      "text/plain": [
       "(0    0.989561\n",
       " 1    0.605576\n",
       " 2    0.724206\n",
       " 3    0.744874\n",
       " 4    0.841430\n",
       " dtype: float64,\n",
       " 0    0.697750\n",
       " 1    0.576856\n",
       " 2    0.309911\n",
       " 3    0.627486\n",
       " 4    0.647523\n",
       " dtype: float64)"
      ]
     },
     "execution_count": 40,
     "metadata": {},
     "output_type": "execute_result"
    }
   ],
   "source": [
    "# Since the redshifts are common, we can directly calculate the sigma differences\n",
    "\n",
    "# Calculate sigma differences between NN and Lambda CDM model\n",
    "sigma_diff_nn_vs_lcdm = np.abs(df.nn_predicted_mu - df.lcdm_predicted_mu) / df.nn_sigma\n",
    "\n",
    "# Calculate sigma differences between NN and observed data\n",
    "sigma_diff_nn_vs_observed = np.abs(df.nn_predicted_mu - df.observed_mu) / df.nn_sigma\n",
    "\n",
    "# Show first few sigma differences for review\n",
    "sigma_diff_nn_vs_lcdm[:5], sigma_diff_nn_vs_observed[:5]\n"
   ]
  },
  {
   "cell_type": "code",
   "execution_count": 41,
   "metadata": {
    "colab": {
     "base_uri": "https://localhost:8080/"
    },
    "executionInfo": {
     "elapsed": 9,
     "status": "ok",
     "timestamp": 1695208657091,
     "user": {
      "displayName": "Ayan Mitra",
      "userId": "05562692314601910199"
     },
     "user_tz": -360
    },
    "id": "xV-9zsZD0Mr7",
    "outputId": "40ac17a6-71b9-4238-ee8e-556f72a71c9f"
   },
   "outputs": [
    {
     "data": {
      "text/plain": [
       "(0.1312193730039474,\n",
       " 0.1755664442702939,\n",
       " 0.9895614731588414,\n",
       " 0.15840978091082222,\n",
       " 0.1999141107572581,\n",
       " 0.8090180314473308)"
      ]
     },
     "execution_count": 41,
     "metadata": {},
     "output_type": "execute_result"
    }
   ],
   "source": [
    "# Calculating single-value metrics for sigma differences\n",
    "\n",
    "# Mean Absolute sigma Difference\n",
    "mean_abs_diff_nn_vs_lcdm = np.mean(np.abs(sigma_diff_nn_vs_lcdm))\n",
    "mean_abs_diff_nn_vs_observed = np.mean(np.abs(sigma_diff_nn_vs_observed))\n",
    "\n",
    "# Root Mean Square sigma Difference (RMSD)\n",
    "rmsd_nn_vs_lcdm = np.sqrt(np.mean(sigma_diff_nn_vs_lcdm ** 2))\n",
    "rmsd_nn_vs_observed = np.sqrt(np.mean(sigma_diff_nn_vs_observed ** 2))\n",
    "\n",
    "# Maximum sigma Difference\n",
    "max_diff_nn_vs_lcdm = np.max(sigma_diff_nn_vs_lcdm)\n",
    "max_diff_nn_vs_observed = np.max(sigma_diff_nn_vs_observed)\n",
    "\n",
    "mean_abs_diff_nn_vs_lcdm, rmsd_nn_vs_lcdm, max_diff_nn_vs_lcdm, mean_abs_diff_nn_vs_observed, rmsd_nn_vs_observed, max_diff_nn_vs_observed"
   ]
  },
  {
   "cell_type": "code",
   "execution_count": 42,
   "metadata": {
    "colab": {
     "base_uri": "https://localhost:8080/"
    },
    "executionInfo": {
     "elapsed": 455,
     "status": "ok",
     "timestamp": 1693824698174,
     "user": {
      "displayName": "Ayan Mitra",
      "userId": "05562692314601910199"
     },
     "user_tz": -330
    },
    "id": "uAS2KTG70X3-",
    "outputId": "424b3026-a16b-41ae-dc97-7219407a590c"
   },
   "outputs": [
    {
     "data": {
      "text/plain": [
       "(0.1312193730039474, 0.15840978091082222)"
      ]
     },
     "execution_count": 42,
     "metadata": {},
     "output_type": "execute_result"
    }
   ],
   "source": [
    "mean_abs_diff_nn_vs_lcdm,  mean_abs_diff_nn_vs_observed"
   ]
  },
  {
   "cell_type": "code",
   "execution_count": 43,
   "metadata": {
    "colab": {
     "base_uri": "https://localhost:8080/",
     "height": 447
    },
    "executionInfo": {
     "elapsed": 889,
     "status": "ok",
     "timestamp": 1693820556615,
     "user": {
      "displayName": "Ayan Mitra",
      "userId": "05562692314601910199"
     },
     "user_tz": -330
    },
    "id": "52UvWiZQkS6x",
    "outputId": "dc12202b-c9d0-460a-8120-0a916572f850"
   },
   "outputs": [
    {
     "data": {
      "text/plain": [
       "[<matplotlib.lines.Line2D at 0x7f7f447950a0>]"
      ]
     },
     "execution_count": 43,
     "metadata": {},
     "output_type": "execute_result"
    },
    {
     "data": {
      "image/png": "[encoded data removed]",
      "text/plain": [
       "<Figure size 432x288 with 1 Axes>"
      ]
     },
     "metadata": {
      "needs_background": "light"
     },
     "output_type": "display_data"
    }
   ],
   "source": [
    "plt.plot(sigma_diff_nn_vs_lcdm)\n",
    "plt.plot(sigma_diff_nn_vs_observed)"
   ]
  },
  {
   "cell_type": "code",
   "execution_count": null,
   "metadata": {
    "id": "ARn5TJmBkkiu"
   },
   "outputs": [],
   "source": []
  },
  {
   "cell_type": "code",
   "execution_count": null,
   "metadata": {},
   "outputs": [],
   "source": []
  }
 ],
 "metadata": {
  "colab": {
   "provenance": []
  },
  "kernelspec": {
   "display_name": "Python 3 (ipykernel)",
   "language": "python",
   "name": "python3"
  },
  "language_info": {
   "codemirror_mode": {
    "name": "ipython",
    "version": 3
   },
   "file_extension": ".py",
   "mimetype": "text/x-python",
   "name": "python",
   "nbconvert_exporter": "python",
   "pygments_lexer": "ipython3",
   "version": "3.10.12"
  }
 },
 "nbformat": 4,
 "nbformat_minor": 4
}
