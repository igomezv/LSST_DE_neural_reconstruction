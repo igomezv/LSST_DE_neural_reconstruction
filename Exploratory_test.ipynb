{
 "cells": [
  {
   "cell_type": "code",
   "execution_count": 2,
   "metadata": {},
   "outputs": [],
   "source": [
    "import numpy as np\n",
    "import pandas as pd\n",
    "import matplotlib.pyplot as plt"
   ]
  },
  {
   "cell_type": "code",
   "execution_count": 3,
   "metadata": {},
   "outputs": [
    {
     "data": {
      "text/html": [
       "<div>\n",
       "<style scoped>\n",
       "    .dataframe tbody tr th:only-of-type {\n",
       "        vertical-align: middle;\n",
       "    }\n",
       "\n",
       "    .dataframe tbody tr th {\n",
       "        vertical-align: top;\n",
       "    }\n",
       "\n",
       "    .dataframe thead th {\n",
       "        text-align: right;\n",
       "    }\n",
       "</style>\n",
       "<table border=\"1\" class=\"dataframe\">\n",
       "  <thead>\n",
       "    <tr style=\"text-align: right;\">\n",
       "      <th></th>\n",
       "      <th>zCMB</th>\n",
       "      <th>zHEL</th>\n",
       "      <th>MU</th>\n",
       "      <th>MUERR</th>\n",
       "      <th>MUERR_SYS</th>\n",
       "    </tr>\n",
       "  </thead>\n",
       "  <tbody>\n",
       "    <tr>\n",
       "      <th>0</th>\n",
       "      <td>0.04131</td>\n",
       "      <td>0.04131</td>\n",
       "      <td>36.31666</td>\n",
       "      <td>0.00969</td>\n",
       "      <td>0.00674</td>\n",
       "    </tr>\n",
       "    <tr>\n",
       "      <th>1</th>\n",
       "      <td>0.06876</td>\n",
       "      <td>0.06876</td>\n",
       "      <td>37.44798</td>\n",
       "      <td>0.00541</td>\n",
       "      <td>0.00627</td>\n",
       "    </tr>\n",
       "    <tr>\n",
       "      <th>2</th>\n",
       "      <td>0.13121</td>\n",
       "      <td>0.13121</td>\n",
       "      <td>38.94492</td>\n",
       "      <td>0.01969</td>\n",
       "      <td>0.00868</td>\n",
       "    </tr>\n",
       "    <tr>\n",
       "      <th>3</th>\n",
       "      <td>0.18499</td>\n",
       "      <td>0.18499</td>\n",
       "      <td>39.75545</td>\n",
       "      <td>0.01338</td>\n",
       "      <td>0.00658</td>\n",
       "    </tr>\n",
       "    <tr>\n",
       "      <th>4</th>\n",
       "      <td>0.24503</td>\n",
       "      <td>0.24503</td>\n",
       "      <td>40.42469</td>\n",
       "      <td>0.01068</td>\n",
       "      <td>0.00590</td>\n",
       "    </tr>\n",
       "  </tbody>\n",
       "</table>\n",
       "</div>"
      ],
      "text/plain": [
       "      zCMB     zHEL        MU    MUERR  MUERR_SYS\n",
       "0  0.04131  0.04131  36.31666  0.00969    0.00674\n",
       "1  0.06876  0.06876  37.44798  0.00541    0.00627\n",
       "2  0.13121  0.13121  38.94492  0.01969    0.00868\n",
       "3  0.18499  0.18499  39.75545  0.01338    0.00658\n",
       "4  0.24503  0.24503  40.42469  0.01068    0.00590"
      ]
     },
     "execution_count": 3,
     "metadata": {},
     "output_type": "execute_result"
    }
   ],
   "source": [
    "data_folder = 'Data_SNIa_LSST/'\n",
    "dfp = pd.read_csv(data_folder+'hubble_diagram_Pr.txt', skiprows=4, sep=' ')\n",
    "dfs = pd.read_csv(data_folder+'hubble_diagram_Sr.txt', skiprows=4, sep=' ')\n",
    "dfp.head()"
   ]
  },
  {
   "cell_type": "code",
   "execution_count": 4,
   "metadata": {},
   "outputs": [
    {
     "data": {
      "text/plain": [
       "array([0.04131, 0.06876, 0.13121, 0.18499, 0.24503, 0.31077, 0.38392,\n",
       "       0.46752, 0.55669, 0.66538, 0.78147, 0.92328, 1.08255, 1.24447])"
      ]
     },
     "execution_count": 4,
     "metadata": {},
     "output_type": "execute_result"
    }
   ],
   "source": [
    "dfp['zCMB'].values"
   ]
  },
  {
   "cell_type": "code",
   "execution_count": 16,
   "metadata": {},
   "outputs": [
    {
     "data": {
      "text/plain": [
       "<matplotlib.legend.Legend at 0x7f6848ebdd30>"
      ]
     },
     "execution_count": 16,
     "metadata": {},
     "output_type": "execute_result"
    },
    {
     "data": {
      "image/png": "[encoded data removed]",
      "text/plain": [
       "<Figure size 720x432 with 1 Axes>"
      ]
     },
     "metadata": {
      "needs_background": "light"
     },
     "output_type": "display_data"
    }
   ],
   "source": [
    "fig = plt.figure(figsize=(10, 6))\n",
    "plt.errorbar(dfp['zCMB'].values, dfp['MU'].values, xerr=dfp['MUERR_SYS'].values, fmt='.', color='b', elinewidth=8, ecolor='red', label='photometric')\n",
    "plt.errorbar(dfs['zCMB'].values, dfs['MU'].values, xerr=dfs['MUERR_SYS'].values, fmt='*', color='g', elinewidth=8, ecolor='yellow', label='spectroscopic')\n",
    "plt.ylabel(\"$\\mu$\")\n",
    "plt.xlabel(\"Redshift z\")\n",
    "plt.legend()"
   ]
  },
  {
   "cell_type": "code",
   "execution_count": null,
   "metadata": {},
   "outputs": [],
   "source": []
  }
 ],
 "metadata": {
  "kernelspec": {
   "display_name": "Python 3",
   "language": "python",
   "name": "python3"
  },
  "language_info": {
   "codemirror_mode": {
    "name": "ipython",
    "version": 3
   },
   "file_extension": ".py",
   "mimetype": "text/x-python",
   "name": "python",
   "nbconvert_exporter": "python",
   "pygments_lexer": "ipython3",
   "version": "3.8.10"
  }
 },
 "nbformat": 4,
 "nbformat_minor": 4
}
