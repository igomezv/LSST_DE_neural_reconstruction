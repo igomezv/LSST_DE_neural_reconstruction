{
 "cells": [
  {
   "cell_type": "code",
   "execution_count": 1,
   "metadata": {},
   "outputs": [],
   "source": [
    "import os\n",
    "os.environ[\"CUDA_DEVICE_ORDER\"]=\"PCI_BUS_ID\"\n",
    "# os.environ[\"CUDA_VISIBLE_DEVICES\"] = \"-1\"\n",
    "\n",
    "import numpy as np\n",
    "import pandas as pd\n",
    "from scipy.misc import derivative\n",
    "import scipy.integrate as intg\n",
    "import seaborn as sns\n",
    "import matplotlib.pyplot as plt\n",
    "%matplotlib inline\n",
    "\n",
    "from sklearn.preprocessing import StandardScaler, MinMaxScaler\n",
    "from sklearn.metrics import mean_squared_error\n",
    "\n",
    "import torch\n",
    "import gpytorch"
   ]
  },
  {
   "cell_type": "code",
   "execution_count": 2,
   "metadata": {},
   "outputs": [
    {
     "data": {
      "text/html": [
       "<div>\n",
       "<style scoped>\n",
       "    .dataframe tbody tr th:only-of-type {\n",
       "        vertical-align: middle;\n",
       "    }\n",
       "\n",
       "    .dataframe tbody tr th {\n",
       "        vertical-align: top;\n",
       "    }\n",
       "\n",
       "    .dataframe thead th {\n",
       "        text-align: right;\n",
       "    }\n",
       "</style>\n",
       "<table border=\"1\" class=\"dataframe\">\n",
       "  <thead>\n",
       "    <tr style=\"text-align: right;\">\n",
       "      <th></th>\n",
       "      <th>CID</th>\n",
       "      <th>IDSURVEY</th>\n",
       "      <th>zCMB</th>\n",
       "      <th>zHEL</th>\n",
       "      <th>MU</th>\n",
       "      <th>MUERR</th>\n",
       "      <th>MUERR_VPEC</th>\n",
       "      <th>MUERR_SYS</th>\n",
       "    </tr>\n",
       "  </thead>\n",
       "  <tbody>\n",
       "    <tr>\n",
       "      <th>0</th>\n",
       "      <td>SN:2521</td>\n",
       "      <td>50</td>\n",
       "      <td>0.01988</td>\n",
       "      <td>0.01988</td>\n",
       "      <td>34.84680</td>\n",
       "      <td>0.1320</td>\n",
       "      <td>0.0736</td>\n",
       "      <td>0.00796</td>\n",
       "    </tr>\n",
       "    <tr>\n",
       "      <th>1</th>\n",
       "      <td>SN:57482</td>\n",
       "      <td>50</td>\n",
       "      <td>0.02321</td>\n",
       "      <td>0.02321</td>\n",
       "      <td>34.89863</td>\n",
       "      <td>0.1551</td>\n",
       "      <td>0.0631</td>\n",
       "      <td>0.00720</td>\n",
       "    </tr>\n",
       "    <tr>\n",
       "      <th>2</th>\n",
       "      <td>SN:52921</td>\n",
       "      <td>50</td>\n",
       "      <td>0.02364</td>\n",
       "      <td>0.02364</td>\n",
       "      <td>35.28915</td>\n",
       "      <td>0.1243</td>\n",
       "      <td>0.0620</td>\n",
       "      <td>0.00771</td>\n",
       "    </tr>\n",
       "    <tr>\n",
       "      <th>3</th>\n",
       "      <td>SN:21365</td>\n",
       "      <td>50</td>\n",
       "      <td>0.02470</td>\n",
       "      <td>0.02470</td>\n",
       "      <td>35.11988</td>\n",
       "      <td>0.1444</td>\n",
       "      <td>0.0594</td>\n",
       "      <td>0.00717</td>\n",
       "    </tr>\n",
       "    <tr>\n",
       "      <th>4</th>\n",
       "      <td>SN:117311</td>\n",
       "      <td>50</td>\n",
       "      <td>0.02471</td>\n",
       "      <td>0.02471</td>\n",
       "      <td>35.19347</td>\n",
       "      <td>0.1232</td>\n",
       "      <td>0.0593</td>\n",
       "      <td>0.00702</td>\n",
       "    </tr>\n",
       "  </tbody>\n",
       "</table>\n",
       "</div>"
      ],
      "text/plain": [
       "         CID  IDSURVEY     zCMB     zHEL        MU   MUERR  MUERR_VPEC  \\\n",
       "0    SN:2521        50  0.01988  0.01988  34.84680  0.1320      0.0736   \n",
       "1   SN:57482        50  0.02321  0.02321  34.89863  0.1551      0.0631   \n",
       "2   SN:52921        50  0.02364  0.02364  35.28915  0.1243      0.0620   \n",
       "3   SN:21365        50  0.02470  0.02470  35.11988  0.1444      0.0594   \n",
       "4  SN:117311        50  0.02471  0.02471  35.19347  0.1232      0.0593   \n",
       "\n",
       "   MUERR_SYS  \n",
       "0    0.00796  \n",
       "1    0.00720  \n",
       "2    0.00771  \n",
       "3    0.00717  \n",
       "4    0.00702  "
      ]
     },
     "execution_count": 2,
     "metadata": {},
     "output_type": "execute_result"
    }
   ],
   "source": [
    "data_folder = 'Data_SNIa_LSST/larger/'\n",
    "df_data = pd.read_csv(data_folder+'hubble_diagram.txt', skiprows=5, sep=' ')\n",
    "# Np = len(dfp.values)\n",
    "# N s=  len(dfs.values)\n",
    "df_data.head()"
   ]
  },
  {
   "cell_type": "code",
   "execution_count": 3,
   "metadata": {},
   "outputs": [
    {
     "data": {
      "text/html": [
       "<div>\n",
       "<style scoped>\n",
       "    .dataframe tbody tr th:only-of-type {\n",
       "        vertical-align: middle;\n",
       "    }\n",
       "\n",
       "    .dataframe tbody tr th {\n",
       "        vertical-align: top;\n",
       "    }\n",
       "\n",
       "    .dataframe thead th {\n",
       "        text-align: right;\n",
       "    }\n",
       "</style>\n",
       "<table border=\"1\" class=\"dataframe\">\n",
       "  <thead>\n",
       "    <tr style=\"text-align: right;\">\n",
       "      <th></th>\n",
       "      <th>CID</th>\n",
       "      <th>IDSURVEY</th>\n",
       "      <th>zCMB</th>\n",
       "      <th>zHEL</th>\n",
       "      <th>MU</th>\n",
       "      <th>MUERR</th>\n",
       "      <th>MUERR_VPEC</th>\n",
       "      <th>MUERR_SYS</th>\n",
       "      <th>errors</th>\n",
       "    </tr>\n",
       "  </thead>\n",
       "  <tbody>\n",
       "    <tr>\n",
       "      <th>0</th>\n",
       "      <td>SN:2521</td>\n",
       "      <td>50</td>\n",
       "      <td>0.01988</td>\n",
       "      <td>0.01988</td>\n",
       "      <td>34.84680</td>\n",
       "      <td>0.1320</td>\n",
       "      <td>0.0736</td>\n",
       "      <td>0.00796</td>\n",
       "      <td>0.13996</td>\n",
       "    </tr>\n",
       "    <tr>\n",
       "      <th>1</th>\n",
       "      <td>SN:57482</td>\n",
       "      <td>50</td>\n",
       "      <td>0.02321</td>\n",
       "      <td>0.02321</td>\n",
       "      <td>34.89863</td>\n",
       "      <td>0.1551</td>\n",
       "      <td>0.0631</td>\n",
       "      <td>0.00720</td>\n",
       "      <td>0.16230</td>\n",
       "    </tr>\n",
       "    <tr>\n",
       "      <th>2</th>\n",
       "      <td>SN:52921</td>\n",
       "      <td>50</td>\n",
       "      <td>0.02364</td>\n",
       "      <td>0.02364</td>\n",
       "      <td>35.28915</td>\n",
       "      <td>0.1243</td>\n",
       "      <td>0.0620</td>\n",
       "      <td>0.00771</td>\n",
       "      <td>0.13201</td>\n",
       "    </tr>\n",
       "    <tr>\n",
       "      <th>3</th>\n",
       "      <td>SN:21365</td>\n",
       "      <td>50</td>\n",
       "      <td>0.02470</td>\n",
       "      <td>0.02470</td>\n",
       "      <td>35.11988</td>\n",
       "      <td>0.1444</td>\n",
       "      <td>0.0594</td>\n",
       "      <td>0.00717</td>\n",
       "      <td>0.15157</td>\n",
       "    </tr>\n",
       "    <tr>\n",
       "      <th>4</th>\n",
       "      <td>SN:117311</td>\n",
       "      <td>50</td>\n",
       "      <td>0.02471</td>\n",
       "      <td>0.02471</td>\n",
       "      <td>35.19347</td>\n",
       "      <td>0.1232</td>\n",
       "      <td>0.0593</td>\n",
       "      <td>0.00702</td>\n",
       "      <td>0.13022</td>\n",
       "    </tr>\n",
       "  </tbody>\n",
       "</table>\n",
       "</div>"
      ],
      "text/plain": [
       "         CID  IDSURVEY     zCMB     zHEL        MU   MUERR  MUERR_VPEC  \\\n",
       "0    SN:2521        50  0.01988  0.01988  34.84680  0.1320      0.0736   \n",
       "1   SN:57482        50  0.02321  0.02321  34.89863  0.1551      0.0631   \n",
       "2   SN:52921        50  0.02364  0.02364  35.28915  0.1243      0.0620   \n",
       "3   SN:21365        50  0.02470  0.02470  35.11988  0.1444      0.0594   \n",
       "4  SN:117311        50  0.02471  0.02471  35.19347  0.1232      0.0593   \n",
       "\n",
       "   MUERR_SYS   errors  \n",
       "0    0.00796  0.13996  \n",
       "1    0.00720  0.16230  \n",
       "2    0.00771  0.13201  \n",
       "3    0.00717  0.15157  \n",
       "4    0.00702  0.13022  "
      ]
     },
     "execution_count": 3,
     "metadata": {},
     "output_type": "execute_result"
    }
   ],
   "source": [
    "df_data['errors'] = df_data['MUERR'].values+df_data['MUERR_SYS'].values\n",
    "df_data.head()"
   ]
  },
  {
   "cell_type": "code",
   "execution_count": 4,
   "metadata": {},
   "outputs": [
    {
     "name": "stderr",
     "output_type": "stream",
     "text": [
      "No artists with labels found to put in legend.  Note that artists whose label start with an underscore are ignored when legend() is called with no argument.\n"
     ]
    },
    {
     "data": {
      "text/plain": [
       "<matplotlib.legend.Legend at 0x7fe0d7812020>"
      ]
     },
     "execution_count": 4,
     "metadata": {},
     "output_type": "execute_result"
    },
    {
     "data": {
      "image/png": "[encoded data removed]",
      "text/plain": [
       "<Figure size 1000x600 with 1 Axes>"
      ]
     },
     "metadata": {},
     "output_type": "display_data"
    }
   ],
   "source": [
    "fig = plt.figure(figsize=(10, 6))\n",
    "plt.errorbar(df_data['zCMB'].values, df_data['MU'].values, yerr=df_data['errors'].values, fmt='.', color='b', elinewidth=1, ecolor='red')\n",
    "plt.ylabel(\"$\\mu$\")\n",
    "plt.xlabel(\"Redshift z\")\n",
    "plt.legend()"
   ]
  },
  {
   "cell_type": "code",
   "execution_count": 5,
   "metadata": {},
   "outputs": [],
   "source": [
    "df_data = df_data[['zCMB', 'MU', 'errors']]"
   ]
  },
  {
   "cell_type": "code",
   "execution_count": 6,
   "metadata": {},
   "outputs": [],
   "source": [
    "df_data = df_data[['zCMB', 'MU', 'errors']]"
   ]
  },
  {
   "cell_type": "code",
   "execution_count": 7,
   "metadata": {},
   "outputs": [
    {
     "data": {
      "text/plain": [
       "5785"
      ]
     },
     "execution_count": 7,
     "metadata": {},
     "output_type": "execute_result"
    }
   ],
   "source": [
    "len(df_data)"
   ]
  },
  {
   "cell_type": "code",
   "execution_count": 8,
   "metadata": {},
   "outputs": [
    {
     "data": {
      "text/html": [
       "<div>\n",
       "<style scoped>\n",
       "    .dataframe tbody tr th:only-of-type {\n",
       "        vertical-align: middle;\n",
       "    }\n",
       "\n",
       "    .dataframe tbody tr th {\n",
       "        vertical-align: top;\n",
       "    }\n",
       "\n",
       "    .dataframe thead th {\n",
       "        text-align: right;\n",
       "    }\n",
       "</style>\n",
       "<table border=\"1\" class=\"dataframe\">\n",
       "  <thead>\n",
       "    <tr style=\"text-align: right;\">\n",
       "      <th></th>\n",
       "      <th>zCMB</th>\n",
       "      <th>MU</th>\n",
       "      <th>errors</th>\n",
       "    </tr>\n",
       "  </thead>\n",
       "  <tbody>\n",
       "    <tr>\n",
       "      <th>0</th>\n",
       "      <td>0.01988</td>\n",
       "      <td>34.84680</td>\n",
       "      <td>0.13996</td>\n",
       "    </tr>\n",
       "    <tr>\n",
       "      <th>1</th>\n",
       "      <td>0.02321</td>\n",
       "      <td>34.89863</td>\n",
       "      <td>0.16230</td>\n",
       "    </tr>\n",
       "    <tr>\n",
       "      <th>2</th>\n",
       "      <td>0.02364</td>\n",
       "      <td>35.28915</td>\n",
       "      <td>0.13201</td>\n",
       "    </tr>\n",
       "    <tr>\n",
       "      <th>3</th>\n",
       "      <td>0.02470</td>\n",
       "      <td>35.11988</td>\n",
       "      <td>0.15157</td>\n",
       "    </tr>\n",
       "    <tr>\n",
       "      <th>4</th>\n",
       "      <td>0.02471</td>\n",
       "      <td>35.19347</td>\n",
       "      <td>0.13022</td>\n",
       "    </tr>\n",
       "  </tbody>\n",
       "</table>\n",
       "</div>"
      ],
      "text/plain": [
       "      zCMB        MU   errors\n",
       "0  0.01988  34.84680  0.13996\n",
       "1  0.02321  34.89863  0.16230\n",
       "2  0.02364  35.28915  0.13201\n",
       "3  0.02470  35.11988  0.15157\n",
       "4  0.02471  35.19347  0.13022"
      ]
     },
     "execution_count": 8,
     "metadata": {},
     "output_type": "execute_result"
    }
   ],
   "source": [
    "df_data.head()"
   ]
  },
  {
   "cell_type": "code",
   "execution_count": 9,
   "metadata": {},
   "outputs": [
    {
     "data": {
      "text/plain": [
       "(5785, 5785)"
      ]
     },
     "execution_count": 9,
     "metadata": {},
     "output_type": "execute_result"
    }
   ],
   "source": [
    "z = df_data[['zCMB']].values\n",
    "y = df_data[['MU', 'errors']].values\n",
    "\n",
    "randomize = np.random.permutation(len(z))\n",
    "z = z[randomize]\n",
    "y = y[randomize]\n",
    "len(z), len(y)"
   ]
  },
  {
   "cell_type": "code",
   "execution_count": 10,
   "metadata": {},
   "outputs": [
    {
     "data": {
      "text/plain": [
       "(0.01988, 1.36643)"
      ]
     },
     "execution_count": 10,
     "metadata": {},
     "output_type": "execute_result"
    }
   ],
   "source": [
    "zmin, zmax = np.min(z), np.max(z)\n",
    "zmin, zmax"
   ]
  },
  {
   "cell_type": "code",
   "execution_count": 11,
   "metadata": {},
   "outputs": [
    {
     "name": "stderr",
     "output_type": "stream",
     "text": [
      "No artists with labels found to put in legend.  Note that artists whose label start with an underscore are ignored when legend() is called with no argument.\n"
     ]
    },
    {
     "data": {
      "text/plain": [
       "<matplotlib.legend.Legend at 0x7fe0d4fcb7f0>"
      ]
     },
     "execution_count": 11,
     "metadata": {},
     "output_type": "execute_result"
    },
    {
     "data": {
      "image/png": "[encoded data removed]",
      "text/plain": [
       "<Figure size 1000x600 with 1 Axes>"
      ]
     },
     "metadata": {},
     "output_type": "display_data"
    }
   ],
   "source": [
    "fig = plt.figure(figsize=(10, 6))\n",
    "plt.errorbar(z, y[:,0], yerr=y[:,1], fmt='.', color='b', elinewidth=1, ecolor='red')\n",
    "plt.ylabel(\"$\\mu$\")\n",
    "plt.xlabel(\"Redshift z\")\n",
    "plt.xscale('log')\n",
    "plt.legend()"
   ]
  },
  {
   "cell_type": "code",
   "execution_count": 12,
   "metadata": {},
   "outputs": [],
   "source": [
    "def RHSquared_a_owacdm(a, w0, wa, Om):\n",
    "    rhow = a**(-3*(1.0+w0+wa))*np.exp(-3*wa*(1-a))\n",
    "    return (Om/a**3+(1.0-Om)*rhow)\n",
    "\n",
    "def DistIntegrand_a(a, w0, wa, Om):\n",
    "        return 1./np.sqrt(RHSquared_a_owacdm(a, w0, wa, Om))/a**2\n",
    "    \n",
    "def Da_z(z, w0, wa, Om):\n",
    "        r = intg.quad(DistIntegrand_a, 1./(1+z), 1, args=(w0, wa, Om))\n",
    "        r = r[0]\n",
    "        return r\n",
    "\n",
    "### Hay que revisar esta constante en el return\n",
    "def distance_modulus(z, w0=-1, wa=0.0, Om=0.23):\n",
    "    return 5*np.log10(Da_z(z, w0, wa, Om)*(1+z))+24\n",
    "# +43\n",
    "\n",
    "zmodel = np.linspace(0.01, 2.4, 100)\n",
    "flcdm = []\n",
    "# fowacdm1 = []\n",
    "# fowacdm2 = []\n",
    "# fowacdm3 = []\n",
    "\n",
    "om = 0.27\n",
    "for zzz in zmodel:\n",
    "    flcdm.append(distance_modulus(zzz, w0=-1, wa=0, Om=om))"
   ]
  },
  {
   "cell_type": "code",
   "execution_count": 13,
   "metadata": {},
   "outputs": [
    {
     "data": {
      "text/plain": [
       "((5785, 1), (5785, 2))"
      ]
     },
     "execution_count": 13,
     "metadata": {},
     "output_type": "execute_result"
    }
   ],
   "source": [
    "# yy = y[:,0].reshape(-1,1)\n",
    "# zz = z\n",
    "# split = 0.8\n",
    "# ntrain = int(split * len(zz))\n",
    "# indx = [ntrain]\n",
    "# zz_train, zz_test = np.split(zz, indx)\n",
    "# yy_train, yy_test = np.split(yy, indx)\n",
    "# yy_train = np.append(yy_train, np.array([y[0], y[-1]]))\n",
    "# zz_train = np.append(zz_train, np.array([z[0], z[-1]]))\n",
    "np.shape(z), np.shape(y)"
   ]
  },
  {
   "cell_type": "code",
   "execution_count": 14,
   "metadata": {},
   "outputs": [],
   "source": [
    "# x_train = torch.tensor(z_train).reshape(len(z_train),)\n",
    "# y_train = torch.tensor(y_train)\n",
    "\n",
    "z_torch = torch.from_numpy(z).float()\n",
    "y_torch = torch.from_numpy(y).float()"
   ]
  },
  {
   "cell_type": "code",
   "execution_count": 15,
   "metadata": {},
   "outputs": [],
   "source": [
    "# Definir el modelo de proceso gaussiano\n",
    "class MultitaskGPModel(gpytorch.models.ExactGP):\n",
    "    def __init__(self, train_x, train_y, likelihood):\n",
    "        super(MultitaskGPModel, self).__init__(z_torch, y_torch, likelihood)\n",
    "        self.mean_module = gpytorch.means.MultitaskMean(\n",
    "            gpytorch.means.ConstantMean(), num_tasks=2\n",
    "        )\n",
    "        self.covar_module = gpytorch.kernels.MultitaskKernel(\n",
    "#             gpytorch.kernels.RBFKernel(), num_tasks=2, rank=1\n",
    "            gpytorch.kernels.MaternKernel(nu=1.5, lengthscale=2), num_tasks=2, rank=1\n",
    "#             gpytorch.kernels.SpectralMixtureKernel(num_mixtures=2), num_tasks=2, rank=1\n",
    "        )\n",
    "\n",
    "    def forward(self, x):\n",
    "        mean_x = self.mean_module(x)\n",
    "        covar_x = self.covar_module(x)\n",
    "        return gpytorch.distributions.MultitaskMultivariateNormal(mean_x, covar_x)\n",
    "\n",
    "likelihood = gpytorch.likelihoods.MultitaskGaussianLikelihood(num_tasks=2)\n",
    "model = MultitaskGPModel(z_torch, y_torch, likelihood)"
   ]
  },
  {
   "cell_type": "code",
   "execution_count": null,
   "metadata": {},
   "outputs": [],
   "source": [
    "# Find optimal model hyperparameters\n",
    "model.train()\n",
    "likelihood.train()\n",
    "\n",
    "# Use the adam optimizer\n",
    "optimizer = torch.optim.Adam(model.parameters(), lr=0.1)  # Includes GaussianLikelihood parameters\n",
    "\n",
    "# \"Loss\" for GPs - the marginal log likelihood\n",
    "mll = gpytorch.mlls.ExactMarginalLogLikelihood(likelihood, model)\n",
    "\n",
    "training_iterations = 100\n",
    "loss_history = []\n",
    "for i in range(training_iterations):\n",
    "    optimizer.zero_grad()\n",
    "    output = model(z_torch)\n",
    "    loss = -mll(output, y_torch)\n",
    "    loss.backward()\n",
    "    loss_history.append(loss.item())\n",
    "    print('Iter %d/%d - Loss: %.3f' % (i + 1, training_iterations, loss.item()))\n",
    "    optimizer.step()"
   ]
  },
  {
   "cell_type": "code",
   "execution_count": null,
   "metadata": {},
   "outputs": [],
   "source": [
    "plt.plot(loss_history)"
   ]
  },
  {
   "cell_type": "code",
   "execution_count": null,
   "metadata": {},
   "outputs": [],
   "source": [
    "minrange = zmin\n",
    "maxrange = zmax\n",
    "x_test = torch.linspace(zmin, zmax+0.05, 50)\n",
    "np.shape(x_test)"
   ]
  },
  {
   "cell_type": "code",
   "execution_count": null,
   "metadata": {},
   "outputs": [],
   "source": [
    "zmax"
   ]
  },
  {
   "cell_type": "code",
   "execution_count": null,
   "metadata": {},
   "outputs": [],
   "source": [
    "x_test = x_test.reshape(len(x_test), )\n",
    "# x_test = torch.from_numpy(x_test).float()\n",
    "np.shape(x_test), type(x_test)"
   ]
  },
  {
   "cell_type": "code",
   "execution_count": null,
   "metadata": {},
   "outputs": [],
   "source": [
    "model.eval()\n",
    "likelihood.eval()"
   ]
  },
  {
   "cell_type": "code",
   "execution_count": null,
   "metadata": {},
   "outputs": [],
   "source": [
    "f_preds = model(x_test)"
   ]
  },
  {
   "cell_type": "code",
   "execution_count": null,
   "metadata": {},
   "outputs": [],
   "source": [
    "# # The gpytorch.settings.fast_pred_var flag activates LOVE (for fast variances)\n",
    "# # See https://arxiv.org/abs/1803.06058\n",
    "with torch.no_grad(), gpytorch.settings.fast_pred_var():\n",
    "    # Obtain the predictive mean and covariance matrix\n",
    "    f_preds = model(x_test)\n",
    "    f_mean_mu = f_preds.mean[:, 0]\n",
    "    f_mean_err = f_preds.mean[:, 1]\n",
    "    f_cov = f_preds.covariance_matrix\n",
    "    # Make predictions by feeding model through likelihood\n",
    "    observed_pred = likelihood(model(x_test))\n",
    "#     print(type(observed_pred))\n",
    "    # Get upper and lower confidence bounds\n",
    "    lower, upper = observed_pred.confidence_region()\n",
    "    lower_mu = lower[:, 0]\n",
    "    upper_mu = upper[:, 0]\n",
    "    lower_err = lower[:, 0]\n",
    "    upper_err = upper[:, 0]\n",
    "    observed_pred_mean_mu = observed_pred.mean.numpy()[:, 0]\n",
    "    observed_pred_mean_err = observed_pred.mean.numpy()[:, 1]\n",
    "#     print(observed_pred.mean.numpy())\n",
    "    plt.plot(x_test.numpy(), observed_pred_mean_mu-19, color='k', label='GP mean', linewidth=2)\n",
    "#     # Shade between the lower and upper confidence bounds\n",
    "    plt.fill_between(x_test.numpy(), lower_mu-19, upper_mu-19, alpha=0.2, label='GP confidence', color='gray')\n",
    "#     plt.errorbar(x_test.numpy(), observed_pred_mean_mu-19, yerr=observed_pred_mean_err)\n",
    "\n",
    "plt.plot(zmodel, flcdm, label='$\\Lambda CDM$', c='b', linewidth=2)\n",
    "plt.errorbar(df_data['zCMB'], df_data['MU']-19, df_data['errors'], fmt='g.', markersize=10, label='Observations', \n",
    "             alpha=0.01)\n",
    "\n",
    "\n",
    "plt.xlim(0,zmax+0.05)\n",
    "\n",
    "plt.ylabel(\"$\\mu(z)$\", fontsize=20)\n",
    "plt.xlabel(\"Redshift z\", fontsize=20)\n",
    "plt.xticks(fontsize=15)\n",
    "plt.yticks(fontsize=15)\n",
    "# plt.legend(loc='best')\n",
    "plt.legend(loc='upper left')\n",
    "# plt.show()\n",
    "plt.tight_layout()"
   ]
  },
  {
   "cell_type": "code",
   "execution_count": null,
   "metadata": {},
   "outputs": [],
   "source": [
    "np.shape(x_test.numpy()), np.shape(observed_pred_mean_mu), np.shape(observed_pred_mean_err)"
   ]
  },
  {
   "cell_type": "code",
   "execution_count": null,
   "metadata": {},
   "outputs": [],
   "source": []
  }
 ],
 "metadata": {
  "kernelspec": {
   "display_name": "Python 3 (ipykernel)",
   "language": "python",
   "name": "python3"
  },
  "language_info": {
   "codemirror_mode": {
    "name": "ipython",
    "version": 3
   },
   "file_extension": ".py",
   "mimetype": "text/x-python",
   "name": "python",
   "nbconvert_exporter": "python",
   "pygments_lexer": "ipython3",
   "version": "3.10.9"
  }
 },
 "nbformat": 4,
 "nbformat_minor": 4
}
