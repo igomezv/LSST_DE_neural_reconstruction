{
 "cells": [
  {
   "cell_type": "code",
   "execution_count": 1,
   "metadata": {},
   "outputs": [],
   "source": [
    "import os\n",
    "os.environ[\"CUDA_DEVICE_ORDER\"]=\"PCI_BUS_ID\"\n",
    "# os.environ[\"CUDA_VISIBLE_DEVICES\"] = \"-1\"\n",
    "\n",
    "import numpy as np\n",
    "import pandas as pd\n",
    "from scipy.misc import derivative\n",
    "import scipy.integrate as intg\n",
    "import seaborn as sns\n",
    "import matplotlib.pyplot as plt\n",
    "%matplotlib inline\n",
    "\n",
    "from sklearn.preprocessing import StandardScaler, MinMaxScaler\n",
    "from sklearn.metrics import mean_squared_error\n",
    "\n",
    "import torch\n",
    "import gpytorch"
   ]
  },
  {
   "cell_type": "code",
   "execution_count": 2,
   "metadata": {},
   "outputs": [
    {
     "data": {
      "text/html": [
       "<div>\n",
       "<style scoped>\n",
       "    .dataframe tbody tr th:only-of-type {\n",
       "        vertical-align: middle;\n",
       "    }\n",
       "\n",
       "    .dataframe tbody tr th {\n",
       "        vertical-align: top;\n",
       "    }\n",
       "\n",
       "    .dataframe thead th {\n",
       "        text-align: right;\n",
       "    }\n",
       "</style>\n",
       "<table border=\"1\" class=\"dataframe\">\n",
       "  <thead>\n",
       "    <tr style=\"text-align: right;\">\n",
       "      <th></th>\n",
       "      <th>CID</th>\n",
       "      <th>IDSURVEY</th>\n",
       "      <th>zCMB</th>\n",
       "      <th>zHEL</th>\n",
       "      <th>MU</th>\n",
       "      <th>MUERR</th>\n",
       "      <th>MUERR_VPEC</th>\n",
       "      <th>MUERR_SYS</th>\n",
       "    </tr>\n",
       "  </thead>\n",
       "  <tbody>\n",
       "    <tr>\n",
       "      <th>0</th>\n",
       "      <td>SN:2521</td>\n",
       "      <td>50</td>\n",
       "      <td>0.01988</td>\n",
       "      <td>0.01988</td>\n",
       "      <td>34.84680</td>\n",
       "      <td>0.1320</td>\n",
       "      <td>0.0736</td>\n",
       "      <td>0.00796</td>\n",
       "    </tr>\n",
       "    <tr>\n",
       "      <th>1</th>\n",
       "      <td>SN:57482</td>\n",
       "      <td>50</td>\n",
       "      <td>0.02321</td>\n",
       "      <td>0.02321</td>\n",
       "      <td>34.89863</td>\n",
       "      <td>0.1551</td>\n",
       "      <td>0.0631</td>\n",
       "      <td>0.00720</td>\n",
       "    </tr>\n",
       "    <tr>\n",
       "      <th>2</th>\n",
       "      <td>SN:52921</td>\n",
       "      <td>50</td>\n",
       "      <td>0.02364</td>\n",
       "      <td>0.02364</td>\n",
       "      <td>35.28915</td>\n",
       "      <td>0.1243</td>\n",
       "      <td>0.0620</td>\n",
       "      <td>0.00771</td>\n",
       "    </tr>\n",
       "    <tr>\n",
       "      <th>3</th>\n",
       "      <td>SN:21365</td>\n",
       "      <td>50</td>\n",
       "      <td>0.02470</td>\n",
       "      <td>0.02470</td>\n",
       "      <td>35.11988</td>\n",
       "      <td>0.1444</td>\n",
       "      <td>0.0594</td>\n",
       "      <td>0.00717</td>\n",
       "    </tr>\n",
       "    <tr>\n",
       "      <th>4</th>\n",
       "      <td>SN:117311</td>\n",
       "      <td>50</td>\n",
       "      <td>0.02471</td>\n",
       "      <td>0.02471</td>\n",
       "      <td>35.19347</td>\n",
       "      <td>0.1232</td>\n",
       "      <td>0.0593</td>\n",
       "      <td>0.00702</td>\n",
       "    </tr>\n",
       "  </tbody>\n",
       "</table>\n",
       "</div>"
      ],
      "text/plain": [
       "         CID  IDSURVEY     zCMB     zHEL        MU   MUERR  MUERR_VPEC  \\\n",
       "0    SN:2521        50  0.01988  0.01988  34.84680  0.1320      0.0736   \n",
       "1   SN:57482        50  0.02321  0.02321  34.89863  0.1551      0.0631   \n",
       "2   SN:52921        50  0.02364  0.02364  35.28915  0.1243      0.0620   \n",
       "3   SN:21365        50  0.02470  0.02470  35.11988  0.1444      0.0594   \n",
       "4  SN:117311        50  0.02471  0.02471  35.19347  0.1232      0.0593   \n",
       "\n",
       "   MUERR_SYS  \n",
       "0    0.00796  \n",
       "1    0.00720  \n",
       "2    0.00771  \n",
       "3    0.00717  \n",
       "4    0.00702  "
      ]
     },
     "execution_count": 2,
     "metadata": {},
     "output_type": "execute_result"
    }
   ],
   "source": [
    "data_folder = 'Data_SNIa_LSST/larger/'\n",
    "df_data = pd.read_csv(data_folder+'hubble_diagram.txt', skiprows=5, sep=' ')\n",
    "# Np = len(dfp.values)\n",
    "# N s=  len(dfs.values)\n",
    "df_data.head()"
   ]
  },
  {
   "cell_type": "code",
   "execution_count": 3,
   "metadata": {},
   "outputs": [
    {
     "data": {
      "text/html": [
       "<div>\n",
       "<style scoped>\n",
       "    .dataframe tbody tr th:only-of-type {\n",
       "        vertical-align: middle;\n",
       "    }\n",
       "\n",
       "    .dataframe tbody tr th {\n",
       "        vertical-align: top;\n",
       "    }\n",
       "\n",
       "    .dataframe thead th {\n",
       "        text-align: right;\n",
       "    }\n",
       "</style>\n",
       "<table border=\"1\" class=\"dataframe\">\n",
       "  <thead>\n",
       "    <tr style=\"text-align: right;\">\n",
       "      <th></th>\n",
       "      <th>CID</th>\n",
       "      <th>IDSURVEY</th>\n",
       "      <th>zCMB</th>\n",
       "      <th>zHEL</th>\n",
       "      <th>MU</th>\n",
       "      <th>MUERR</th>\n",
       "      <th>MUERR_VPEC</th>\n",
       "      <th>MUERR_SYS</th>\n",
       "      <th>errors</th>\n",
       "    </tr>\n",
       "  </thead>\n",
       "  <tbody>\n",
       "    <tr>\n",
       "      <th>0</th>\n",
       "      <td>SN:2521</td>\n",
       "      <td>50</td>\n",
       "      <td>0.01988</td>\n",
       "      <td>0.01988</td>\n",
       "      <td>34.84680</td>\n",
       "      <td>0.1320</td>\n",
       "      <td>0.0736</td>\n",
       "      <td>0.00796</td>\n",
       "      <td>0.13996</td>\n",
       "    </tr>\n",
       "    <tr>\n",
       "      <th>1</th>\n",
       "      <td>SN:57482</td>\n",
       "      <td>50</td>\n",
       "      <td>0.02321</td>\n",
       "      <td>0.02321</td>\n",
       "      <td>34.89863</td>\n",
       "      <td>0.1551</td>\n",
       "      <td>0.0631</td>\n",
       "      <td>0.00720</td>\n",
       "      <td>0.16230</td>\n",
       "    </tr>\n",
       "    <tr>\n",
       "      <th>2</th>\n",
       "      <td>SN:52921</td>\n",
       "      <td>50</td>\n",
       "      <td>0.02364</td>\n",
       "      <td>0.02364</td>\n",
       "      <td>35.28915</td>\n",
       "      <td>0.1243</td>\n",
       "      <td>0.0620</td>\n",
       "      <td>0.00771</td>\n",
       "      <td>0.13201</td>\n",
       "    </tr>\n",
       "    <tr>\n",
       "      <th>3</th>\n",
       "      <td>SN:21365</td>\n",
       "      <td>50</td>\n",
       "      <td>0.02470</td>\n",
       "      <td>0.02470</td>\n",
       "      <td>35.11988</td>\n",
       "      <td>0.1444</td>\n",
       "      <td>0.0594</td>\n",
       "      <td>0.00717</td>\n",
       "      <td>0.15157</td>\n",
       "    </tr>\n",
       "    <tr>\n",
       "      <th>4</th>\n",
       "      <td>SN:117311</td>\n",
       "      <td>50</td>\n",
       "      <td>0.02471</td>\n",
       "      <td>0.02471</td>\n",
       "      <td>35.19347</td>\n",
       "      <td>0.1232</td>\n",
       "      <td>0.0593</td>\n",
       "      <td>0.00702</td>\n",
       "      <td>0.13022</td>\n",
       "    </tr>\n",
       "  </tbody>\n",
       "</table>\n",
       "</div>"
      ],
      "text/plain": [
       "         CID  IDSURVEY     zCMB     zHEL        MU   MUERR  MUERR_VPEC  \\\n",
       "0    SN:2521        50  0.01988  0.01988  34.84680  0.1320      0.0736   \n",
       "1   SN:57482        50  0.02321  0.02321  34.89863  0.1551      0.0631   \n",
       "2   SN:52921        50  0.02364  0.02364  35.28915  0.1243      0.0620   \n",
       "3   SN:21365        50  0.02470  0.02470  35.11988  0.1444      0.0594   \n",
       "4  SN:117311        50  0.02471  0.02471  35.19347  0.1232      0.0593   \n",
       "\n",
       "   MUERR_SYS   errors  \n",
       "0    0.00796  0.13996  \n",
       "1    0.00720  0.16230  \n",
       "2    0.00771  0.13201  \n",
       "3    0.00717  0.15157  \n",
       "4    0.00702  0.13022  "
      ]
     },
     "execution_count": 3,
     "metadata": {},
     "output_type": "execute_result"
    }
   ],
   "source": [
    "df_data['errors'] = df_data['MUERR'].values+df_data['MUERR_SYS'].values\n",
    "df_data.head()"
   ]
  },
  {
   "cell_type": "code",
   "execution_count": 4,
   "metadata": {},
   "outputs": [
    {
     "name": "stderr",
     "output_type": "stream",
     "text": [
      "No artists with labels found to put in legend.  Note that artists whose label start with an underscore are ignored when legend() is called with no argument.\n"
     ]
    },
    {
     "data": {
      "text/plain": [
       "<matplotlib.legend.Legend at 0x7f885df420b0>"
      ]
     },
     "execution_count": 4,
     "metadata": {},
     "output_type": "execute_result"
    },
    {
     "data": {
      "image/png": "[encoded data removed]",
      "text/plain": [
       "<Figure size 1000x600 with 1 Axes>"
      ]
     },
     "metadata": {},
     "output_type": "display_data"
    }
   ],
   "source": [
    "fig = plt.figure(figsize=(10, 6))\n",
    "plt.errorbar(df_data['zCMB'].values, df_data['MU'].values, yerr=df_data['errors'].values, fmt='.', color='b', elinewidth=1, ecolor='red')\n",
    "plt.ylabel(\"$\\mu$\")\n",
    "plt.xlabel(\"Redshift z\")\n",
    "plt.legend()"
   ]
  },
  {
   "cell_type": "code",
   "execution_count": 5,
   "metadata": {},
   "outputs": [],
   "source": [
    "df_data = df_data[['zCMB', 'MU', 'errors']]"
   ]
  },
  {
   "cell_type": "code",
   "execution_count": 6,
   "metadata": {},
   "outputs": [],
   "source": [
    "df_data = df_data[['zCMB', 'MU', 'errors']]"
   ]
  },
  {
   "cell_type": "code",
   "execution_count": 7,
   "metadata": {},
   "outputs": [
    {
     "data": {
      "text/plain": [
       "5785"
      ]
     },
     "execution_count": 7,
     "metadata": {},
     "output_type": "execute_result"
    }
   ],
   "source": [
    "len(df_data)"
   ]
  },
  {
   "cell_type": "code",
   "execution_count": 8,
   "metadata": {},
   "outputs": [
    {
     "data": {
      "text/html": [
       "<div>\n",
       "<style scoped>\n",
       "    .dataframe tbody tr th:only-of-type {\n",
       "        vertical-align: middle;\n",
       "    }\n",
       "\n",
       "    .dataframe tbody tr th {\n",
       "        vertical-align: top;\n",
       "    }\n",
       "\n",
       "    .dataframe thead th {\n",
       "        text-align: right;\n",
       "    }\n",
       "</style>\n",
       "<table border=\"1\" class=\"dataframe\">\n",
       "  <thead>\n",
       "    <tr style=\"text-align: right;\">\n",
       "      <th></th>\n",
       "      <th>zCMB</th>\n",
       "      <th>MU</th>\n",
       "      <th>errors</th>\n",
       "    </tr>\n",
       "  </thead>\n",
       "  <tbody>\n",
       "    <tr>\n",
       "      <th>0</th>\n",
       "      <td>0.01988</td>\n",
       "      <td>34.84680</td>\n",
       "      <td>0.13996</td>\n",
       "    </tr>\n",
       "    <tr>\n",
       "      <th>1</th>\n",
       "      <td>0.02321</td>\n",
       "      <td>34.89863</td>\n",
       "      <td>0.16230</td>\n",
       "    </tr>\n",
       "    <tr>\n",
       "      <th>2</th>\n",
       "      <td>0.02364</td>\n",
       "      <td>35.28915</td>\n",
       "      <td>0.13201</td>\n",
       "    </tr>\n",
       "    <tr>\n",
       "      <th>3</th>\n",
       "      <td>0.02470</td>\n",
       "      <td>35.11988</td>\n",
       "      <td>0.15157</td>\n",
       "    </tr>\n",
       "    <tr>\n",
       "      <th>4</th>\n",
       "      <td>0.02471</td>\n",
       "      <td>35.19347</td>\n",
       "      <td>0.13022</td>\n",
       "    </tr>\n",
       "  </tbody>\n",
       "</table>\n",
       "</div>"
      ],
      "text/plain": [
       "      zCMB        MU   errors\n",
       "0  0.01988  34.84680  0.13996\n",
       "1  0.02321  34.89863  0.16230\n",
       "2  0.02364  35.28915  0.13201\n",
       "3  0.02470  35.11988  0.15157\n",
       "4  0.02471  35.19347  0.13022"
      ]
     },
     "execution_count": 8,
     "metadata": {},
     "output_type": "execute_result"
    }
   ],
   "source": [
    "df_data.head()"
   ]
  },
  {
   "cell_type": "code",
   "execution_count": 9,
   "metadata": {},
   "outputs": [
    {
     "data": {
      "text/plain": [
       "(5785, 5785)"
      ]
     },
     "execution_count": 9,
     "metadata": {},
     "output_type": "execute_result"
    }
   ],
   "source": [
    "z = df_data[['zCMB']].values\n",
    "y = df_data[['MU', 'errors']].values\n",
    "\n",
    "randomize = np.random.permutation(len(z))\n",
    "z = z[randomize]\n",
    "y = y[randomize]\n",
    "len(z), len(y)"
   ]
  },
  {
   "cell_type": "code",
   "execution_count": 10,
   "metadata": {},
   "outputs": [
    {
     "data": {
      "text/plain": [
       "(0.01988, 1.36643)"
      ]
     },
     "execution_count": 10,
     "metadata": {},
     "output_type": "execute_result"
    }
   ],
   "source": [
    "zmin, zmax = np.min(z), np.max(z)\n",
    "zmin, zmax"
   ]
  },
  {
   "cell_type": "code",
   "execution_count": 11,
   "metadata": {},
   "outputs": [
    {
     "name": "stderr",
     "output_type": "stream",
     "text": [
      "No artists with labels found to put in legend.  Note that artists whose label start with an underscore are ignored when legend() is called with no argument.\n"
     ]
    },
    {
     "data": {
      "text/plain": [
       "<matplotlib.legend.Legend at 0x7f885b53aaa0>"
      ]
     },
     "execution_count": 11,
     "metadata": {},
     "output_type": "execute_result"
    },
    {
     "data": {
      "image/png": "[encoded data removed]",
      "text/plain": [
       "<Figure size 1000x600 with 1 Axes>"
      ]
     },
     "metadata": {},
     "output_type": "display_data"
    }
   ],
   "source": [
    "fig = plt.figure(figsize=(10, 6))\n",
    "plt.errorbar(z, y[:,0], yerr=y[:,1], fmt='.', color='b', elinewidth=1, ecolor='red')\n",
    "plt.ylabel(\"$\\mu$\")\n",
    "plt.xlabel(\"Redshift z\")\n",
    "plt.xscale('log')\n",
    "plt.legend()"
   ]
  },
  {
   "cell_type": "code",
   "execution_count": 12,
   "metadata": {},
   "outputs": [],
   "source": [
    "def RHSquared_a_owacdm(a, w0, wa, Om):\n",
    "    rhow = a**(-3*(1.0+w0+wa))*np.exp(-3*wa*(1-a))\n",
    "    return (Om/a**3+(1.0-Om)*rhow)\n",
    "\n",
    "def DistIntegrand_a(a, w0, wa, Om):\n",
    "        return 1./np.sqrt(RHSquared_a_owacdm(a, w0, wa, Om))/a**2\n",
    "    \n",
    "def Da_z(z, w0, wa, Om):\n",
    "        r = intg.quad(DistIntegrand_a, 1./(1+z), 1, args=(w0, wa, Om))\n",
    "        r = r[0]\n",
    "        return r\n",
    "\n",
    "### Hay que revisar esta constante en el return\n",
    "def distance_modulus(z, w0=-1, wa=0.0, Om=0.23):\n",
    "    return 5*np.log10(Da_z(z, w0, wa, Om)*(1+z))+24\n",
    "# +43\n",
    "\n",
    "zmodel = np.linspace(0.01, 2.4, 100)\n",
    "flcdm = []\n",
    "# fowacdm1 = []\n",
    "# fowacdm2 = []\n",
    "# fowacdm3 = []\n",
    "\n",
    "om = 0.27\n",
    "for zzz in zmodel:\n",
    "    flcdm.append(distance_modulus(zzz, w0=-1, wa=0, Om=om))"
   ]
  },
  {
   "cell_type": "code",
   "execution_count": 14,
   "metadata": {},
   "outputs": [
    {
     "data": {
      "text/plain": [
       "((5785, 1), (5785, 2))"
      ]
     },
     "execution_count": 14,
     "metadata": {},
     "output_type": "execute_result"
    }
   ],
   "source": [
    "# yy = y[:,0].reshape(-1,1)\n",
    "# zz = z\n",
    "# split = 0.8\n",
    "# ntrain = int(split * len(zz))\n",
    "# indx = [ntrain]\n",
    "# zz_train, zz_test = np.split(zz, indx)\n",
    "# yy_train, yy_test = np.split(yy, indx)\n",
    "# yy_train = np.append(yy_train, np.array([y[0], y[-1]]))\n",
    "# zz_train = np.append(zz_train, np.array([z[0], z[-1]]))\n",
    "np.shape(z), np.shape(y)"
   ]
  },
  {
   "cell_type": "code",
   "execution_count": 15,
   "metadata": {},
   "outputs": [],
   "source": [
    "# x_train = torch.tensor(z_train).reshape(len(z_train),)\n",
    "# y_train = torch.tensor(y_train)\n",
    "\n",
    "z_torch = torch.from_numpy(z).float()\n",
    "y_torch = torch.from_numpy(y).float()"
   ]
  },
  {
   "cell_type": "code",
   "execution_count": 16,
   "metadata": {},
   "outputs": [],
   "source": [
    "# Definir el modelo de proceso gaussiano\n",
    "class MultitaskGPModel(gpytorch.models.ExactGP):\n",
    "    def __init__(self, train_x, train_y, likelihood):\n",
    "        super(MultitaskGPModel, self).__init__(z_torch, y_torch, likelihood)\n",
    "        self.mean_module = gpytorch.means.MultitaskMean(\n",
    "            gpytorch.means.ConstantMean(), num_tasks=2\n",
    "        )\n",
    "        self.covar_module = gpytorch.kernels.MultitaskKernel(\n",
    "#             gpytorch.kernels.RBFKernel(), num_tasks=2, rank=1\n",
    "            gpytorch.kernels.MaternKernel(nu=1.5, lengthscale=2), num_tasks=2, rank=1\n",
    "#             gpytorch.kernels.SpectralMixtureKernel(num_mixtures=2), num_tasks=2, rank=1\n",
    "        )\n",
    "\n",
    "    def forward(self, x):\n",
    "        mean_x = self.mean_module(x)\n",
    "        covar_x = self.covar_module(x)\n",
    "        return gpytorch.distributions.MultitaskMultivariateNormal(mean_x, covar_x)\n",
    "\n",
    "likelihood = gpytorch.likelihoods.MultitaskGaussianLikelihood(num_tasks=2)\n",
    "model = MultitaskGPModel(z_torch, y_torch, likelihood)"
   ]
  },
  {
   "cell_type": "code",
   "execution_count": 17,
   "metadata": {},
   "outputs": [
    {
     "name": "stdout",
     "output_type": "stream",
     "text": [
      "Iter 1/100 - Loss: 1.413\n",
      "Iter 2/100 - Loss: 1.335\n",
      "Iter 3/100 - Loss: 1.259\n",
      "Iter 4/100 - Loss: 1.183\n",
      "Iter 5/100 - Loss: 1.110\n",
      "Iter 6/100 - Loss: 1.040\n",
      "Iter 7/100 - Loss: 0.974\n",
      "Iter 8/100 - Loss: 0.912\n",
      "Iter 9/100 - Loss: 0.855\n",
      "Iter 10/100 - Loss: 0.802\n",
      "Iter 11/100 - Loss: 0.751\n",
      "Iter 12/100 - Loss: 0.703\n",
      "Iter 13/100 - Loss: 0.656\n",
      "Iter 14/100 - Loss: 0.609\n",
      "Iter 15/100 - Loss: 0.562\n",
      "Iter 16/100 - Loss: 0.515\n",
      "Iter 17/100 - Loss: 0.468\n",
      "Iter 18/100 - Loss: 0.421\n",
      "Iter 19/100 - Loss: 0.374\n",
      "Iter 20/100 - Loss: 0.327\n",
      "Iter 21/100 - Loss: 0.280\n",
      "Iter 22/100 - Loss: 0.234\n",
      "Iter 23/100 - Loss: 0.187\n",
      "Iter 24/100 - Loss: 0.140\n",
      "Iter 25/100 - Loss: 0.094\n",
      "Iter 26/100 - Loss: 0.048\n",
      "Iter 27/100 - Loss: 0.002\n",
      "Iter 28/100 - Loss: -0.043\n",
      "Iter 29/100 - Loss: -0.087\n",
      "Iter 30/100 - Loss: -0.132\n",
      "Iter 31/100 - Loss: -0.175\n",
      "Iter 32/100 - Loss: -0.217\n",
      "Iter 33/100 - Loss: -0.259\n",
      "Iter 34/100 - Loss: -0.300\n",
      "Iter 35/100 - Loss: -0.339\n",
      "Iter 36/100 - Loss: -0.378\n",
      "Iter 37/100 - Loss: -0.415\n",
      "Iter 38/100 - Loss: -0.450\n",
      "Iter 39/100 - Loss: -0.485\n",
      "Iter 40/100 - Loss: -0.517\n",
      "Iter 41/100 - Loss: -0.548\n",
      "Iter 42/100 - Loss: -0.577\n",
      "Iter 43/100 - Loss: -0.603\n",
      "Iter 44/100 - Loss: -0.628\n",
      "Iter 45/100 - Loss: -0.651\n",
      "Iter 46/100 - Loss: -0.672\n",
      "Iter 47/100 - Loss: -0.691\n",
      "Iter 48/100 - Loss: -0.708\n",
      "Iter 49/100 - Loss: -0.724\n",
      "Iter 50/100 - Loss: -0.737\n",
      "Iter 51/100 - Loss: -0.750\n",
      "Iter 52/100 - Loss: -0.761\n",
      "Iter 53/100 - Loss: -0.772\n",
      "Iter 54/100 - Loss: -0.781\n",
      "Iter 55/100 - Loss: -0.791\n",
      "Iter 56/100 - Loss: -0.800\n",
      "Iter 57/100 - Loss: -0.810\n",
      "Iter 58/100 - Loss: -0.819\n",
      "Iter 59/100 - Loss: -0.828\n",
      "Iter 60/100 - Loss: -0.838\n",
      "Iter 61/100 - Loss: -0.847\n",
      "Iter 62/100 - Loss: -0.856\n",
      "Iter 63/100 - Loss: -0.865\n",
      "Iter 64/100 - Loss: -0.873\n",
      "Iter 65/100 - Loss: -0.881\n",
      "Iter 66/100 - Loss: -0.888\n",
      "Iter 67/100 - Loss: -0.893\n",
      "Iter 68/100 - Loss: -0.898\n",
      "Iter 69/100 - Loss: -0.902\n",
      "Iter 70/100 - Loss: -0.905\n",
      "Iter 71/100 - Loss: -0.907\n",
      "Iter 72/100 - Loss: -0.909\n",
      "Iter 73/100 - Loss: -0.910\n",
      "Iter 74/100 - Loss: -0.910\n",
      "Iter 75/100 - Loss: -0.911\n",
      "Iter 76/100 - Loss: -0.911\n",
      "Iter 77/100 - Loss: -0.911\n",
      "Iter 78/100 - Loss: -0.911\n",
      "Iter 79/100 - Loss: -0.911\n",
      "Iter 80/100 - Loss: -0.911\n",
      "Iter 81/100 - Loss: -0.911\n",
      "Iter 82/100 - Loss: -0.911\n",
      "Iter 83/100 - Loss: -0.912\n",
      "Iter 84/100 - Loss: -0.912\n",
      "Iter 85/100 - Loss: -0.912\n",
      "Iter 86/100 - Loss: -0.912\n",
      "Iter 87/100 - Loss: -0.912\n",
      "Iter 88/100 - Loss: -0.913\n",
      "Iter 89/100 - Loss: -0.913\n",
      "Iter 90/100 - Loss: -0.913\n",
      "Iter 91/100 - Loss: -0.913\n",
      "Iter 92/100 - Loss: -0.913\n",
      "Iter 93/100 - Loss: -0.913\n",
      "Iter 94/100 - Loss: -0.913\n",
      "Iter 95/100 - Loss: -0.913\n",
      "Iter 96/100 - Loss: -0.914\n",
      "Iter 97/100 - Loss: -0.914\n",
      "Iter 98/100 - Loss: -0.914\n",
      "Iter 99/100 - Loss: -0.914\n",
      "Iter 100/100 - Loss: -0.914\n"
     ]
    }
   ],
   "source": [
    "# Find optimal model hyperparameters\n",
    "model.train()\n",
    "likelihood.train()\n",
    "\n",
    "# Use the adam optimizer\n",
    "optimizer = torch.optim.Adam(model.parameters(), lr=0.1)  # Includes GaussianLikelihood parameters\n",
    "\n",
    "# \"Loss\" for GPs - the marginal log likelihood\n",
    "mll = gpytorch.mlls.ExactMarginalLogLikelihood(likelihood, model)\n",
    "\n",
    "training_iterations = 100\n",
    "for i in range(training_iterations):\n",
    "    optimizer.zero_grad()\n",
    "    output = model(z_torch)\n",
    "    loss = -mll(output, y_torch)\n",
    "    loss.backward()\n",
    "    print('Iter %d/%d - Loss: %.3f' % (i + 1, training_iterations, loss.item()))\n",
    "    optimizer.step()"
   ]
  },
  {
   "cell_type": "code",
   "execution_count": 18,
   "metadata": {},
   "outputs": [
    {
     "data": {
      "text/plain": [
       "torch.Size([50])"
      ]
     },
     "execution_count": 18,
     "metadata": {},
     "output_type": "execute_result"
    }
   ],
   "source": [
    "minrange = zmin\n",
    "maxrange = zmax\n",
    "x_test = torch.linspace(0, 1.3, 50)\n",
    "np.shape(x_test)"
   ]
  },
  {
   "cell_type": "code",
   "execution_count": 19,
   "metadata": {},
   "outputs": [
    {
     "data": {
      "text/plain": [
       "(torch.Size([50]), torch.Tensor)"
      ]
     },
     "execution_count": 19,
     "metadata": {},
     "output_type": "execute_result"
    }
   ],
   "source": [
    "x_test = x_test.reshape(len(x_test), )\n",
    "# x_test = torch.from_numpy(x_test).float()\n",
    "np.shape(x_test), type(x_test)"
   ]
  },
  {
   "cell_type": "code",
   "execution_count": 20,
   "metadata": {},
   "outputs": [
    {
     "data": {
      "text/plain": [
       "MultitaskGaussianLikelihood(\n",
       "  (raw_task_noises_constraint): GreaterThan(1.000E-04)\n",
       "  (raw_noise_constraint): GreaterThan(1.000E-04)\n",
       ")"
      ]
     },
     "execution_count": 20,
     "metadata": {},
     "output_type": "execute_result"
    }
   ],
   "source": [
    "model.eval()\n",
    "likelihood.eval()"
   ]
  },
  {
   "cell_type": "code",
   "execution_count": 21,
   "metadata": {},
   "outputs": [],
   "source": [
    "f_preds = model(x_test)"
   ]
  },
  {
   "cell_type": "code",
   "execution_count": 28,
   "metadata": {},
   "outputs": [
    {
     "data": {
      "image/png": "[encoded data removed]",
      "text/plain": [
       "<Figure size 640x480 with 1 Axes>"
      ]
     },
     "metadata": {},
     "output_type": "display_data"
    }
   ],
   "source": [
    "# # The gpytorch.settings.fast_pred_var flag activates LOVE (for fast variances)\n",
    "# # See https://arxiv.org/abs/1803.06058\n",
    "with torch.no_grad(), gpytorch.settings.fast_pred_var():\n",
    "    # Obtain the predictive mean and covariance matrix\n",
    "    f_preds = model(x_test)\n",
    "    f_mean_mu = f_preds.mean[:, 0]\n",
    "    f_mean_err = f_preds.mean[:, 1]\n",
    "    f_cov = f_preds.covariance_matrix\n",
    "    # Make predictions by feeding model through likelihood\n",
    "    observed_pred = likelihood(model(x_test))\n",
    "#     print(type(observed_pred))\n",
    "    # Get upper and lower confidence bounds\n",
    "    lower, upper = observed_pred.confidence_region()\n",
    "    lower_mu = lower[:, 0]\n",
    "    upper_mu = upper[:, 0]\n",
    "    lower_err = lower[:, 0]\n",
    "    upper_err = upper[:, 0]\n",
    "    observed_pred_mean_mu = observed_pred.mean.numpy()[:, 0]\n",
    "    observed_pred_mean_err = observed_pred.mean.numpy()[:, 1]\n",
    "#     print(observed_pred.mean.numpy())\n",
    "    plt.plot(x_test.numpy(), observed_pred_mean_mu-19, color='k', label='GP mean', linewidth=2)\n",
    "#     # Shade between the lower and upper confidence bounds\n",
    "    plt.fill_between(x_test.numpy(), lower_mu-19, upper_mu-19, alpha=0.2, label='GP confidence', color='gray')\n",
    "#     plt.errorbar(x_test.numpy(), observed_pred_mean_mu-19, yerr=observed_pred_mean_err)\n",
    "\n",
    "plt.plot(zmodel, flcdm, label='$\\Lambda CDM$', c='b', linewidth=2)\n",
    "plt.errorbar(df_data['zCMB'], df_data['MU']-19, df_data['errors'], fmt='g.', markersize=10, label='Observations', \n",
    "             alpha=0.01)\n",
    "\n",
    "\n",
    "plt.xlim(0,1.3)\n",
    "\n",
    "plt.ylabel(\"$\\mu(z)$\", fontsize=20)\n",
    "plt.xlabel(\"Redshift z\", fontsize=20)\n",
    "plt.xticks(fontsize=15)\n",
    "plt.yticks(fontsize=15)\n",
    "# plt.legend(loc='best')\n",
    "plt.legend(loc='upper left')\n",
    "# plt.show()\n",
    "plt.tight_layout()"
   ]
  },
  {
   "cell_type": "code",
   "execution_count": 23,
   "metadata": {},
   "outputs": [
    {
     "data": {
      "text/plain": [
       "((50,), (50,), (50,))"
      ]
     },
     "execution_count": 23,
     "metadata": {},
     "output_type": "execute_result"
    }
   ],
   "source": [
    "np.shape(x_test.numpy()), np.shape(observed_pred_mean_mu), np.shape(observed_pred_mean_err)"
   ]
  },
  {
   "cell_type": "code",
   "execution_count": null,
   "metadata": {},
   "outputs": [],
   "source": []
  }
 ],
 "metadata": {
  "kernelspec": {
   "display_name": "Python 3 (ipykernel)",
   "language": "python",
   "name": "python3"
  },
  "language_info": {
   "codemirror_mode": {
    "name": "ipython",
    "version": 3
   },
   "file_extension": ".py",
   "mimetype": "text/x-python",
   "name": "python",
   "nbconvert_exporter": "python",
   "pygments_lexer": "ipython3",
   "version": "3.10.9"
  }
 },
 "nbformat": 4,
 "nbformat_minor": 4
}
