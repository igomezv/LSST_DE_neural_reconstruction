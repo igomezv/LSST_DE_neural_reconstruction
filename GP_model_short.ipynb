{
 "cells": [
  {
   "cell_type": "code",
   "execution_count": 1,
   "metadata": {},
   "outputs": [],
   "source": [
    "import os\n",
    "import numpy as np\n",
    "import pandas as pd\n",
    "from scipy.misc import derivative\n",
    "import scipy.integrate as intg\n",
    "import seaborn as sns\n",
    "import matplotlib.pyplot as plt\n",
    "%matplotlib inline\n",
    "\n",
    "from sklearn.metrics import mean_squared_error\n",
    "\n",
    "import torch\n",
    "import gpytorch"
   ]
  },
  {
   "cell_type": "code",
   "execution_count": 2,
   "metadata": {},
   "outputs": [
    {
     "data": {
      "text/html": [
       "<div>\n",
       "<style scoped>\n",
       "    .dataframe tbody tr th:only-of-type {\n",
       "        vertical-align: middle;\n",
       "    }\n",
       "\n",
       "    .dataframe tbody tr th {\n",
       "        vertical-align: top;\n",
       "    }\n",
       "\n",
       "    .dataframe thead th {\n",
       "        text-align: right;\n",
       "    }\n",
       "</style>\n",
       "<table border=\"1\" class=\"dataframe\">\n",
       "  <thead>\n",
       "    <tr style=\"text-align: right;\">\n",
       "      <th></th>\n",
       "      <th>zCMB</th>\n",
       "      <th>zHEL</th>\n",
       "      <th>MU</th>\n",
       "      <th>MUERR</th>\n",
       "      <th>MUERR_SYS</th>\n",
       "    </tr>\n",
       "  </thead>\n",
       "  <tbody>\n",
       "    <tr>\n",
       "      <th>0</th>\n",
       "      <td>0.04131</td>\n",
       "      <td>0.04131</td>\n",
       "      <td>36.31666</td>\n",
       "      <td>0.00969</td>\n",
       "      <td>0.00674</td>\n",
       "    </tr>\n",
       "    <tr>\n",
       "      <th>1</th>\n",
       "      <td>0.06876</td>\n",
       "      <td>0.06876</td>\n",
       "      <td>37.44798</td>\n",
       "      <td>0.00541</td>\n",
       "      <td>0.00627</td>\n",
       "    </tr>\n",
       "    <tr>\n",
       "      <th>2</th>\n",
       "      <td>0.13121</td>\n",
       "      <td>0.13121</td>\n",
       "      <td>38.94492</td>\n",
       "      <td>0.01969</td>\n",
       "      <td>0.00868</td>\n",
       "    </tr>\n",
       "    <tr>\n",
       "      <th>3</th>\n",
       "      <td>0.18499</td>\n",
       "      <td>0.18499</td>\n",
       "      <td>39.75545</td>\n",
       "      <td>0.01338</td>\n",
       "      <td>0.00658</td>\n",
       "    </tr>\n",
       "    <tr>\n",
       "      <th>4</th>\n",
       "      <td>0.24503</td>\n",
       "      <td>0.24503</td>\n",
       "      <td>40.42469</td>\n",
       "      <td>0.01068</td>\n",
       "      <td>0.00590</td>\n",
       "    </tr>\n",
       "  </tbody>\n",
       "</table>\n",
       "</div>"
      ],
      "text/plain": [
       "      zCMB     zHEL        MU    MUERR  MUERR_SYS\n",
       "0  0.04131  0.04131  36.31666  0.00969    0.00674\n",
       "1  0.06876  0.06876  37.44798  0.00541    0.00627\n",
       "2  0.13121  0.13121  38.94492  0.01969    0.00868\n",
       "3  0.18499  0.18499  39.75545  0.01338    0.00658\n",
       "4  0.24503  0.24503  40.42469  0.01068    0.00590"
      ]
     },
     "execution_count": 2,
     "metadata": {},
     "output_type": "execute_result"
    }
   ],
   "source": [
    "data_folder = 'Data_SNIa_LSST/'\n",
    "df_data = pd.read_csv(data_folder+'hubble_diagram_Pr.txt', skiprows=4, sep=' ')\n",
    "# dfs = pd.read_csv(data_folder+'hubble_diagram_Sr.txt', skiprows=4, sep=' ')\n",
    "# Np = len(dfp.values)\n",
    "# Ns= len(dfs.values)\n",
    "df_data.head()"
   ]
  },
  {
   "cell_type": "code",
   "execution_count": 3,
   "metadata": {},
   "outputs": [
    {
     "data": {
      "text/html": [
       "<div>\n",
       "<style scoped>\n",
       "    .dataframe tbody tr th:only-of-type {\n",
       "        vertical-align: middle;\n",
       "    }\n",
       "\n",
       "    .dataframe tbody tr th {\n",
       "        vertical-align: top;\n",
       "    }\n",
       "\n",
       "    .dataframe thead th {\n",
       "        text-align: right;\n",
       "    }\n",
       "</style>\n",
       "<table border=\"1\" class=\"dataframe\">\n",
       "  <thead>\n",
       "    <tr style=\"text-align: right;\">\n",
       "      <th></th>\n",
       "      <th>zCMB</th>\n",
       "      <th>zHEL</th>\n",
       "      <th>MU</th>\n",
       "      <th>MUERR</th>\n",
       "      <th>MUERR_SYS</th>\n",
       "      <th>errors</th>\n",
       "    </tr>\n",
       "  </thead>\n",
       "  <tbody>\n",
       "    <tr>\n",
       "      <th>0</th>\n",
       "      <td>0.04131</td>\n",
       "      <td>0.04131</td>\n",
       "      <td>36.31666</td>\n",
       "      <td>0.00969</td>\n",
       "      <td>0.00674</td>\n",
       "      <td>0.01643</td>\n",
       "    </tr>\n",
       "    <tr>\n",
       "      <th>1</th>\n",
       "      <td>0.06876</td>\n",
       "      <td>0.06876</td>\n",
       "      <td>37.44798</td>\n",
       "      <td>0.00541</td>\n",
       "      <td>0.00627</td>\n",
       "      <td>0.01168</td>\n",
       "    </tr>\n",
       "    <tr>\n",
       "      <th>2</th>\n",
       "      <td>0.13121</td>\n",
       "      <td>0.13121</td>\n",
       "      <td>38.94492</td>\n",
       "      <td>0.01969</td>\n",
       "      <td>0.00868</td>\n",
       "      <td>0.02837</td>\n",
       "    </tr>\n",
       "    <tr>\n",
       "      <th>3</th>\n",
       "      <td>0.18499</td>\n",
       "      <td>0.18499</td>\n",
       "      <td>39.75545</td>\n",
       "      <td>0.01338</td>\n",
       "      <td>0.00658</td>\n",
       "      <td>0.01996</td>\n",
       "    </tr>\n",
       "    <tr>\n",
       "      <th>4</th>\n",
       "      <td>0.24503</td>\n",
       "      <td>0.24503</td>\n",
       "      <td>40.42469</td>\n",
       "      <td>0.01068</td>\n",
       "      <td>0.00590</td>\n",
       "      <td>0.01658</td>\n",
       "    </tr>\n",
       "  </tbody>\n",
       "</table>\n",
       "</div>"
      ],
      "text/plain": [
       "      zCMB     zHEL        MU    MUERR  MUERR_SYS   errors\n",
       "0  0.04131  0.04131  36.31666  0.00969    0.00674  0.01643\n",
       "1  0.06876  0.06876  37.44798  0.00541    0.00627  0.01168\n",
       "2  0.13121  0.13121  38.94492  0.01969    0.00868  0.02837\n",
       "3  0.18499  0.18499  39.75545  0.01338    0.00658  0.01996\n",
       "4  0.24503  0.24503  40.42469  0.01068    0.00590  0.01658"
      ]
     },
     "execution_count": 3,
     "metadata": {},
     "output_type": "execute_result"
    }
   ],
   "source": [
    "df_data['errors'] = df_data['MUERR'].values+df_data['MUERR_SYS'].values\n",
    "df_data.head()"
   ]
  },
  {
   "cell_type": "code",
   "execution_count": 4,
   "metadata": {},
   "outputs": [
    {
     "name": "stderr",
     "output_type": "stream",
     "text": [
      "No artists with labels found to put in legend.  Note that artists whose label start with an underscore are ignored when legend() is called with no argument.\n"
     ]
    },
    {
     "data": {
      "text/plain": [
       "<matplotlib.legend.Legend at 0x7f07ed4819c0>"
      ]
     },
     "execution_count": 4,
     "metadata": {},
     "output_type": "execute_result"
    },
    {
     "data": {
      "image/png": "[encoded data removed]",
      "text/plain": [
       "<Figure size 1000x600 with 1 Axes>"
      ]
     },
     "metadata": {},
     "output_type": "display_data"
    }
   ],
   "source": [
    "fig = plt.figure(figsize=(10, 6))\n",
    "plt.errorbar(df_data['zCMB'].values, df_data['MU'].values, yerr=df_data['errors'].values, fmt='.', color='b', elinewidth=1, ecolor='red')\n",
    "plt.ylabel(\"$\\mu$\")\n",
    "plt.xlabel(\"Redshift z\")\n",
    "plt.legend()"
   ]
  },
  {
   "cell_type": "code",
   "execution_count": 5,
   "metadata": {},
   "outputs": [],
   "source": [
    "df_data = df_data[['zCMB', 'MU', 'errors']]"
   ]
  },
  {
   "cell_type": "code",
   "execution_count": 6,
   "metadata": {},
   "outputs": [
    {
     "data": {
      "text/plain": [
       "14"
      ]
     },
     "execution_count": 6,
     "metadata": {},
     "output_type": "execute_result"
    }
   ],
   "source": [
    "len(df_data)"
   ]
  },
  {
   "cell_type": "code",
   "execution_count": 7,
   "metadata": {},
   "outputs": [
    {
     "data": {
      "text/html": [
       "<div>\n",
       "<style scoped>\n",
       "    .dataframe tbody tr th:only-of-type {\n",
       "        vertical-align: middle;\n",
       "    }\n",
       "\n",
       "    .dataframe tbody tr th {\n",
       "        vertical-align: top;\n",
       "    }\n",
       "\n",
       "    .dataframe thead th {\n",
       "        text-align: right;\n",
       "    }\n",
       "</style>\n",
       "<table border=\"1\" class=\"dataframe\">\n",
       "  <thead>\n",
       "    <tr style=\"text-align: right;\">\n",
       "      <th></th>\n",
       "      <th>zCMB</th>\n",
       "      <th>MU</th>\n",
       "      <th>errors</th>\n",
       "    </tr>\n",
       "  </thead>\n",
       "  <tbody>\n",
       "    <tr>\n",
       "      <th>0</th>\n",
       "      <td>0.04131</td>\n",
       "      <td>36.31666</td>\n",
       "      <td>0.01643</td>\n",
       "    </tr>\n",
       "    <tr>\n",
       "      <th>1</th>\n",
       "      <td>0.06876</td>\n",
       "      <td>37.44798</td>\n",
       "      <td>0.01168</td>\n",
       "    </tr>\n",
       "    <tr>\n",
       "      <th>2</th>\n",
       "      <td>0.13121</td>\n",
       "      <td>38.94492</td>\n",
       "      <td>0.02837</td>\n",
       "    </tr>\n",
       "    <tr>\n",
       "      <th>3</th>\n",
       "      <td>0.18499</td>\n",
       "      <td>39.75545</td>\n",
       "      <td>0.01996</td>\n",
       "    </tr>\n",
       "    <tr>\n",
       "      <th>4</th>\n",
       "      <td>0.24503</td>\n",
       "      <td>40.42469</td>\n",
       "      <td>0.01658</td>\n",
       "    </tr>\n",
       "  </tbody>\n",
       "</table>\n",
       "</div>"
      ],
      "text/plain": [
       "      zCMB        MU   errors\n",
       "0  0.04131  36.31666  0.01643\n",
       "1  0.06876  37.44798  0.01168\n",
       "2  0.13121  38.94492  0.02837\n",
       "3  0.18499  39.75545  0.01996\n",
       "4  0.24503  40.42469  0.01658"
      ]
     },
     "execution_count": 7,
     "metadata": {},
     "output_type": "execute_result"
    }
   ],
   "source": [
    "df_data.head()"
   ]
  },
  {
   "cell_type": "code",
   "execution_count": 8,
   "metadata": {},
   "outputs": [
    {
     "data": {
      "text/plain": [
       "(14, 14)"
      ]
     },
     "execution_count": 8,
     "metadata": {},
     "output_type": "execute_result"
    }
   ],
   "source": [
    "z = df_data[['zCMB']].values\n",
    "y = df_data[['MU', 'errors']].values\n",
    "\n",
    "randomize = np.random.permutation(len(z))\n",
    "z = z[randomize]\n",
    "y = y[randomize]\n",
    "len(z), len(y)"
   ]
  },
  {
   "cell_type": "code",
   "execution_count": 9,
   "metadata": {},
   "outputs": [
    {
     "data": {
      "text/plain": [
       "(0.04131, 1.24447)"
      ]
     },
     "execution_count": 9,
     "metadata": {},
     "output_type": "execute_result"
    }
   ],
   "source": [
    "zmin, zmax = np.min(z), np.max(z)\n",
    "zmin, zmax"
   ]
  },
  {
   "cell_type": "code",
   "execution_count": 10,
   "metadata": {},
   "outputs": [
    {
     "name": "stderr",
     "output_type": "stream",
     "text": [
      "No artists with labels found to put in legend.  Note that artists whose label start with an underscore are ignored when legend() is called with no argument.\n"
     ]
    },
    {
     "data": {
      "text/plain": [
       "<matplotlib.legend.Legend at 0x7f07eb25f460>"
      ]
     },
     "execution_count": 10,
     "metadata": {},
     "output_type": "execute_result"
    },
    {
     "data": {
      "image/png": "[encoded data removed]",
      "text/plain": [
       "<Figure size 1000x600 with 1 Axes>"
      ]
     },
     "metadata": {},
     "output_type": "display_data"
    }
   ],
   "source": [
    "fig = plt.figure(figsize=(10, 6))\n",
    "plt.errorbar(z, y[:, 0], yerr=y[:,1], fmt='.', color='b', elinewidth=1, ecolor='red')\n",
    "plt.ylabel(\"$\\mu$\")\n",
    "plt.xlabel(\"Redshift z\")\n",
    "plt.xscale('log')\n",
    "plt.legend()"
   ]
  },
  {
   "cell_type": "code",
   "execution_count": 11,
   "metadata": {},
   "outputs": [],
   "source": [
    "# split = 0.8\n",
    "# ntrain = int(split * len(z))\n",
    "# indx = [ntrain]\n",
    "# z_train, z_test = np.split(z, indx)\n",
    "# y_train, y_test = np.split(y, indx)"
   ]
  },
  {
   "cell_type": "code",
   "execution_count": 12,
   "metadata": {},
   "outputs": [],
   "source": [
    "def RHSquared_a_owacdm(a, w0, wa, Om):\n",
    "    rhow = a**(-3*(1.0+w0+wa))*np.exp(-3*wa*(1-a))\n",
    "    return (Om/a**3+(1.0-Om)*rhow)\n",
    "\n",
    "def DistIntegrand_a(a, w0, wa, Om):\n",
    "        return 1./np.sqrt(RHSquared_a_owacdm(a, w0, wa, Om))/a**2\n",
    "    \n",
    "def Da_z(z, w0, wa, Om):\n",
    "        r = intg.quad(DistIntegrand_a, 1./(1+z), 1, args=(w0, wa, Om))\n",
    "        r = r[0]\n",
    "        return r\n",
    "\n",
    "### Hay que revisar esta constante en el return\n",
    "def distance_modulus(z, w0=-1, wa=0.0, Om=0.23):\n",
    "    return 5*np.log10(Da_z(z, w0, wa, Om)*(1+z))+24\n",
    "# +43\n",
    "\n",
    "zmodel = np.linspace(0.01, 1.3, 100)\n",
    "flcdm = []\n",
    "# fowacdm1 = []\n",
    "# fowacdm2 = []\n",
    "# fowacdm3 = []\n",
    "\n",
    "om = 0.27\n",
    "for zzz in zmodel:\n",
    "    flcdm.append(distance_modulus(zzz, w0=-1, wa=0, Om=om))"
   ]
  },
  {
   "cell_type": "code",
   "execution_count": 13,
   "metadata": {},
   "outputs": [
    {
     "data": {
      "text/plain": [
       "((14, 1), (14, 2), (14, 1), (14, 2))"
      ]
     },
     "execution_count": 13,
     "metadata": {},
     "output_type": "execute_result"
    }
   ],
   "source": [
    "# yy = y[:,0].reshape(-1,1)\n",
    "# zz = z\n",
    "# split = 0.8\n",
    "# ntrain = int(split * len(zz))\n",
    "# indx = [ntrain]\n",
    "# zz_train, zz_test = np.split(zz, indx)\n",
    "# yy_train, yy_test = np.split(yy, indx)\n",
    "# yy_train = np.append(yy_train, np.array([y[0], y[-1]]))\n",
    "# zz_train = np.append(zz_train, np.array([z[0], z[-1]]))\n",
    "np.shape(z), np.shape(y), np.shape(z), np.shape(y)"
   ]
  },
  {
   "cell_type": "code",
   "execution_count": 14,
   "metadata": {},
   "outputs": [],
   "source": [
    "# x_train = torch.tensor(z_train).reshape(len(z_train),)\n",
    "# y_train = torch.tensor(y_train)\n",
    "\n",
    "z_torch = torch.from_numpy(z).float()\n",
    "y_torch = torch.from_numpy(y).float()"
   ]
  },
  {
   "cell_type": "code",
   "execution_count": 15,
   "metadata": {},
   "outputs": [
    {
     "data": {
      "text/plain": [
       "14"
      ]
     },
     "execution_count": 15,
     "metadata": {},
     "output_type": "execute_result"
    }
   ],
   "source": [
    "len(z)"
   ]
  },
  {
   "cell_type": "code",
   "execution_count": 16,
   "metadata": {},
   "outputs": [
    {
     "data": {
      "text/plain": [
       "((14, 1), (14, 2))"
      ]
     },
     "execution_count": 16,
     "metadata": {},
     "output_type": "execute_result"
    }
   ],
   "source": [
    "np.shape(z), np.shape(y)"
   ]
  },
  {
   "cell_type": "code",
   "execution_count": 17,
   "metadata": {},
   "outputs": [],
   "source": [
    "# Definir el modelo de proceso gaussiano\n",
    "class MultitaskGPModel(gpytorch.models.ExactGP):\n",
    "    def __init__(self, train_x, train_y, likelihood):\n",
    "        super(MultitaskGPModel, self).__init__(z_torch, y_torch, likelihood)\n",
    "        self.mean_module = gpytorch.means.MultitaskMean(\n",
    "            gpytorch.means.ConstantMean(), num_tasks=2\n",
    "        )\n",
    "        self.covar_module = gpytorch.kernels.MultitaskKernel(\n",
    "#             gpytorch.kernels.RBFKernel(), num_tasks=2, rank=1\n",
    "            gpytorch.kernels.MaternKernel(nu=1.5, lengthscale=2), num_tasks=2, rank=1\n",
    "#             gpytorch.kernels.SpectralMixtureKernel(num_mixtures=2), num_tasks=2, rank=1\n",
    "        )\n",
    "\n",
    "    def forward(self, x):\n",
    "        mean_x = self.mean_module(x)\n",
    "        covar_x = self.covar_module(x)\n",
    "        return gpytorch.distributions.MultitaskMultivariateNormal(mean_x, covar_x)\n",
    "\n",
    "likelihood = gpytorch.likelihoods.MultitaskGaussianLikelihood(num_tasks=2)\n",
    "model = MultitaskGPModel(z_torch, y_torch, likelihood)"
   ]
  },
  {
   "cell_type": "code",
   "execution_count": 18,
   "metadata": {},
   "outputs": [
    {
     "name": "stderr",
     "output_type": "stream",
     "text": [
      "/home/isidro/.local/lib/python3.10/site-packages/torch/autograd/__init__.py:197: UserWarning: CUDA initialization: Unexpected error from cudaGetDeviceCount(). Did you run some cuda functions before calling NumCudaDevices() that might have already set an error? Error 804: forward compatibility was attempted on non supported HW (Triggered internally at ../c10/cuda/CUDAFunctions.cpp:109.)\n",
      "  Variable._execution_engine.run_backward(  # Calls into the C++ engine to run the backward pass\n"
     ]
    },
    {
     "name": "stdout",
     "output_type": "stream",
     "text": [
      "Iter 1/100 - Loss: 14.739\n",
      "Iter 2/100 - Loss: 12.768\n",
      "Iter 3/100 - Loss: 11.250\n",
      "Iter 4/100 - Loss: 10.077\n",
      "Iter 5/100 - Loss: 9.155\n",
      "Iter 6/100 - Loss: 8.409\n",
      "Iter 7/100 - Loss: 7.787\n",
      "Iter 8/100 - Loss: 7.254\n",
      "Iter 9/100 - Loss: 6.788\n",
      "Iter 10/100 - Loss: 6.379\n",
      "Iter 11/100 - Loss: 6.016\n",
      "Iter 12/100 - Loss: 5.694\n",
      "Iter 13/100 - Loss: 5.409\n",
      "Iter 14/100 - Loss: 5.156\n",
      "Iter 15/100 - Loss: 4.931\n",
      "Iter 16/100 - Loss: 4.731\n",
      "Iter 17/100 - Loss: 4.551\n",
      "Iter 18/100 - Loss: 4.390\n",
      "Iter 19/100 - Loss: 4.244\n",
      "Iter 20/100 - Loss: 4.111\n",
      "Iter 21/100 - Loss: 3.989\n",
      "Iter 22/100 - Loss: 3.876\n",
      "Iter 23/100 - Loss: 3.770\n",
      "Iter 24/100 - Loss: 3.671\n",
      "Iter 25/100 - Loss: 3.577\n",
      "Iter 26/100 - Loss: 3.487\n",
      "Iter 27/100 - Loss: 3.401\n",
      "Iter 28/100 - Loss: 3.319\n",
      "Iter 29/100 - Loss: 3.239\n",
      "Iter 30/100 - Loss: 3.162\n",
      "Iter 31/100 - Loss: 3.088\n",
      "Iter 32/100 - Loss: 3.017\n",
      "Iter 33/100 - Loss: 2.947\n",
      "Iter 34/100 - Loss: 2.880\n",
      "Iter 35/100 - Loss: 2.815\n",
      "Iter 36/100 - Loss: 2.751\n",
      "Iter 37/100 - Loss: 2.690\n",
      "Iter 38/100 - Loss: 2.630\n",
      "Iter 39/100 - Loss: 2.571\n",
      "Iter 40/100 - Loss: 2.514\n",
      "Iter 41/100 - Loss: 2.458\n",
      "Iter 42/100 - Loss: 2.403\n",
      "Iter 43/100 - Loss: 2.348\n",
      "Iter 44/100 - Loss: 2.295\n",
      "Iter 45/100 - Loss: 2.242\n",
      "Iter 46/100 - Loss: 2.190\n",
      "Iter 47/100 - Loss: 2.139\n",
      "Iter 48/100 - Loss: 2.088\n",
      "Iter 49/100 - Loss: 2.038\n",
      "Iter 50/100 - Loss: 1.988\n",
      "Iter 51/100 - Loss: 1.940\n",
      "Iter 52/100 - Loss: 1.892\n",
      "Iter 53/100 - Loss: 1.844\n",
      "Iter 54/100 - Loss: 1.798\n",
      "Iter 55/100 - Loss: 1.752\n",
      "Iter 56/100 - Loss: 1.707\n",
      "Iter 57/100 - Loss: 1.663\n",
      "Iter 58/100 - Loss: 1.620\n",
      "Iter 59/100 - Loss: 1.577\n",
      "Iter 60/100 - Loss: 1.535\n",
      "Iter 61/100 - Loss: 1.494\n",
      "Iter 62/100 - Loss: 1.453\n",
      "Iter 63/100 - Loss: 1.413\n",
      "Iter 64/100 - Loss: 1.374\n",
      "Iter 65/100 - Loss: 1.335\n",
      "Iter 66/100 - Loss: 1.297\n",
      "Iter 67/100 - Loss: 1.259\n",
      "Iter 68/100 - Loss: 1.223\n",
      "Iter 69/100 - Loss: 1.186\n",
      "Iter 70/100 - Loss: 1.151\n",
      "Iter 71/100 - Loss: 1.115\n",
      "Iter 72/100 - Loss: 1.080\n",
      "Iter 73/100 - Loss: 1.045\n",
      "Iter 74/100 - Loss: 1.011\n",
      "Iter 75/100 - Loss: 0.977\n",
      "Iter 76/100 - Loss: 0.943\n",
      "Iter 77/100 - Loss: 0.909\n",
      "Iter 78/100 - Loss: 0.876\n",
      "Iter 79/100 - Loss: 0.842\n",
      "Iter 80/100 - Loss: 0.809\n",
      "Iter 81/100 - Loss: 0.776\n",
      "Iter 82/100 - Loss: 0.744\n",
      "Iter 83/100 - Loss: 0.711\n",
      "Iter 84/100 - Loss: 0.679\n",
      "Iter 85/100 - Loss: 0.647\n",
      "Iter 86/100 - Loss: 0.615\n",
      "Iter 87/100 - Loss: 0.584\n",
      "Iter 88/100 - Loss: 0.553\n",
      "Iter 89/100 - Loss: 0.522\n",
      "Iter 90/100 - Loss: 0.492\n",
      "Iter 91/100 - Loss: 0.462\n",
      "Iter 92/100 - Loss: 0.433\n",
      "Iter 93/100 - Loss: 0.404\n",
      "Iter 94/100 - Loss: 0.376\n",
      "Iter 95/100 - Loss: 0.348\n",
      "Iter 96/100 - Loss: 0.321\n",
      "Iter 97/100 - Loss: 0.295\n",
      "Iter 98/100 - Loss: 0.269\n",
      "Iter 99/100 - Loss: 0.243\n",
      "Iter 100/100 - Loss: 0.218\n"
     ]
    }
   ],
   "source": [
    "# Find optimal model hyperparameters\n",
    "model.train()\n",
    "likelihood.train()\n",
    "\n",
    "# Use the adam optimizer\n",
    "optimizer = torch.optim.Adam(model.parameters(), lr=0.1)  # Includes GaussianLikelihood parameters\n",
    "\n",
    "# \"Loss\" for GPs - the marginal log likelihood\n",
    "mll = gpytorch.mlls.ExactMarginalLogLikelihood(likelihood, model)\n",
    "\n",
    "training_iterations = 100\n",
    "for i in range(training_iterations):\n",
    "    optimizer.zero_grad()\n",
    "    output = model(z_torch)\n",
    "    loss = -mll(output, y_torch)\n",
    "    loss.backward()\n",
    "    print('Iter %d/%d - Loss: %.3f' % (i + 1, training_iterations, loss.item()))\n",
    "    optimizer.step()"
   ]
  },
  {
   "cell_type": "code",
   "execution_count": 19,
   "metadata": {},
   "outputs": [
    {
     "data": {
      "text/plain": [
       "torch.Size([50])"
      ]
     },
     "execution_count": 19,
     "metadata": {},
     "output_type": "execute_result"
    }
   ],
   "source": [
    "minrange = zmin\n",
    "maxrange = zmax\n",
    "x_test = torch.linspace(0, 1.3, 50)\n",
    "np.shape(x_test)"
   ]
  },
  {
   "cell_type": "code",
   "execution_count": 20,
   "metadata": {},
   "outputs": [
    {
     "data": {
      "text/plain": [
       "(0.04131, 1.24447)"
      ]
     },
     "execution_count": 20,
     "metadata": {},
     "output_type": "execute_result"
    }
   ],
   "source": [
    "zmin, zmax"
   ]
  },
  {
   "cell_type": "code",
   "execution_count": 21,
   "metadata": {},
   "outputs": [
    {
     "data": {
      "text/plain": [
       "(torch.Size([50]), torch.Tensor)"
      ]
     },
     "execution_count": 21,
     "metadata": {},
     "output_type": "execute_result"
    }
   ],
   "source": [
    "x_test = x_test.reshape(len(x_test), )\n",
    "# x_test = torch.from_numpy(x_test).float()\n",
    "np.shape(x_test), type(x_test)"
   ]
  },
  {
   "cell_type": "code",
   "execution_count": 22,
   "metadata": {},
   "outputs": [
    {
     "data": {
      "text/plain": [
       "MultitaskGaussianLikelihood(\n",
       "  (raw_task_noises_constraint): GreaterThan(1.000E-04)\n",
       "  (raw_noise_constraint): GreaterThan(1.000E-04)\n",
       ")"
      ]
     },
     "execution_count": 22,
     "metadata": {},
     "output_type": "execute_result"
    }
   ],
   "source": [
    "model.eval()\n",
    "likelihood.eval()"
   ]
  },
  {
   "cell_type": "code",
   "execution_count": 23,
   "metadata": {},
   "outputs": [],
   "source": [
    "f_preds = model(x_test)"
   ]
  },
  {
   "cell_type": "code",
   "execution_count": 24,
   "metadata": {},
   "outputs": [
    {
     "data": {
      "text/plain": [
       "gpytorch.distributions.multitask_multivariate_normal.MultitaskMultivariateNormal"
      ]
     },
     "execution_count": 24,
     "metadata": {},
     "output_type": "execute_result"
    }
   ],
   "source": [
    "type(f_preds)"
   ]
  },
  {
   "cell_type": "code",
   "execution_count": 25,
   "metadata": {},
   "outputs": [
    {
     "data": {
      "image/png": "[encoded data removed]",
      "text/plain": [
       "<Figure size 640x480 with 1 Axes>"
      ]
     },
     "metadata": {},
     "output_type": "display_data"
    }
   ],
   "source": [
    "# # The gpytorch.settings.fast_pred_var flag activates LOVE (for fast variances)\n",
    "# # See https://arxiv.org/abs/1803.06058\n",
    "with torch.no_grad(), gpytorch.settings.fast_pred_var():\n",
    "    # Obtain the predictive mean and covariance matrix\n",
    "    f_preds = model(x_test)\n",
    "    f_mean_mu = f_preds.mean[:, 0]\n",
    "    f_mean_err = f_preds.mean[:, 1]\n",
    "    f_cov = f_preds.covariance_matrix\n",
    "    # Make predictions by feeding model through likelihood\n",
    "    observed_pred = likelihood(model(x_test))\n",
    "#     print(type(observed_pred))\n",
    "    # Get upper and lower confidence bounds\n",
    "    lower, upper = observed_pred.confidence_region()\n",
    "    lower_mu = lower[:, 0]\n",
    "    upper_mu = upper[:, 0]\n",
    "    lower_err = lower[:, 0]\n",
    "    upper_err = upper[:, 0]\n",
    "    observed_pred_mean_mu = observed_pred.mean.numpy()[:, 0]\n",
    "    observed_pred_mean_err = observed_pred.mean.numpy()[:, 1]\n",
    "#     print(observed_pred.mean.numpy())\n",
    "    plt.plot(x_test.numpy(), observed_pred_mean_mu-19, color='k', label='GP mean', linewidth=5)\n",
    "#     # Shade between the lower and upper confidence bounds\n",
    "    plt.fill_between(x_test.numpy(), lower_mu-19, upper_mu-19, alpha=0.2, label='GP confidence', color='gray')\n",
    "#     plt.errorbar(x_test.numpy(), observed_pred_mean_mu-19, yerr=observed_pred_mean_err)\n",
    "\n",
    "plt.plot(zmodel, flcdm, label='$\\Lambda CDM$', c='b')\n",
    "plt.errorbar(df_data['zCMB'], df_data['MU']-19, df_data['errors'], fmt='g.', markersize=10, label='Observations')\n",
    "\n",
    "\n",
    "plt.xlim(0,1.3)\n",
    "\n",
    "plt.ylabel(\"$\\mu(z)$\", fontsize=20)\n",
    "plt.xlabel(\"Redshift z\", fontsize=20)\n",
    "plt.xticks(fontsize=15)\n",
    "plt.yticks(fontsize=15)\n",
    "# plt.legend(loc='best')\n",
    "plt.legend(loc='upper left')\n",
    "# plt.show()\n",
    "plt.tight_layout()"
   ]
  },
  {
   "cell_type": "code",
   "execution_count": 26,
   "metadata": {},
   "outputs": [
    {
     "data": {
      "text/plain": [
       "((50,), (50,), (50,))"
      ]
     },
     "execution_count": 26,
     "metadata": {},
     "output_type": "execute_result"
    }
   ],
   "source": [
    "np.shape(x_test.numpy()), np.shape(observed_pred_mean_mu), np.shape(observed_pred_mean_err)"
   ]
  },
  {
   "cell_type": "markdown",
   "metadata": {},
   "source": [
    "# Single output 1D and cov matrix"
   ]
  },
  {
   "cell_type": "code",
   "execution_count": 64,
   "metadata": {},
   "outputs": [],
   "source": [
    "class GaussianProcess(gpytorch.models.ExactGP):\n",
    "    def __init__(self, x_train, y_train, likelihood):\n",
    "        super(GaussianProcess, self).__init__(x_train, y_train, likelihood)\n",
    "        self.mean = gpytorch.means.ConstantMean() # Construct the mean function\n",
    "#         self.cov = gpytorch.kernels.SpectralMixtureKernel(num_mixtures=2) # Construct the kernel function\n",
    "#         self.cov = gpytorch.kernels.RBFKernel()\n",
    "        self.cov = gpytorch.kernels.MaternKernel(nu=1.5, lengthscale=0.5)\n",
    "#             gpytorch.kernels.SpectralMixtureKernel(num_mixtures=2), num_tasks=2, rank=1\n",
    "        # Comment the following for RBF Kernel and Matern Kernel\n",
    "#         self.cov.initialize_from_data(x_train, y_train) # Initialize the hyperparameters from data\n",
    "        \n",
    "    def forward(self, x):\n",
    "        # Evaluate the mean and kernel function at x\n",
    "        mean_x = self.mean(x)\n",
    "        cov_x = self.cov(x)\n",
    "        # Return the multivariate normal distribution using the evaluated mean and kernel function\n",
    "        return gpytorch.distributions.MultivariateNormal(mean_x, cov_x)        \n"
   ]
  },
  {
   "cell_type": "code",
   "execution_count": 73,
   "metadata": {},
   "outputs": [],
   "source": [
    "# Initialize the likelihood and model\n",
    "# likelihood2 = gpytorch.likelihoods.GaussianLikelihood()\n",
    "likelihood2 = gpytorch.likelihoods.FixedNoiseGaussianLikelihood(\n",
    "                                noise=y_torch[:, 1],\n",
    "                                learn_additional_noise=False)\n",
    "\n",
    "\n",
    "\n",
    "model2 = GaussianProcess(z_torch, y_torch[:, 0], likelihood2)"
   ]
  },
  {
   "cell_type": "code",
   "execution_count": 74,
   "metadata": {},
   "outputs": [],
   "source": [
    "# Put the model into training mode\n",
    "model2.train()\n",
    "likelihood2.train()\n",
    "\n",
    "# Use the Adam optimizer, with learning rate set to 0.1\n",
    "optimizer = torch.optim.Adam(model2.parameters(), lr=0.1)\n",
    "\n",
    "# Use the negative marginal log-likelihood as the loss function\n",
    "mll2 = gpytorch.mlls.ExactMarginalLogLikelihood(likelihood2, model2)\n",
    "\n",
    "# Set the number of training iterations\n",
    "n_iter = 100"
   ]
  },
  {
   "cell_type": "code",
   "execution_count": 75,
   "metadata": {},
   "outputs": [
    {
     "name": "stdout",
     "output_type": "stream",
     "text": [
      "Iter 1/100 - Loss: 101.975\n",
      "Iter 2/100 - Loss: 98.318\n",
      "Iter 3/100 - Loss: 94.983\n",
      "Iter 4/100 - Loss: 91.944\n",
      "Iter 5/100 - Loss: 89.174\n",
      "Iter 6/100 - Loss: 86.649\n",
      "Iter 7/100 - Loss: 84.345\n",
      "Iter 8/100 - Loss: 82.240\n",
      "Iter 9/100 - Loss: 80.315\n",
      "Iter 10/100 - Loss: 78.552\n",
      "Iter 11/100 - Loss: 76.933\n",
      "Iter 12/100 - Loss: 75.444\n",
      "Iter 13/100 - Loss: 74.072\n",
      "Iter 14/100 - Loss: 72.803\n",
      "Iter 15/100 - Loss: 71.627\n",
      "Iter 16/100 - Loss: 70.534\n",
      "Iter 17/100 - Loss: 69.515\n",
      "Iter 18/100 - Loss: 68.563\n",
      "Iter 19/100 - Loss: 67.670\n",
      "Iter 20/100 - Loss: 66.831\n",
      "Iter 21/100 - Loss: 66.040\n",
      "Iter 22/100 - Loss: 65.292\n",
      "Iter 23/100 - Loss: 64.583\n",
      "Iter 24/100 - Loss: 63.909\n",
      "Iter 25/100 - Loss: 63.267\n",
      "Iter 26/100 - Loss: 62.654\n",
      "Iter 27/100 - Loss: 62.066\n",
      "Iter 28/100 - Loss: 61.503\n",
      "Iter 29/100 - Loss: 60.961\n",
      "Iter 30/100 - Loss: 60.440\n",
      "Iter 31/100 - Loss: 59.936\n",
      "Iter 32/100 - Loss: 59.449\n",
      "Iter 33/100 - Loss: 58.978\n",
      "Iter 34/100 - Loss: 58.520\n",
      "Iter 35/100 - Loss: 58.076\n",
      "Iter 36/100 - Loss: 57.644\n",
      "Iter 37/100 - Loss: 57.223\n",
      "Iter 38/100 - Loss: 56.812\n",
      "Iter 39/100 - Loss: 56.411\n",
      "Iter 40/100 - Loss: 56.019\n",
      "Iter 41/100 - Loss: 55.635\n",
      "Iter 42/100 - Loss: 55.260\n",
      "Iter 43/100 - Loss: 54.891\n",
      "Iter 44/100 - Loss: 54.530\n",
      "Iter 45/100 - Loss: 54.174\n",
      "Iter 46/100 - Loss: 53.825\n",
      "Iter 47/100 - Loss: 53.482\n",
      "Iter 48/100 - Loss: 53.144\n",
      "Iter 49/100 - Loss: 52.811\n",
      "Iter 50/100 - Loss: 52.483\n",
      "Iter 51/100 - Loss: 52.160\n",
      "Iter 52/100 - Loss: 51.841\n",
      "Iter 53/100 - Loss: 51.526\n",
      "Iter 54/100 - Loss: 51.215\n",
      "Iter 55/100 - Loss: 50.908\n",
      "Iter 56/100 - Loss: 50.604\n",
      "Iter 57/100 - Loss: 50.304\n",
      "Iter 58/100 - Loss: 50.007\n",
      "Iter 59/100 - Loss: 49.714\n",
      "Iter 60/100 - Loss: 49.423\n",
      "Iter 61/100 - Loss: 49.135\n",
      "Iter 62/100 - Loss: 48.850\n",
      "Iter 63/100 - Loss: 48.568\n",
      "Iter 64/100 - Loss: 48.288\n",
      "Iter 65/100 - Loss: 48.011\n",
      "Iter 66/100 - Loss: 47.736\n",
      "Iter 67/100 - Loss: 47.463\n",
      "Iter 68/100 - Loss: 47.193\n",
      "Iter 69/100 - Loss: 46.925\n",
      "Iter 70/100 - Loss: 46.659\n",
      "Iter 71/100 - Loss: 46.396\n",
      "Iter 72/100 - Loss: 46.134\n",
      "Iter 73/100 - Loss: 45.874\n",
      "Iter 74/100 - Loss: 45.616\n",
      "Iter 75/100 - Loss: 45.360\n",
      "Iter 76/100 - Loss: 45.106\n",
      "Iter 77/100 - Loss: 44.854\n",
      "Iter 78/100 - Loss: 44.603\n",
      "Iter 79/100 - Loss: 44.354\n",
      "Iter 80/100 - Loss: 44.107\n",
      "Iter 81/100 - Loss: 43.862\n",
      "Iter 82/100 - Loss: 43.618\n",
      "Iter 83/100 - Loss: 43.375\n",
      "Iter 84/100 - Loss: 43.134\n",
      "Iter 85/100 - Loss: 42.895\n",
      "Iter 86/100 - Loss: 42.657\n",
      "Iter 87/100 - Loss: 42.421\n",
      "Iter 88/100 - Loss: 42.186\n",
      "Iter 89/100 - Loss: 41.952\n",
      "Iter 90/100 - Loss: 41.720\n",
      "Iter 91/100 - Loss: 41.489\n",
      "Iter 92/100 - Loss: 41.260\n",
      "Iter 93/100 - Loss: 41.031\n",
      "Iter 94/100 - Loss: 40.805\n",
      "Iter 95/100 - Loss: 40.579\n",
      "Iter 96/100 - Loss: 40.355\n",
      "Iter 97/100 - Loss: 40.132\n",
      "Iter 98/100 - Loss: 39.910\n",
      "Iter 99/100 - Loss: 39.689\n",
      "Iter 100/100 - Loss: 39.470\n"
     ]
    }
   ],
   "source": [
    "for i in range(n_iter):\n",
    "    # Set the gradients from previous iteration to zero\n",
    "    optimizer.zero_grad()\n",
    "    # Output from model\n",
    "    output = model2(z_torch)\n",
    "    # Compute loss and backprop gradients\n",
    "#     loss = -mll(output, y_train.reshape(-1,1))\n",
    "    loss = -mll2(output, y_torch[:, 0].reshape(-1,1)).mean()  # or .sum()\n",
    "    loss.backward()\n",
    "    print('Iter %d/%d - Loss: %.3f' % (i + 1, n_iter, loss.item()))\n",
    "    optimizer.step()"
   ]
  },
  {
   "cell_type": "code",
   "execution_count": 76,
   "metadata": {},
   "outputs": [
    {
     "data": {
      "image/png": "[encoded data removed]",
      "text/plain": [
       "<Figure size 800x800 with 1 Axes>"
      ]
     },
     "metadata": {},
     "output_type": "display_data"
    }
   ],
   "source": [
    "# Plotting\n",
    "# plt.figure(figsize=(5, 4), dpi=100)\n",
    "# The test data is 50 equally-spaced points\n",
    "x_test = torch.linspace(0, 1.3, 50)\n",
    "# Put the model into evaluation mode\n",
    "model2.eval()\n",
    "likelihood2.eval()\n",
    "\n",
    "fig = plt.figure(figsize=(10, 10), dpi=80)\n",
    "\n",
    "# The gpytorch.settings.fast_pred_var flag activates LOVE (for fast variances)\n",
    "# See https://arxiv.org/abs/1803.06058\n",
    "with torch.no_grad(), gpytorch.settings.fast_pred_var():\n",
    "    # Obtain the predictive mean and covariance matrix\n",
    "    f_preds = model2(x_test)\n",
    "    f_mean = f_preds.mean\n",
    "    f_cov = f_preds.covariance_matrix\n",
    "    # Make predictions by feeding model through likelihood\n",
    "    observed_pred = likelihood2(model2(x_test))\n",
    "    # Get upper and lower confidence bounds\n",
    "    lower, upper = observed_pred.confidence_region()\n",
    "    plt.plot(x_test.numpy(), observed_pred.mean.numpy()-19, color='k', label='GP mean', linewidth=5)\n",
    "    # Shade between the lower and upper confidence bounds\n",
    "    plt.fill_between(x_test.numpy(), lower.numpy()-19, upper.numpy()-19, alpha=0.2, label='GP confidence', color='gray')\n",
    "\n",
    "\n",
    "# plt.scatter(scalerz.inverse_transform(zz), yy, color='k', label='Original cosmic chronometers')\n",
    "plt.plot(zmodel, flcdm, label='$\\Lambda CDM$', c='b')\n",
    "plt.errorbar(df_data['zCMB'], df_data['MU']-19, df_data['errors'], fmt='g.', markersize=10, label='Observations')\n",
    "# plt.errorbar(x_test, prediction_mc_dropout[:,0]-19, yerr=sigma, markersize=2, fmt='o', \n",
    "#              ecolor='r', capthick=2, elinewidth=0.8, alpha=0.3, c='m',\n",
    "#              label='Synthetic data with $\\sigma$')\n",
    "\n",
    "plt.xlim(0,1.3)\n",
    "\n",
    "# plt.xlabel('Redshift')\n",
    "# plt.ylabel('$H(z)$')\n",
    "plt.ylabel(\"$\\mu(z)$\", fontsize=20)\n",
    "plt.xlabel(\"Redshift z\", fontsize=20)\n",
    "plt.xticks(fontsize=15)\n",
    "plt.yticks(fontsize=15)\n",
    "# plt.legend(loc='best')\n",
    "plt.legend(loc='upper left')\n",
    "# plt.show()\n",
    "plt.tight_layout()\n",
    "\n",
    "# zCMB \tMU \terrors"
   ]
  },
  {
   "cell_type": "code",
   "execution_count": null,
   "metadata": {},
   "outputs": [],
   "source": []
  },
  {
   "cell_type": "code",
   "execution_count": null,
   "metadata": {},
   "outputs": [],
   "source": []
  },
  {
   "cell_type": "code",
   "execution_count": null,
   "metadata": {},
   "outputs": [],
   "source": []
  }
 ],
 "metadata": {
  "kernelspec": {
   "display_name": "Python 3 (ipykernel)",
   "language": "python",
   "name": "python3"
  },
  "language_info": {
   "codemirror_mode": {
    "name": "ipython",
    "version": 3
   },
   "file_extension": ".py",
   "mimetype": "text/x-python",
   "name": "python",
   "nbconvert_exporter": "python",
   "pygments_lexer": "ipython3",
   "version": "3.10.9"
  }
 },
 "nbformat": 4,
 "nbformat_minor": 4
}
