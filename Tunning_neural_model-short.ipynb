{
 "cells": [
  {
   "cell_type": "code",
   "execution_count": 11,
   "metadata": {},
   "outputs": [],
   "source": [
    "import time\n",
    "import sys\n",
    "\n",
    "import numpy as np\n",
    "import pandas as pd\n",
    "from scipy.misc import derivative\n",
    "import scipy.integrate as intg\n",
    "import seaborn as sns\n",
    "import matplotlib.pyplot as plt\n",
    "%matplotlib inline\n",
    "\n",
    "import tensorflow as tf\n",
    "# from tensorflow.keras.layers import Input, Dense\n",
    "# from tensorflow.keras.models import Model\n",
    "from sklearn.preprocessing import StandardScaler, MinMaxScaler\n",
    "# from tensorflow.keras.optimizers import Adam\n",
    "from tensorflow.keras.optimizers.legacy import Adam\n",
    "# from tensorflow.keras.initializers import Constant, RandomNormal\n",
    "\n",
    "from sklearn.metrics import mean_squared_error\n",
    "from astroNN.nn.layers import MCDropout\n",
    "\n",
    "sys.path.append(\"/home/isidro/Documents/github/nnogada/\")\n",
    "from nnogada import Nnogada\n",
    "\n",
    "np.random.seed(0)"
   ]
  },
  {
   "cell_type": "code",
   "execution_count": 12,
   "metadata": {},
   "outputs": [],
   "source": [
    "# tf.config.list_physical_devices('GPU')\n"
   ]
  },
  {
   "cell_type": "code",
   "execution_count": 13,
   "metadata": {},
   "outputs": [
    {
     "data": {
      "text/html": [
       "<div>\n",
       "<style scoped>\n",
       "    .dataframe tbody tr th:only-of-type {\n",
       "        vertical-align: middle;\n",
       "    }\n",
       "\n",
       "    .dataframe tbody tr th {\n",
       "        vertical-align: top;\n",
       "    }\n",
       "\n",
       "    .dataframe thead th {\n",
       "        text-align: right;\n",
       "    }\n",
       "</style>\n",
       "<table border=\"1\" class=\"dataframe\">\n",
       "  <thead>\n",
       "    <tr style=\"text-align: right;\">\n",
       "      <th></th>\n",
       "      <th>zCMB</th>\n",
       "      <th>zHEL</th>\n",
       "      <th>MU</th>\n",
       "      <th>MUERR</th>\n",
       "      <th>MUERR_SYS</th>\n",
       "    </tr>\n",
       "  </thead>\n",
       "  <tbody>\n",
       "    <tr>\n",
       "      <th>0</th>\n",
       "      <td>0.04131</td>\n",
       "      <td>0.04131</td>\n",
       "      <td>36.31666</td>\n",
       "      <td>0.00969</td>\n",
       "      <td>0.00674</td>\n",
       "    </tr>\n",
       "    <tr>\n",
       "      <th>1</th>\n",
       "      <td>0.06876</td>\n",
       "      <td>0.06876</td>\n",
       "      <td>37.44798</td>\n",
       "      <td>0.00541</td>\n",
       "      <td>0.00627</td>\n",
       "    </tr>\n",
       "    <tr>\n",
       "      <th>2</th>\n",
       "      <td>0.13121</td>\n",
       "      <td>0.13121</td>\n",
       "      <td>38.94492</td>\n",
       "      <td>0.01969</td>\n",
       "      <td>0.00868</td>\n",
       "    </tr>\n",
       "    <tr>\n",
       "      <th>3</th>\n",
       "      <td>0.18499</td>\n",
       "      <td>0.18499</td>\n",
       "      <td>39.75545</td>\n",
       "      <td>0.01338</td>\n",
       "      <td>0.00658</td>\n",
       "    </tr>\n",
       "    <tr>\n",
       "      <th>4</th>\n",
       "      <td>0.24503</td>\n",
       "      <td>0.24503</td>\n",
       "      <td>40.42469</td>\n",
       "      <td>0.01068</td>\n",
       "      <td>0.00590</td>\n",
       "    </tr>\n",
       "  </tbody>\n",
       "</table>\n",
       "</div>"
      ],
      "text/plain": [
       "      zCMB     zHEL        MU    MUERR  MUERR_SYS\n",
       "0  0.04131  0.04131  36.31666  0.00969    0.00674\n",
       "1  0.06876  0.06876  37.44798  0.00541    0.00627\n",
       "2  0.13121  0.13121  38.94492  0.01969    0.00868\n",
       "3  0.18499  0.18499  39.75545  0.01338    0.00658\n",
       "4  0.24503  0.24503  40.42469  0.01068    0.00590"
      ]
     },
     "execution_count": 13,
     "metadata": {},
     "output_type": "execute_result"
    }
   ],
   "source": [
    "data_folder = 'Data_SNIa_LSST/'\n",
    "df_data = pd.read_csv(data_folder+'hubble_diagram_Pr.txt', skiprows=4, sep=' ')\n",
    "# Np = len(dfp.values)\n",
    "# N s=  len(dfs.values)\n",
    "df_data.head()"
   ]
  },
  {
   "cell_type": "code",
   "execution_count": 14,
   "metadata": {},
   "outputs": [
    {
     "data": {
      "text/plain": [
       "array([0.04131, 0.06876, 0.13121, 0.18499, 0.24503, 0.31077, 0.38392,\n",
       "       0.46752, 0.55669, 0.66538, 0.78147, 0.92328, 1.08255, 1.24447])"
      ]
     },
     "execution_count": 14,
     "metadata": {},
     "output_type": "execute_result"
    }
   ],
   "source": [
    "df_data['zCMB'].values"
   ]
  },
  {
   "cell_type": "code",
   "execution_count": 15,
   "metadata": {},
   "outputs": [
    {
     "data": {
      "text/plain": [
       "<matplotlib.legend.Legend at 0x7fed0e765ba0>"
      ]
     },
     "execution_count": 15,
     "metadata": {},
     "output_type": "execute_result"
    },
    {
     "data": {
      "image/png": "[encoded data removed]",
      "text/plain": [
       "<Figure size 1000x600 with 1 Axes>"
      ]
     },
     "metadata": {},
     "output_type": "display_data"
    }
   ],
   "source": [
    "fig = plt.figure(figsize=(10, 6))\n",
    "plt.errorbar(df_data['zCMB'].values, df_data['MU'].values, yerr=df_data['MUERR_SYS'].values, fmt='.', color='b', elinewidth=8, ecolor='red', label='photometric')\n",
    "plt.ylabel(\"$\\mu$\")\n",
    "plt.xlabel(\"Redshift z\")\n",
    "plt.legend()"
   ]
  },
  {
   "cell_type": "code",
   "execution_count": 16,
   "metadata": {},
   "outputs": [
    {
     "data": {
      "text/html": [
       "<div>\n",
       "<style scoped>\n",
       "    .dataframe tbody tr th:only-of-type {\n",
       "        vertical-align: middle;\n",
       "    }\n",
       "\n",
       "    .dataframe tbody tr th {\n",
       "        vertical-align: top;\n",
       "    }\n",
       "\n",
       "    .dataframe thead th {\n",
       "        text-align: right;\n",
       "    }\n",
       "</style>\n",
       "<table border=\"1\" class=\"dataframe\">\n",
       "  <thead>\n",
       "    <tr style=\"text-align: right;\">\n",
       "      <th></th>\n",
       "      <th>zCMB</th>\n",
       "      <th>zHEL</th>\n",
       "      <th>MU</th>\n",
       "      <th>MUERR</th>\n",
       "      <th>MUERR_SYS</th>\n",
       "      <th>errors</th>\n",
       "    </tr>\n",
       "  </thead>\n",
       "  <tbody>\n",
       "    <tr>\n",
       "      <th>0</th>\n",
       "      <td>0.04131</td>\n",
       "      <td>0.04131</td>\n",
       "      <td>36.31666</td>\n",
       "      <td>0.00969</td>\n",
       "      <td>0.00674</td>\n",
       "      <td>0.01348</td>\n",
       "    </tr>\n",
       "    <tr>\n",
       "      <th>1</th>\n",
       "      <td>0.06876</td>\n",
       "      <td>0.06876</td>\n",
       "      <td>37.44798</td>\n",
       "      <td>0.00541</td>\n",
       "      <td>0.00627</td>\n",
       "      <td>0.01254</td>\n",
       "    </tr>\n",
       "    <tr>\n",
       "      <th>2</th>\n",
       "      <td>0.13121</td>\n",
       "      <td>0.13121</td>\n",
       "      <td>38.94492</td>\n",
       "      <td>0.01969</td>\n",
       "      <td>0.00868</td>\n",
       "      <td>0.01736</td>\n",
       "    </tr>\n",
       "    <tr>\n",
       "      <th>3</th>\n",
       "      <td>0.18499</td>\n",
       "      <td>0.18499</td>\n",
       "      <td>39.75545</td>\n",
       "      <td>0.01338</td>\n",
       "      <td>0.00658</td>\n",
       "      <td>0.01316</td>\n",
       "    </tr>\n",
       "    <tr>\n",
       "      <th>4</th>\n",
       "      <td>0.24503</td>\n",
       "      <td>0.24503</td>\n",
       "      <td>40.42469</td>\n",
       "      <td>0.01068</td>\n",
       "      <td>0.00590</td>\n",
       "      <td>0.01180</td>\n",
       "    </tr>\n",
       "  </tbody>\n",
       "</table>\n",
       "</div>"
      ],
      "text/plain": [
       "      zCMB     zHEL        MU    MUERR  MUERR_SYS   errors\n",
       "0  0.04131  0.04131  36.31666  0.00969    0.00674  0.01348\n",
       "1  0.06876  0.06876  37.44798  0.00541    0.00627  0.01254\n",
       "2  0.13121  0.13121  38.94492  0.01969    0.00868  0.01736\n",
       "3  0.18499  0.18499  39.75545  0.01338    0.00658  0.01316\n",
       "4  0.24503  0.24503  40.42469  0.01068    0.00590  0.01180"
      ]
     },
     "execution_count": 16,
     "metadata": {},
     "output_type": "execute_result"
    }
   ],
   "source": [
    "df_data['errors'] = df_data['MUERR_SYS'].values+df_data['MUERR_SYS'].values\n",
    "df_data.head()"
   ]
  },
  {
   "cell_type": "code",
   "execution_count": 17,
   "metadata": {},
   "outputs": [
    {
     "data": {
      "text/plain": [
       "pandas.core.frame.DataFrame"
      ]
     },
     "execution_count": 17,
     "metadata": {},
     "output_type": "execute_result"
    }
   ],
   "source": [
    "type(df_data)"
   ]
  },
  {
   "cell_type": "code",
   "execution_count": 18,
   "metadata": {},
   "outputs": [],
   "source": [
    "df_data = df_data[['zCMB', 'MU', 'errors']]"
   ]
  },
  {
   "cell_type": "code",
   "execution_count": 19,
   "metadata": {},
   "outputs": [
    {
     "data": {
      "text/plain": [
       "(      zCMB        MU   errors\n",
       " 0  0.04131  36.31666  0.01348\n",
       " 1  0.06876  37.44798  0.01254\n",
       " 2  0.13121  38.94492  0.01736\n",
       " 3  0.18499  39.75545  0.01316\n",
       " 4  0.24503  40.42469  0.01180,\n",
       " 14)"
      ]
     },
     "execution_count": 19,
     "metadata": {},
     "output_type": "execute_result"
    }
   ],
   "source": [
    "df_data.head(), len(df_data)"
   ]
  },
  {
   "cell_type": "code",
   "execution_count": 20,
   "metadata": {},
   "outputs": [],
   "source": [
    "noise1x = 0.005*np.random.rand(len(df_data))\n",
    "noise1y = np.zeros((14, 2))\n",
    "noise1y[:,0] = noise1x * 2\n",
    "noise1y[:,1] = noise1x * 0.1\n",
    "\n",
    "noise2x = 0.005*np.random.rand(len(df_data))\n",
    "noise2y = np.zeros((14, 2))\n",
    "noise2y[:,0] = noise2x * 2\n",
    "noise2y[:,1] = noise2x * 0.1"
   ]
  },
  {
   "cell_type": "code",
   "execution_count": 21,
   "metadata": {},
   "outputs": [],
   "source": [
    "z_or = df_data.values[:,0]\n",
    "y_or = df_data.values[:,1:]\n",
    "\n",
    "z = np.append(z_or, z_or+noise1x)\n",
    "z = np.append(z, z_or+noise2x)\n",
    "\n",
    "y = np.append(y_or, y_or+noise1y, axis=0)\n",
    "y = np.append(y, y_or+noise2y, axis=0)\n"
   ]
  },
  {
   "cell_type": "code",
   "execution_count": 22,
   "metadata": {},
   "outputs": [
    {
     "data": {
      "text/plain": [
       "(42, 1)"
      ]
     },
     "execution_count": 22,
     "metadata": {},
     "output_type": "execute_result"
    }
   ],
   "source": [
    "scalerz = StandardScaler()\n",
    "scalerz.fit(z.reshape(-1,1))\n",
    "# apply transform\n",
    "z_sc = scalerz.transform(z.reshape(-1,1))\n",
    "np.shape(z_sc)"
   ]
  },
  {
   "cell_type": "code",
   "execution_count": 23,
   "metadata": {},
   "outputs": [
    {
     "data": {
      "text/plain": [
       "((37, 1), (5, 1), (37, 2), (5, 2))"
      ]
     },
     "execution_count": 23,
     "metadata": {},
     "output_type": "execute_result"
    }
   ],
   "source": [
    "split = 0.9\n",
    "ntrain = int(split * len(z))\n",
    "\n",
    "randomize = np.random.permutation(len(z))\n",
    "z = z_sc[randomize]\n",
    "y = y[randomize]\n",
    "\n",
    "indx = [ntrain]\n",
    "z_train, z_test = np.split(z, indx)\n",
    "y_train, y_test = np.split(y, indx)\n",
    "np.shape(z_train), np.shape(z_test), np.shape(y_train), np.shape(y_test)"
   ]
  },
  {
   "cell_type": "code",
   "execution_count": 25,
   "metadata": {},
   "outputs": [
    {
     "data": {
      "text/plain": [
       "((39, 1), (39, 2))"
      ]
     },
     "execution_count": 25,
     "metadata": {},
     "output_type": "execute_result"
    }
   ],
   "source": [
    "yy_train = np.append(y_train, np.array([y_or[0], y_or[-1]]), axis=0)\n",
    "zz_train = np.append(z_train, np.array([z_sc[0], z_sc[-1]])).reshape(-1,1)\n",
    "np.shape(zz_train), np.shape(yy_train)"
   ]
  },
  {
   "cell_type": "code",
   "execution_count": 27,
   "metadata": {},
   "outputs": [
    {
     "data": {
      "text/plain": [
       "(39, 2)"
      ]
     },
     "execution_count": 27,
     "metadata": {},
     "output_type": "execute_result"
    }
   ],
   "source": [
    "np.shape(yy_train)"
   ]
  },
  {
   "cell_type": "code",
   "execution_count": 29,
   "metadata": {},
   "outputs": [
    {
     "name": "stdout",
     "output_type": "stream",
     "text": [
      "Using CPU\n"
     ]
    }
   ],
   "source": [
    "population_size = 4  # max of individuals per generation\n",
    "max_generations = 10    # number of generations\n",
    "gene_length = 8        # lenght of the gene, depends on how many hiperparameters are tested 2*hyp\n",
    "k = 1                  # num. of finalist individuals\n",
    "\n",
    "t = time.time()\n",
    "datos = []\n",
    "\n",
    "# Define the hyperparameters for the search\n",
    "hyperparams = {'deep': [3, 4], 'num_units': [100, 200], 'batch_size': [8, 16, 32, 64]}\n",
    "\n",
    "# generate a Nnogada instance\n",
    "net_fit = Nnogada(hyp_to_find=hyperparams, X_train=zz_train, Y_train=yy_train, X_val=z_test, Y_val=y_test, \n",
    "                  neural_library='keras', regression=True)\n",
    "# Set the possible values of hyperparameters and not use the default values from hyperparameters.py\n",
    "net_fit.set_hyperparameters()"
   ]
  },
  {
   "cell_type": "code",
   "execution_count": 30,
   "metadata": {},
   "outputs": [
    {
     "name": "stderr",
     "output_type": "stream",
     "text": [
      "  0%|                                                                                                                             | 0/10 [00:00<?, ?it/s]2023-08-09 18:46:56.386883: E tensorflow/compiler/xla/stream_executor/cuda/cuda_driver.cc:266] failed call to cuInit: CUDA_ERROR_NO_DEVICE: no CUDA-capable device is detected\n",
      "2023-08-09 18:46:56.386942: I tensorflow/compiler/xla/stream_executor/cuda/cuda_diagnostics.cc:168] retrieving CUDA diagnostic information for host: isidro-PC\n",
      "2023-08-09 18:46:56.386955: I tensorflow/compiler/xla/stream_executor/cuda/cuda_diagnostics.cc:175] hostname: isidro-PC\n",
      "2023-08-09 18:46:56.387171: I tensorflow/compiler/xla/stream_executor/cuda/cuda_diagnostics.cc:199] libcuda reported version is: 525.125.6\n",
      "2023-08-09 18:46:56.387215: I tensorflow/compiler/xla/stream_executor/cuda/cuda_diagnostics.cc:203] kernel reported version is: 525.125.6\n",
      "2023-08-09 18:46:56.387225: I tensorflow/compiler/xla/stream_executor/cuda/cuda_diagnostics.cc:309] kernel version seems to match DSO: 525.125.6\n",
      "100%|████████████████████████████████████████████████████████████████████████████████████████████████████████████████████| 10/10 [02:17<00:00, 12.74s/it]"
     ]
    },
    {
     "name": "stdout",
     "output_type": "stream",
     "text": [
      "\n",
      "Best 5 solutions:\n",
      "-----------------\n",
      "\n",
      "   deep  num_units  batch_size      loss     score      time\n",
      "0     4        200           8  0.004869  0.004869  7.926574\n",
      "1     3        200           8  0.007280  0.007280  7.539268\n",
      "2     4        200           8  0.007957  0.007957  7.132889\n",
      "3     4        200           8  0.008098  0.008098  5.858260\n",
      "4     4        200           8  0.008241  0.008241  6.644493\n"
     ]
    }
   ],
   "source": [
    "# best solution\n",
    "best_population = net_fit.ga_with_elitism(population_size, max_generations, gene_length, k)"
   ]
  },
  {
   "cell_type": "code",
   "execution_count": 31,
   "metadata": {},
   "outputs": [
    {
     "name": "stdout",
     "output_type": "stream",
     "text": [
      "[[1, 1, 0, 0, 0, 0, 0, 0]]\n",
      "Total elapsed time: 2.7381152550379437 minutes\n"
     ]
    }
   ],
   "source": [
    "print(best_population)\n",
    "print(\"Total elapsed time:\", (time.time()-t)/60, \"minutes\")"
   ]
  },
  {
   "cell_type": "code",
   "execution_count": null,
   "metadata": {},
   "outputs": [],
   "source": []
  }
 ],
 "metadata": {
  "kernelspec": {
   "display_name": "Python 3 (ipykernel)",
   "language": "python",
   "name": "python3"
  },
  "language_info": {
   "codemirror_mode": {
    "name": "ipython",
    "version": 3
   },
   "file_extension": ".py",
   "mimetype": "text/x-python",
   "name": "python",
   "nbconvert_exporter": "python",
   "pygments_lexer": "ipython3",
   "version": "3.10.9"
  }
 },
 "nbformat": 4,
 "nbformat_minor": 4
}
