{
 "cells": [
  {
   "cell_type": "code",
   "execution_count": 1,
   "metadata": {},
   "outputs": [
    {
     "name": "stderr",
     "output_type": "stream",
     "text": [
      "2023-08-27 20:48:09.416938: I tensorflow/core/platform/cpu_feature_guard.cc:182] This TensorFlow binary is optimized to use available CPU instructions in performance-critical operations.\n",
      "To enable the following instructions: AVX2 FMA, in other operations, rebuild TensorFlow with the appropriate compiler flags.\n",
      "2023-08-27 20:48:10.024731: W tensorflow/compiler/tf2tensorrt/utils/py_utils.cc:38] TF-TRT Warning: Could not find TensorRT\n"
     ]
    }
   ],
   "source": [
    "import time\n",
    "import sys\n",
    "\n",
    "import numpy as np\n",
    "import pandas as pd\n",
    "from scipy.misc import derivative\n",
    "import scipy.integrate as intg\n",
    "import seaborn as sns\n",
    "import matplotlib.pyplot as plt\n",
    "%matplotlib inline\n",
    "\n",
    "import tensorflow as tf\n",
    "# from tensorflow.keras.layers import Input, Dense\n",
    "# from tensorflow.keras.models import Model\n",
    "from sklearn.preprocessing import StandardScaler, MinMaxScaler\n",
    "# from tensorflow.keras.optimizers import Adam\n",
    "from tensorflow.keras.optimizers.legacy import Adam\n",
    "# from tensorflow.keras.initializers import Constant, RandomNormal\n",
    "\n",
    "from sklearn.metrics import mean_squared_error\n",
    "from astroNN.nn.layers import MCDropout\n",
    "\n",
    "sys.path.append(\"/home/isidro/Documents/github/nnogada/\")\n",
    "from nnogada import Nnogada\n",
    "\n",
    "np.random.seed(0)"
   ]
  },
  {
   "cell_type": "code",
   "execution_count": 2,
   "metadata": {},
   "outputs": [],
   "source": [
    "# tf.config.list_physical_devices('GPU')\n"
   ]
  },
  {
   "cell_type": "code",
   "execution_count": 3,
   "metadata": {},
   "outputs": [
    {
     "data": {
      "text/html": [
       "<div>\n",
       "<style scoped>\n",
       "    .dataframe tbody tr th:only-of-type {\n",
       "        vertical-align: middle;\n",
       "    }\n",
       "\n",
       "    .dataframe tbody tr th {\n",
       "        vertical-align: top;\n",
       "    }\n",
       "\n",
       "    .dataframe thead th {\n",
       "        text-align: right;\n",
       "    }\n",
       "</style>\n",
       "<table border=\"1\" class=\"dataframe\">\n",
       "  <thead>\n",
       "    <tr style=\"text-align: right;\">\n",
       "      <th></th>\n",
       "      <th>CID</th>\n",
       "      <th>IDSURVEY</th>\n",
       "      <th>zCMB</th>\n",
       "      <th>zHEL</th>\n",
       "      <th>MU</th>\n",
       "      <th>MUERR</th>\n",
       "      <th>MUERR_VPEC</th>\n",
       "      <th>MUERR_SYS</th>\n",
       "    </tr>\n",
       "  </thead>\n",
       "  <tbody>\n",
       "    <tr>\n",
       "      <th>0</th>\n",
       "      <td>SN:2521</td>\n",
       "      <td>50</td>\n",
       "      <td>0.01988</td>\n",
       "      <td>0.01988</td>\n",
       "      <td>34.84680</td>\n",
       "      <td>0.1320</td>\n",
       "      <td>0.0736</td>\n",
       "      <td>0.00796</td>\n",
       "    </tr>\n",
       "    <tr>\n",
       "      <th>1</th>\n",
       "      <td>SN:57482</td>\n",
       "      <td>50</td>\n",
       "      <td>0.02321</td>\n",
       "      <td>0.02321</td>\n",
       "      <td>34.89863</td>\n",
       "      <td>0.1551</td>\n",
       "      <td>0.0631</td>\n",
       "      <td>0.00720</td>\n",
       "    </tr>\n",
       "    <tr>\n",
       "      <th>2</th>\n",
       "      <td>SN:52921</td>\n",
       "      <td>50</td>\n",
       "      <td>0.02364</td>\n",
       "      <td>0.02364</td>\n",
       "      <td>35.28915</td>\n",
       "      <td>0.1243</td>\n",
       "      <td>0.0620</td>\n",
       "      <td>0.00771</td>\n",
       "    </tr>\n",
       "    <tr>\n",
       "      <th>3</th>\n",
       "      <td>SN:21365</td>\n",
       "      <td>50</td>\n",
       "      <td>0.02470</td>\n",
       "      <td>0.02470</td>\n",
       "      <td>35.11988</td>\n",
       "      <td>0.1444</td>\n",
       "      <td>0.0594</td>\n",
       "      <td>0.00717</td>\n",
       "    </tr>\n",
       "    <tr>\n",
       "      <th>4</th>\n",
       "      <td>SN:117311</td>\n",
       "      <td>50</td>\n",
       "      <td>0.02471</td>\n",
       "      <td>0.02471</td>\n",
       "      <td>35.19347</td>\n",
       "      <td>0.1232</td>\n",
       "      <td>0.0593</td>\n",
       "      <td>0.00702</td>\n",
       "    </tr>\n",
       "  </tbody>\n",
       "</table>\n",
       "</div>"
      ],
      "text/plain": [
       "         CID  IDSURVEY     zCMB     zHEL        MU   MUERR  MUERR_VPEC  \\\n",
       "0    SN:2521        50  0.01988  0.01988  34.84680  0.1320      0.0736   \n",
       "1   SN:57482        50  0.02321  0.02321  34.89863  0.1551      0.0631   \n",
       "2   SN:52921        50  0.02364  0.02364  35.28915  0.1243      0.0620   \n",
       "3   SN:21365        50  0.02470  0.02470  35.11988  0.1444      0.0594   \n",
       "4  SN:117311        50  0.02471  0.02471  35.19347  0.1232      0.0593   \n",
       "\n",
       "   MUERR_SYS  \n",
       "0    0.00796  \n",
       "1    0.00720  \n",
       "2    0.00771  \n",
       "3    0.00717  \n",
       "4    0.00702  "
      ]
     },
     "execution_count": 3,
     "metadata": {},
     "output_type": "execute_result"
    }
   ],
   "source": [
    "data_folder = 'Data_SNIa_LSST/larger/'\n",
    "df_data = pd.read_csv(data_folder+'hubble_diagram.txt', skiprows=5, sep=' ')\n",
    "# Np = len(dfp.values)\n",
    "# N s=  len(dfs.values)\n",
    "df_data.head()"
   ]
  },
  {
   "cell_type": "code",
   "execution_count": 4,
   "metadata": {},
   "outputs": [
    {
     "data": {
      "text/plain": [
       "array([0.01988, 0.02321, 0.02364, ..., 1.36191, 1.36306, 1.36643])"
      ]
     },
     "execution_count": 4,
     "metadata": {},
     "output_type": "execute_result"
    }
   ],
   "source": [
    "df_data['zCMB'].values"
   ]
  },
  {
   "cell_type": "code",
   "execution_count": 5,
   "metadata": {},
   "outputs": [
    {
     "data": {
      "text/plain": [
       "<matplotlib.legend.Legend at 0x7f762c38faf0>"
      ]
     },
     "execution_count": 5,
     "metadata": {},
     "output_type": "execute_result"
    },
    {
     "data": {
      "image/png": "[encoded data removed]",
      "text/plain": [
       "<Figure size 1000x600 with 1 Axes>"
      ]
     },
     "metadata": {},
     "output_type": "display_data"
    }
   ],
   "source": [
    "fig = plt.figure(figsize=(10, 6))\n",
    "plt.errorbar(df_data['zCMB'].values, df_data['MU'].values, yerr=df_data['MUERR_SYS'].values, fmt='.', color='b', elinewidth=8, ecolor='red', label='photometric')\n",
    "plt.ylabel(\"$\\mu$\")\n",
    "plt.xlabel(\"Redshift z\")\n",
    "plt.legend()"
   ]
  },
  {
   "cell_type": "code",
   "execution_count": null,
   "metadata": {},
   "outputs": [],
   "source": []
  },
  {
   "cell_type": "code",
   "execution_count": 6,
   "metadata": {},
   "outputs": [
    {
     "data": {
      "text/html": [
       "<div>\n",
       "<style scoped>\n",
       "    .dataframe tbody tr th:only-of-type {\n",
       "        vertical-align: middle;\n",
       "    }\n",
       "\n",
       "    .dataframe tbody tr th {\n",
       "        vertical-align: top;\n",
       "    }\n",
       "\n",
       "    .dataframe thead th {\n",
       "        text-align: right;\n",
       "    }\n",
       "</style>\n",
       "<table border=\"1\" class=\"dataframe\">\n",
       "  <thead>\n",
       "    <tr style=\"text-align: right;\">\n",
       "      <th></th>\n",
       "      <th>CID</th>\n",
       "      <th>IDSURVEY</th>\n",
       "      <th>zCMB</th>\n",
       "      <th>zHEL</th>\n",
       "      <th>MU</th>\n",
       "      <th>MUERR</th>\n",
       "      <th>MUERR_VPEC</th>\n",
       "      <th>MUERR_SYS</th>\n",
       "      <th>errors</th>\n",
       "    </tr>\n",
       "  </thead>\n",
       "  <tbody>\n",
       "    <tr>\n",
       "      <th>0</th>\n",
       "      <td>SN:2521</td>\n",
       "      <td>50</td>\n",
       "      <td>0.01988</td>\n",
       "      <td>0.01988</td>\n",
       "      <td>34.84680</td>\n",
       "      <td>0.1320</td>\n",
       "      <td>0.0736</td>\n",
       "      <td>0.00796</td>\n",
       "      <td>0.13996</td>\n",
       "    </tr>\n",
       "    <tr>\n",
       "      <th>1</th>\n",
       "      <td>SN:57482</td>\n",
       "      <td>50</td>\n",
       "      <td>0.02321</td>\n",
       "      <td>0.02321</td>\n",
       "      <td>34.89863</td>\n",
       "      <td>0.1551</td>\n",
       "      <td>0.0631</td>\n",
       "      <td>0.00720</td>\n",
       "      <td>0.16230</td>\n",
       "    </tr>\n",
       "    <tr>\n",
       "      <th>2</th>\n",
       "      <td>SN:52921</td>\n",
       "      <td>50</td>\n",
       "      <td>0.02364</td>\n",
       "      <td>0.02364</td>\n",
       "      <td>35.28915</td>\n",
       "      <td>0.1243</td>\n",
       "      <td>0.0620</td>\n",
       "      <td>0.00771</td>\n",
       "      <td>0.13201</td>\n",
       "    </tr>\n",
       "    <tr>\n",
       "      <th>3</th>\n",
       "      <td>SN:21365</td>\n",
       "      <td>50</td>\n",
       "      <td>0.02470</td>\n",
       "      <td>0.02470</td>\n",
       "      <td>35.11988</td>\n",
       "      <td>0.1444</td>\n",
       "      <td>0.0594</td>\n",
       "      <td>0.00717</td>\n",
       "      <td>0.15157</td>\n",
       "    </tr>\n",
       "    <tr>\n",
       "      <th>4</th>\n",
       "      <td>SN:117311</td>\n",
       "      <td>50</td>\n",
       "      <td>0.02471</td>\n",
       "      <td>0.02471</td>\n",
       "      <td>35.19347</td>\n",
       "      <td>0.1232</td>\n",
       "      <td>0.0593</td>\n",
       "      <td>0.00702</td>\n",
       "      <td>0.13022</td>\n",
       "    </tr>\n",
       "  </tbody>\n",
       "</table>\n",
       "</div>"
      ],
      "text/plain": [
       "         CID  IDSURVEY     zCMB     zHEL        MU   MUERR  MUERR_VPEC  \\\n",
       "0    SN:2521        50  0.01988  0.01988  34.84680  0.1320      0.0736   \n",
       "1   SN:57482        50  0.02321  0.02321  34.89863  0.1551      0.0631   \n",
       "2   SN:52921        50  0.02364  0.02364  35.28915  0.1243      0.0620   \n",
       "3   SN:21365        50  0.02470  0.02470  35.11988  0.1444      0.0594   \n",
       "4  SN:117311        50  0.02471  0.02471  35.19347  0.1232      0.0593   \n",
       "\n",
       "   MUERR_SYS   errors  \n",
       "0    0.00796  0.13996  \n",
       "1    0.00720  0.16230  \n",
       "2    0.00771  0.13201  \n",
       "3    0.00717  0.15157  \n",
       "4    0.00702  0.13022  "
      ]
     },
     "execution_count": 6,
     "metadata": {},
     "output_type": "execute_result"
    }
   ],
   "source": [
    "df_data['errors'] = df_data['MUERR'].values+df_data['MUERR_SYS'].values\n",
    "df_data.head()"
   ]
  },
  {
   "cell_type": "code",
   "execution_count": 7,
   "metadata": {},
   "outputs": [
    {
     "data": {
      "text/plain": [
       "pandas.core.frame.DataFrame"
      ]
     },
     "execution_count": 7,
     "metadata": {},
     "output_type": "execute_result"
    }
   ],
   "source": [
    "type(df_data)"
   ]
  },
  {
   "cell_type": "code",
   "execution_count": 8,
   "metadata": {},
   "outputs": [],
   "source": [
    "df_data = df_data[['zCMB', 'MU', 'errors']]"
   ]
  },
  {
   "cell_type": "code",
   "execution_count": 9,
   "metadata": {},
   "outputs": [
    {
     "data": {
      "text/plain": [
       "(      zCMB        MU   errors\n",
       " 0  0.01988  34.84680  0.01592\n",
       " 1  0.02321  34.89863  0.01440\n",
       " 2  0.02364  35.28915  0.01542\n",
       " 3  0.02470  35.11988  0.01434\n",
       " 4  0.02471  35.19347  0.01404,\n",
       " 5785)"
      ]
     },
     "execution_count": 9,
     "metadata": {},
     "output_type": "execute_result"
    }
   ],
   "source": [
    "df_data.head(), len(df_data)"
   ]
  },
  {
   "cell_type": "code",
   "execution_count": 10,
   "metadata": {},
   "outputs": [],
   "source": [
    "randomize = np.random.permutation(len(df_data))\n",
    "df_vals = df_data.values[randomize]\n",
    "\n",
    "z = df_vals[:,0]\n",
    "y = df_vals[:,1:]"
   ]
  },
  {
   "cell_type": "code",
   "execution_count": 11,
   "metadata": {},
   "outputs": [],
   "source": [
    "scalerz = StandardScaler()\n",
    "scalerz.fit(z.reshape(-1,1))\n",
    "# apply transform\n",
    "z = scalerz.transform(z.reshape(-1,1))"
   ]
  },
  {
   "cell_type": "code",
   "execution_count": 12,
   "metadata": {},
   "outputs": [],
   "source": [
    "split = 0.8\n",
    "ntrain = int(split * len(z))\n",
    "indx = [ntrain]\n",
    "z_train, z_test = np.split(z, indx)\n",
    "y_train, y_test = np.split(y, indx)"
   ]
  },
  {
   "cell_type": "code",
   "execution_count": 13,
   "metadata": {},
   "outputs": [],
   "source": [
    "def RHSquared_a_owacdm(a, w0, wa, Om):\n",
    "    rhow = a**(-3*(1.0+w0+wa))*np.exp(-3*wa*(1-a))\n",
    "    return (Om/a**3+(1.0-Om)*rhow)\n",
    "\n",
    "def DistIntegrand_a(a, w0, wa, Om):\n",
    "        return 1./np.sqrt(RHSquared_a_owacdm(a, w0, wa, Om))/a**2\n",
    "    \n",
    "def Da_z(z, w0, wa, Om):\n",
    "        r = intg.quad(DistIntegrand_a, 1./(1+z), 1, args=(w0, wa, Om))\n",
    "        r = r[0]\n",
    "        return r\n",
    "\n",
    "### Hay que revisar esta constante en el return\n",
    "def distance_modulus(z, w0=-1, wa=0.0, Om=0.23):\n",
    "    return 5*np.log10(Da_z(z, w0, wa, Om)*(1+z))+24\n",
    "# +43\n",
    "\n",
    "zmodel = np.linspace(0.01, 2.4, 100)\n",
    "flcdm = []\n",
    "# fowacdm1 = []\n",
    "# fowacdm2 = []\n",
    "# fowacdm3 = []\n",
    "\n",
    "om = 0.27\n",
    "for zzz in zmodel:\n",
    "    flcdm.append(distance_modulus(zzz, w0=-1, wa=0, Om=om))"
   ]
  },
  {
   "cell_type": "code",
   "execution_count": 14,
   "metadata": {},
   "outputs": [
    {
     "data": {
      "text/plain": [
       "((4628, 1), (4628, 1), (1157, 1), (1157, 1))"
      ]
     },
     "execution_count": 14,
     "metadata": {},
     "output_type": "execute_result"
    }
   ],
   "source": [
    "yy = y[:,0].reshape(-1,1)\n",
    "zz = z\n",
    "split = 0.8\n",
    "ntrain = int(split * len(zz))\n",
    "indx = [ntrain]\n",
    "zz_train, zz_test = np.split(zz, indx)\n",
    "yy_train, yy_test = np.split(yy, indx)\n",
    "np.shape(zz_train), np.shape(yy_train), np.shape(zz_test), np.shape(yy_test)"
   ]
  },
  {
   "cell_type": "code",
   "execution_count": 15,
   "metadata": {},
   "outputs": [
    {
     "name": "stdout",
     "output_type": "stream",
     "text": [
      "Using CPU\n"
     ]
    }
   ],
   "source": [
    "population_size = 4  # max of individuals per generation\n",
    "max_generations = 10    # number of generations\n",
    "gene_length = 8        # lenght of the gene, depends on how many hiperparameters are tested 2*hyp\n",
    "k = 1                  # num. of finalist individuals\n",
    "\n",
    "t = time.time()\n",
    "datos = []\n",
    "\n",
    "# Define the hyperparameters for the search\n",
    "hyperparams = {'deep': [3, 4], 'num_units': [100, 200], 'batch_size': [8, 16, 32, 64]}\n",
    "\n",
    "# generate a Nnogada instance\n",
    "net_fit = Nnogada(hyp_to_find=hyperparams, X_train=zz_train, Y_train=yy_train, X_val=zz_test, Y_val=yy_test, neural_library='keras', regression=True)\n",
    "# Set the possible values of hyperparameters and not use the default values from hyperparameters.py\n",
    "net_fit.set_hyperparameters()"
   ]
  },
  {
   "cell_type": "code",
   "execution_count": 16,
   "metadata": {},
   "outputs": [
    {
     "name": "stderr",
     "output_type": "stream",
     "text": [
      "  0%|                                                                                                                             | 0/10 [00:00<?, ?it/s]2023-08-09 14:09:20.719574: E tensorflow/compiler/xla/stream_executor/cuda/cuda_driver.cc:266] failed call to cuInit: CUDA_ERROR_NO_DEVICE: no CUDA-capable device is detected\n",
      "2023-08-09 14:09:20.719655: I tensorflow/compiler/xla/stream_executor/cuda/cuda_diagnostics.cc:168] retrieving CUDA diagnostic information for host: isidro-PC\n",
      "2023-08-09 14:09:20.719676: I tensorflow/compiler/xla/stream_executor/cuda/cuda_diagnostics.cc:175] hostname: isidro-PC\n",
      "2023-08-09 14:09:20.719926: I tensorflow/compiler/xla/stream_executor/cuda/cuda_diagnostics.cc:199] libcuda reported version is: 525.125.6\n",
      "2023-08-09 14:09:20.719990: I tensorflow/compiler/xla/stream_executor/cuda/cuda_diagnostics.cc:203] kernel reported version is: 525.125.6\n",
      "2023-08-09 14:09:20.720009: I tensorflow/compiler/xla/stream_executor/cuda/cuda_diagnostics.cc:309] kernel version seems to match DSO: 525.125.6\n",
      "100%|████████████████████████████████████████████████████████████████████████████████████████████████████████████████████| 10/10 [09:09<00:00, 44.65s/it]"
     ]
    },
    {
     "name": "stdout",
     "output_type": "stream",
     "text": [
      "\n",
      "Best 5 solutions:\n",
      "-----------------\n",
      "\n",
      "   deep  num_units  batch_size      loss     score       time\n",
      "0     4        200          32  0.025281  0.025281  23.670403\n",
      "1     4        200          32  0.032538  0.032538  23.597835\n",
      "2     4        200          32  0.033157  0.033157  23.607430\n",
      "3     4        200           8  0.033687  0.033687  77.192532\n",
      "4     4        200          32  0.034361  0.034361  24.007611\n"
     ]
    }
   ],
   "source": [
    "# best solution\n",
    "best_population = net_fit.ga_with_elitism(population_size, max_generations, gene_length, k)"
   ]
  },
  {
   "cell_type": "code",
   "execution_count": 19,
   "metadata": {},
   "outputs": [
    {
     "name": "stdout",
     "output_type": "stream",
     "text": [
      "[[1, 1, 0, 0, 1, 0, 0, 1]]\n",
      "Total elapsed time: 149.29883574644725 minutes\n"
     ]
    }
   ],
   "source": [
    "print(best_population)\n",
    "print(\"Total elapsed time:\", (time.time()-t)/60, \"minutes\")"
   ]
  },
  {
   "cell_type": "code",
   "execution_count": null,
   "metadata": {},
   "outputs": [],
   "source": []
  }
 ],
 "metadata": {
  "kernelspec": {
   "display_name": "Python 3 (ipykernel)",
   "language": "python",
   "name": "python3"
  },
  "language_info": {
   "codemirror_mode": {
    "name": "ipython",
    "version": 3
   },
   "file_extension": ".py",
   "mimetype": "text/x-python",
   "name": "python",
   "nbconvert_exporter": "python",
   "pygments_lexer": "ipython3",
   "version": "3.10.9"
  }
 },
 "nbformat": 4,
 "nbformat_minor": 4
}
